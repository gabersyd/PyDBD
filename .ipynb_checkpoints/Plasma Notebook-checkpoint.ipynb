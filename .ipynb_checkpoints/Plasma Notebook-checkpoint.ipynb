{
 "cells": [
  {
   "cell_type": "markdown",
   "metadata": {
    "slideshow": {
     "slide_type": "-"
    }
   },
   "source": [
    "<h1> Numerical Modeling of Dielectric Barrier Discharge(DBD)</h1>\n"
   ]
  },
  {
   "cell_type": "markdown",
   "metadata": {
    "slideshow": {
     "slide_type": "-"
    }
   },
   "source": [
    "<p style=\"text-align:justify\"> Plasma, also known as the fourth state of matter is the state of matter which consists of ionized particles(ions/electrons) and neutrals. The electric and magnetic force are dominant in the plasma and they play an important role in the its physics. There are different ways of plasma generation that include heating or applying high electric field. Under normal condition plasma do not exist freely on nature as the charged particles try to recombine and form netural particles. Here we discuss about the numerical simulation of special type of plasma known as Dielectrci Barrier Discharge (DBD) that has a lot of industrial importances.</p>"
   ]
  },
  {
   "cell_type": "markdown",
   "metadata": {},
   "source": [
    "### 1. Introduction to Dielectric Barrier Discharge\n",
    "<p style=\"text-align:justify\"> \n",
    "Dielectric Barrier Discharge (DBD) also known as silent discharge is a type of electrical discharge in which at least one of the electrodes is shielded with a dielectric layer. Dielectric which is insulator in nature doesn't allow the flow of charged particles between the electrodes as a result the flux of charged particles towards the dielectric surface causes them to get diposited there. \n",
    "Dielectric Barrier Discharge is a good example of non-thermal plasma. In DBD the ion temperature is very low (close or equal to room temperature) while the electron temperature is very high. This property is regarded as a very important property for industrial use because it enables us to use the plasma for material treatment. The low ion temperature prevents the material from getting melted or burnt (bulk properties) while the high electron temperature helps in changing the properties of the surface being treated.  </p>"
   ]
  },
  {
   "cell_type": "markdown",
   "metadata": {},
   "source": [
    "### 2. Equivalent Experimental Setup\n",
    "***\n",
    " <div style=\"width:500; background-color:white; height:420px; overflow:scroll; overflow-x: hidden;overflow-y:hidden;\">\n",
    "      <img style=\" float:left; display:inline\" src=\"reactor.jpg\" width=\"300\" height=\"400\" alt=\"bbc news special\" />\n",
    "      <img style=\" float:right; display:inline\" src=\"flow.jpg\" width=\"500\" height=\"400\" alt=\"bbc news special\" />\n",
    "</div>\n",
    "  \n",
    "<p style=\"text-align:justify\"> \n",
    "The type of setup used for this research is as shown as in the above figures. The reactor consists of two\n",
    "circular copper electrodes each of thickness 5 mm and diameter 7 cm. The surface of the electrodes\n",
    "are finely polished because the presence of even a tiny spike on the surface would cause arc discharge\n",
    "between the electrodes. Similarly special attention is paid in making the electrodes parallel to each\n",
    "other because if the electrodes are not parallel the plasma would be formed only on the region where\n",
    "the distance between the electrodes is minimum which would make the measurement full of errors.\n",
    "Both the electrodes are covered by glass dielectric of thickness 1mm and diameter 8 cm. The size of\n",
    "dielectric is chosen to be greater than the size of the electrodes in order to ensure that the metallic\n",
    "surfaces are completely shielded because the presence of unshielded metallic surface would result\n",
    "to the generation of secondary electrons due to the collision of ions from plasma with the metallic\n",
    "surface. As the experiment is being conducted in argon medium, the entire setup is enclosed by\n",
    "glass cylinder which is properly insulated against gas-leakage except at the top left corner where\n",
    "butterfly valve is place which has two openings one of which is for the gas inlet and the other is for\n",
    "the gas outlet. The outlet of the butterfly valve can be controlled by rotating its handle. Special\n",
    "precaution is taken in order to ensure that the gas inside the chamber contains no other gases other\n",
    "than argon. For that the chamber is connected to the argon cylinder for several minutes with the\n",
    "outlet valve completely open so that the air inside the chamber gets displaced. Before starting the\n",
    "experiment the outlet of the valve is partially closed in such a manner that the inlet gas neither\n",
    "changes the air pressure inside the chamber nor makes increases the turbulence inside it. The cross\n",
    "section of the chamber is made up of transparent polycarbonate cylinder because the light emitted\n",
    "by the plasma is measured with absorption spectrometer. The space between two dielectrics is set\n",
    "to be 3mm. Uniform glow discharge is obtained in that region. The upper and lower electrodes are\n",
    "connected to a high voltage source . For this experiment the applied voltage is set to be 1000 volts\n",
    "and the frequency of the source is 40 kHz alternating current. Lower electrode is grounded i.e. the\n",
    "value of potential at lower electrode is always set to zero whereas the value of potential at the upper\n",
    "electrode changes according to the applied AC voltage. A voltmeter is connected in parallel to the\n",
    "electrodes in order to measure the value of potential across it while the discharge is being produced\n",
    "whereas a shunt resistor is used in series with the reactor. The voltage across the shunt resistor is\n",
    "also measured and dividing the value of that voltage by the shunt resistance gives the current in the\n",
    "reactor. </p>"
   ]
  },
  {
   "cell_type": "markdown",
   "metadata": {},
   "source": [
    "### 3. Need of Numerical Modeling\n",
    "<p style=\"text-align:justify\"> \n",
    "It is very useful to make a detailed study of plasma\n",
    "parameters before using it in the industrial scale so that the outcome of the plasma treatment on\n",
    "the materials would become predictable. The average value of plasma parameters like electron/ion\n",
    "densities/ temperatures or discharge current can be measured using experimental methods.\n",
    "However, in some instances it is very difficult to measure the value of those parameters at various\n",
    "region between the electrodes i.e. estimating the profile of such parameters between the electrodes.\n",
    "For example, in order to measure the value of electric current at various regions inside a DBD reactor,\n",
    "the current probe has to be moved very finely between the electrodes which is very difficult if the\n",
    "size of the reactor is in micrometer scale because the thickness of the current probe itself is around\n",
    "1mm. Numerical simulation turns out to be very useful in such instances.</p>"
   ]
  },
  {
   "cell_type": "markdown",
   "metadata": {},
   "source": [
    "### 4. Basic Equations\n",
    "The numerical modeling of the physical phenomenon in our DBD reactor has been done by solving\n",
    "the corresponding mathematical equations using appropriate numerical methods. The mathematical\n",
    "equations in this model include the continuity equation that is coupled coupled with Poisson equa-\n",
    "tion along with the equation of charge accumulation on the surface of dielectric. As the reactor is\n",
    "symmetric in axial direction the modeling is done in one dimension only. The differential equations\n",
    "used on this numerical model are discussed below.\n",
    "#### Continuity Equation\n",
    "The continuity equation used in this model is based on the conservation of charge and other neutral\n",
    "species inside the plasma reactor. Particles inside the plasma reactor are either advected or diffused\n",
    "or generated/destroyed by corresponding chemical reactions. The general form of continuity equation\n",
    "used in this model is,\n",
    "\\begin{equation}\n",
    "\\frac{dn}{ dt}+ \\nabla  \\Gamma = S\n",
    "\\end{equation}\n",
    "where $\\Gamma$ is the flux of particles given by,\n",
    "\\begin{equation}\n",
    "\\Gamma \t=(Z nv-D \\nabla n )\n",
    "\\end{equation}\n",
    "\t\n",
    "The first term Znv is the advection component that gives the drift of charged particles \tin the direction of electric field. The positive ions in the plasma move towards the electric field while the electrons and negative ion move away from it. The neutral species(that includes the excited molecules) show no response to the direction of electric field. The $D\\nabla n$ is the diffusion term that gives the flow of particles due the concentration gradient. The particles move from the region of higher concentration to the region of low concentration until there is no concentration gradient. Here n is the number density of plasma species (electron, ion or excited molecules) with charge Z ($\\pm$for electrons/ions), v is the velocity of particles which can be calculated by multiplying the mobility of the charged particle with the electric field. D is the diffusion coefficient of the particles that gives the rate at which the particles are diffused in proportion to the concentration gradient. S is the source/sink term which corresponds to the rate at which a particle is formed or destroyed according to the corresponding chemical reaction. The source/sink term is given by the formula $S=m_ik_in_in_j$,  where m is the mole fraction of the particle being generated, $k_i$ is the corresponding reaction rate of the particle\twith number density ni when it collides with the target particle with number density $n_j$ (neutral molecules). The value of mobility, diffusion and reaction rate are the function of electric field. In this simulation the value of these parameters are obtained from a software named BOLSIG+ [ref..] that solves Boltzmann equation for electrons in weakly ionized gas to calculate the electron transport coefficients and collision rate coefficients which can be used in the fluid models.\n",
    "\n",
    "#### Poisson's Equation\n",
    "The motion of charge inside the plasma reactor causes the variation of charge at various regions between the\n",
    "electrodes which in return causes the variation in electric field inside the reactor. The value of electrostatic\n",
    "potential at various region between the electrodes can be calculated by solving the Poisson equation. Since the\n",
    "transport parameters like mobility and diffusion and the source/sink term used in the continuity equation is the\n",
    "function of electric field, and the electric field can be calculated as the negative gradient of electric potential, the\n",
    "Poisson equation has to be solved each time before solving the continuity equation in the simulation. The\n",
    "Poisson equation can be expressed as:\n",
    "\\begin{equation}\n",
    "\\nabla ^2 V=\\frac{\\rho}{\\epsilon}\n",
    "\\end{equation}\n",
    "where V is the electrostatic potential, $\\rho$ is the charge density which is given by the product of charge of an\n",
    "electron with the net charge in the grid point inside the plasma reactor and $\\epsilon$ is the permittivity of medium.\n",
    "\n",
    "#### Equation of Charge Accumulation on Surface of Dielectric\n",
    "As both the electrodes in this research are covered with dielectric, which is an insulator and cannot conduct the charged particles\n",
    "to the electrodes, the flux of electric charges towards the dielectric causes the deposition of charged particles on\n",
    "the dielectric surface. This is regarded as the important property of DBD because the charge accumulation helps\n",
    "in limiting the value of current between the electrodes and makes the discharge more uniform.\n",
    "The equation of charge accumulation on the surface of dielectric is represented by the following equations.\n",
    "\\begin{equation}\n",
    "\\frac{d \\sigma_e}{dt}=n_ev_e-\\sigma_ev{_e^{des}}-\\alpha_{rec}\\sigma_i\\sigma_e\n",
    "\\end{equation}\n",
    "\\begin{equation}\n",
    "\\frac{d \\sigma_i}{dt}=(i+\\gamma_i)n_iv_i-\\alpha_{rec}\\sigma_i\\sigma_e\n",
    "\\end{equation}\n",
    "\n",
    "where\n",
    "$\\sigma_e$ and $\\sigma_i$ are the surface charge densities of electrons and ions on the dielectric. $\\gamma_i$, $v_e^{des}$ and $\\alpha_{rec}$ are secondary electron emission coefficient, electron desorption frequency and recombination coefficient whose values are 0.01, 10s$^{-1}$ and 10$^{-6}$ cm$^2s^{-1}$ respectively. \n"
   ]
  },
  {
   "cell_type": "markdown",
   "metadata": {},
   "source": [
    "### 5. Numerical Simulation\n",
    "In this modelling all the differential equations are solved using finite difference method. As a first approach all the differential equations are written in finite difference form and the program is executed. The program however becomes unstable and therefore adaptive time stepping is used using Von Neumann Stability analysis. The program becomes stable for quite a long time and finally becomes unstable. The adaptive time stepping makes the simulation very slow as well. Finally implicit solver is used which gives stable solution for a quite long time stepping as well making the simulation very fast as compared to other methods."
   ]
  },
  {
   "cell_type": "markdown",
   "metadata": {},
   "source": [
    "##### 5.1 Computational Domain\n",
    "<img style=\" float:center; display:inline\" src=\"simulation.jpg\"  width=\"450\"/>\n",
    "\n",
    "The space between the electrodes consists of three layers; two dielectrics and one gas layer. Each of these layers is divided into equal numbers of grid points. "
   ]
  },
  {
   "cell_type": "code",
   "execution_count": 3,
   "metadata": {},
   "outputs": [],
   "source": [
    "import numpy as np\n",
    "import sys\n",
    "import matplotlib.pyplot as plt\n",
    "import scipy.sparse.linalg as la\n",
    "import scipy.sparse as sparse\n",
    "#*** Parameters for the of plasma reactor\n",
    "#-------------------------------------------------------------------------------------------------------------\n",
    "width=5.0     #space between two dielectric in mm\n",
    "ngrid0=300     #Number of grid points (between two dielectric)\n",
    "wd1=1.        #width of first dielectric in mm\n",
    "wd2=1.        #width of second dielectric in mm\n",
    "dx=width*10**(-3)/(ngrid0+1.0)#Grid size in meter\n",
    "nwd1=int(wd1*10**(-3)/dx)       #number of grid points in first dielectric\n",
    "nwd2=int(wd2*10**(-3)/dx)       #Number of grid points in second dielectric\n",
    "wd1=nwd1*dx                 #Making wd1 as exact multiple of dx\n",
    "wd2=nwd2*dx                 #making wd2 as exact multiple of dx\n",
    "inelec=width*10**(-3)+wd1+wd2#total interelectrode separation\n",
    "ngrid=int(ngrid0+2+nwd1+nwd2)    #total number of grid points(2 dielectrics +gas medium + all edge points)\n",
    "#--------------------------------------------------------------------------------------------------------------\n",
    "volt=1200.0    #Interelectrode voltage (peak not RMS)\n",
    "gasdens=2.504e25          #number density of gas at NTP (unit: m^-3)\n",
    "dt=1.0e-9 #small tyme interval\n",
    "frequencySource = 40000 #30KHz\n",
    "ee=1.6*10**(-19) #electronic charge\n",
    "e0=8.54187817*10**(-12) #epsilon\n",
    "townsendunit=1.0/((gasdens)*(10)**(-21))\n",
    "Kboltz=1.380*10e-23\n",
    "\n",
    "#*** Initialization\n",
    "#-----------------------------------------------------------------------------------------------------\n",
    "ns=2          #Number of species (Taking helium gas, one is electron and another is helium ion)\n",
    "ndensity=np.zeros((ns,ngrid0+2),float) #Density of each species in all grid points between dielectric\n",
    "ncharge=np.array([-1,1])  #Charge of the each species\n",
    "netcharge=np.zeros(ngrid,float) #net charge at all grid points used to solve poission equation\n",
    "potentl=np.zeros(ngrid,float) #potential at each grid points\n",
    "uu=np.zeros(ngrid,float) #potential at each grid points\n",
    "efield=np.zeros(ngrid0+2,float) #electric field at each grid points\n",
    "mobegrid=np.zeros(ngrid0+2,float)#mobility at grid points, 1 row=1 tyepe of gaseous species\n",
    "difegrid=np.zeros(ngrid0+2,float)#diffusion coefficient at each grid points\n",
    "sourceegrid=np.zeros(ngrid0+2,float)#reaction rate at each grid points\n",
    "mobigrid=np.zeros(ngrid0+2,float)\n",
    "difigrid=np.zeros(ngrid0+2,float)\n",
    "sig_e_left=0.0   #Electron surface charge density at left dielectric\n",
    "sig_e_right=0.0  #Electron surface charge density at right dielectric\n",
    "sig_i_left=0.0   #Ion surface charge density at left dielectric     \n",
    "sig_i_right=0.0  #Ion surface charge density at right dielectric\n",
    "\n",
    "numberOfSteps = 1000000000\n",
    "\n",
    "#ndensity = np.ones((2,ngrid0+2),float)*1000.0\n",
    "ndensity=1000*np.random.rand(2,ngrid0+2)\n"
   ]
  },
  {
   "cell_type": "markdown",
   "metadata": {},
   "source": [
    "##### 5.2 Flow of the program\n",
    "<img style=\" float:center; display:inline\" src=\"flowchart.jpg\"  width=\"400\"/>"
   ]
  },
  {
   "cell_type": "markdown",
   "metadata": {},
   "source": [
    "##### 5.3 Importing the Input transport and reaction rates"
   ]
  },
  {
   "cell_type": "code",
   "execution_count": 4,
   "metadata": {},
   "outputs": [],
   "source": [
    "def readBoltzmannParameters(npoints,oupfile='output.txt'):\n",
    "    #print('*** Importing the value of MOBILITY, DIffusion and reaction rate from a text file')\n",
    "    emobility=np.zeros(npoints,float)\n",
    "    ediffusion=np.zeros(npoints,float)\n",
    "    esourcee=np.zeros(npoints,float)\n",
    "    imobility=np.zeros(npoints,float)\n",
    "    idiffusion=np.zeros(npoints,float)\n",
    "    file=open(oupfile)\n",
    "    line=file.readline()\n",
    "    for data in np.arange(npoints):\n",
    "       line=file.readline()\n",
    "       lineSplit=line.split()\n",
    "       emobility[data]=float(lineSplit[1])\n",
    "    line=file.readline(); line=file.readline();\n",
    "    for data in np.arange(npoints):\n",
    "       line=file.readline()\n",
    "       lineSplit=line.split()\n",
    "       ediffusion[data]=float(lineSplit[1])\n",
    "    line=file.readline(); line=file.readline();\n",
    "    for data in np.arange(npoints):\n",
    "       line=file.readline()\n",
    "       lineSplit=line.split()\n",
    "       esourcee[data]=float(lineSplit[1])\n",
    "    line=file.readline(); line=file.readline();\n",
    "    for data in np.arange(npoints):\n",
    "       line=file.readline()\n",
    "       lineSplit=line.split()\n",
    "       imobility[data]=float(lineSplit[1])\n",
    "    line=file.readline(); line=file.readline();\n",
    "    for data in np.arange(npoints):\n",
    "       line=file.readline()\n",
    "       lineSplit=line.split()\n",
    "       idiffusion[data]=float(lineSplit[1]) \n",
    "    return(emobility,ediffusion,esourcee,imobility,idiffusion)"
   ]
  },
  {
   "cell_type": "markdown",
   "metadata": {},
   "source": [
    "#### 5.1. Numerical Solution of Poisson's Equation\n",
    "\n",
    "The Poisson's Equation is given by\n",
    "\\begin{equation}\n",
    "    \\nabla^2V=-\\rho/ \\epsilon\n",
    "\\end{equation}\n",
    "\n",
    "The finite difference form of this equation is\n",
    "\\begin{equation}\n",
    "    \\frac{V_{i+1}-2V_i+V_{i-1}}{dx^2}=-\\rho/ \\epsilon\n",
    "\\end{equation}\n",
    "\n",
    "or\n",
    "\\begin{equation}\n",
    "   {V_{i+1}-2 V_{i} +V_{i-1}}=-\\rho/ \\epsilon * {dx^2}\n",
    "\\end{equation}\n"
   ]
  },
  {
   "cell_type": "markdown",
   "metadata": {},
   "source": [
    "#### 5.2. Numerical Solution of Continuity Equation"
   ]
  },
  {
   "cell_type": "markdown",
   "metadata": {},
   "source": [
    "##### The Advection Component"
   ]
  },
  {
   "cell_type": "markdown",
   "metadata": {},
   "source": [
    "##### The Diffusion Component"
   ]
  },
  {
   "cell_type": "markdown",
   "metadata": {},
   "source": [
    "##### Non-Implicit Continuity Solver with Adaptive time Stepping"
   ]
  },
  {
   "cell_type": "markdown",
   "metadata": {},
   "source": [
    "##### Implicit Solver with high stability for large time stepping"
   ]
  }
 ],
 "metadata": {
  "kernelspec": {
   "display_name": "Python 2",
   "language": "python",
   "name": "python2"
  },
  "language_info": {
   "codemirror_mode": {
    "name": "ipython",
    "version": 2
   },
   "file_extension": ".py",
   "mimetype": "text/x-python",
   "name": "python",
   "nbconvert_exporter": "python",
   "pygments_lexer": "ipython2",
   "version": "2.7.12"
  }
 },
 "nbformat": 4,
 "nbformat_minor": 2
}
