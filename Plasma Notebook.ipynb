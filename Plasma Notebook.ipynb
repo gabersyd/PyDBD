{
 "cells": [
  {
   "cell_type": "markdown",
   "metadata": {
    "slideshow": {
     "slide_type": "-"
    }
   },
   "source": [
    "<h1> Numerical Modeling of Dielectric Barrier Discharge(DBD)</h1>\n"
   ]
  },
  {
   "cell_type": "markdown",
   "metadata": {
    "slideshow": {
     "slide_type": "-"
    }
   },
   "source": [
    "<p style=\"text-align:justify\"> Plasma, also known as the fourth state of matter is the state of matter which consists of ionized particles(ions/electrons) and neutrals. The electric and magnetic force are dominant in the plasma and they play an important role in the its physics. There are different ways of plasma generation that include heating or applying high electric field. Under normal condition plasma do not exist freely on nature as the charged particles try to recombine and form netural particles. Here we discuss about the numerical simulation of special type of plasma known as Dielectrci Barrier Discharge (DBD) that has a lot of industrial importances.</p>"
   ]
  },
  {
   "cell_type": "markdown",
   "metadata": {},
   "source": [
    "### 1. Introduction to Dielectric Barrier Discharge\n",
    "<p style=\"text-align:justify\"> \n",
    "Dielectric Barrier Discharge (DBD) also known as silent discharge is a type of electrical discharge in which at least one of the electrodes is shielded with a dielectric layer. Dielectric which is insulator in nature doesn't allow the flow of charged particles between the electrodes as a result the flux of charged particles towards the dielectric surface causes them to get diposited there. \n",
    "Dielectric Barrier Discharge is a good example of non-thermal plasma. In DBD the ion temperature is very low (close or equal to room temperature) while the electron temperature is very high. This property is regarded as a very important property for industrial use because it enables us to use the plasma for material treatment. The low ion temperature prevents the material from getting melted or burnt (bulk properties) while the high electron temperature helps in changing the properties of the surface being treated.  </p>"
   ]
  },
  {
   "cell_type": "markdown",
   "metadata": {},
   "source": [
    "### 2. Equivalent Experimental Setup\n",
    "***\n",
    " <div style=\"width:500; background-color:white; height:420px; overflow:scroll; overflow-x: hidden;overflow-y:hidden;\">\n",
    "      <img style=\" float:left; display:inline\" src=\"reactor.jpg\" width=\"300\" height=\"400\" alt=\"bbc news special\" />\n",
    "      <img style=\" float:right; display:inline\" src=\"flow.jpg\" width=\"500\" height=\"400\" alt=\"bbc news special\" />\n",
    "</div>\n",
    "  \n",
    "<p style=\"text-align:justify\"> \n",
    "The type of setup used for this research is as shown as in the above figures. The reactor consists of two\n",
    "circular copper electrodes each of thickness 5 mm and diameter 7 cm. The surface of the electrodes\n",
    "are finely polished because the presence of even a tiny spike on the surface would cause arc discharge\n",
    "between the electrodes. Similarly special attention is paid in making the electrodes parallel to each\n",
    "other because if the electrodes are not parallel the plasma would be formed only on the region where\n",
    "the distance between the electrodes is minimum which would make the measurement full of errors.\n",
    "Both the electrodes are covered by glass dielectric of thickness 1mm and diameter 8 cm. The size of\n",
    "dielectric is chosen to be greater than the size of the electrodes in order to ensure that the metallic\n",
    "surfaces are completely shielded because the presence of unshielded metallic surface would result\n",
    "to the generation of secondary electrons due to the collision of ions from plasma with the metallic\n",
    "surface. As the experiment is being conducted in argon medium, the entire setup is enclosed by\n",
    "glass cylinder which is properly insulated against gas-leakage except at the top left corner where\n",
    "butterfly valve is place which has two openings one of which is for the gas inlet and the other is for\n",
    "the gas outlet. The outlet of the butterfly valve can be controlled by rotating its handle. Special\n",
    "precaution is taken in order to ensure that the gas inside the chamber contains no other gases other\n",
    "than argon. For that the chamber is connected to the argon cylinder for several minutes with the\n",
    "outlet valve completely open so that the air inside the chamber gets displaced. Before starting the\n",
    "experiment the outlet of the valve is partially closed in such a manner that the inlet gas neither\n",
    "changes the air pressure inside the chamber nor makes increases the turbulence inside it. The cross\n",
    "section of the chamber is made up of transparent polycarbonate cylinder because the light emitted\n",
    "by the plasma is measured with absorption spectrometer. The space between two dielectrics is set\n",
    "to be 3mm. Uniform glow discharge is obtained in that region. The upper and lower electrodes are\n",
    "connected to a high voltage source . For this experiment the applied voltage is set to be 1000 volts\n",
    "and the frequency of the source is 40 kHz alternating current. Lower electrode is grounded i.e. the\n",
    "value of potential at lower electrode is always set to zero whereas the value of potential at the upper\n",
    "electrode changes according to the applied AC voltage. A voltmeter is connected in parallel to the\n",
    "electrodes in order to measure the value of potential across it while the discharge is being produced\n",
    "whereas a shunt resistor is used in series with the reactor. The voltage across the shunt resistor is\n",
    "also measured and dividing the value of that voltage by the shunt resistance gives the current in the\n",
    "reactor. </p>\n",
    "\n",
    "<img style=\" float:left; display:inline\" src=\"dischargephoto.jpg\" width=\"300\" height=\"400\" alt=\"bbc news special\" />\n",
    "Photograph of the discharge"
   ]
  },
  {
   "cell_type": "markdown",
   "metadata": {},
   "source": [
    "### 3. Need of Numerical Modeling\n",
    "<p style=\"text-align:justify\"> \n",
    "It is very useful to make a detailed study of plasma\n",
    "parameters before using it in the industrial scale so that the outcome of the plasma treatment on\n",
    "the materials would become predictable. The average value of plasma parameters like electron/ion\n",
    "densities/ temperatures or discharge current can be measured using experimental methods.\n",
    "However, in some instances it is very difficult to measure the value of those parameters at various\n",
    "region between the electrodes i.e. estimating the profile of such parameters between the electrodes.\n",
    "For example, in order to measure the value of electric current at various regions inside a DBD reactor,\n",
    "the current probe has to be moved very finely between the electrodes which is very difficult if the\n",
    "size of the reactor is in micrometer scale because the thickness of the current probe itself is around\n",
    "1mm. Numerical simulation turns out to be very useful in such instances.</p>"
   ]
  },
  {
   "cell_type": "markdown",
   "metadata": {},
   "source": [
    "### 4. Basic Equations\n",
    "The numerical modeling of the physical phenomenon in our DBD reactor has been done by solving\n",
    "the corresponding mathematical equations using appropriate numerical methods. The mathematical\n",
    "equations in this model include the continuity equation that is coupled coupled with Poisson equa-\n",
    "tion along with the equation of charge accumulation on the surface of dielectric. As the reactor is\n",
    "symmetric in axial direction the modeling is done in one dimension only. The differential equations\n",
    "used on this numerical model are discussed below.\n",
    "#### Continuity Equation\n",
    "The continuity equation used in this model is based on the conservation of charge and other neutral\n",
    "species inside the plasma reactor. Particles inside the plasma reactor are either advected or diffused\n",
    "or generated/destroyed by corresponding chemical reactions. The general form of continuity equation\n",
    "used in this model is,\n",
    "\\begin{equation}\n",
    "\\frac{dn}{ dt}+ \\nabla  \\Gamma = S\n",
    "\\end{equation}\n",
    "where $\\Gamma$ is the flux of particles given by,\n",
    "\\begin{equation}\n",
    "\\Gamma \t=(Z nv-D \\nabla n )\n",
    "\\end{equation}\n",
    "\t\n",
    "The first term Znv is the advection component that gives the drift of charged particles \tin the direction of electric field. The positive ions in the plasma move towards the electric field while the electrons and negative ion move away from it. The neutral species(that includes the excited molecules) show no response to the direction of electric field. The $D\\nabla n$ is the diffusion term that gives the flow of particles due the concentration gradient. The particles move from the region of higher concentration to the region of low concentration until there is no concentration gradient. Here n is the number density of plasma species (electron, ion or excited molecules) with charge Z ($\\pm$for electrons/ions), v is the velocity of particles which can be calculated by multiplying the mobility of the charged particle with the electric field. D is the diffusion coefficient of the particles that gives the rate at which the particles are diffused in proportion to the concentration gradient. S is the source/sink term which corresponds to the rate at which a particle is formed or destroyed according to the corresponding chemical reaction. The source/sink term is given by the formula $S=m_ik_in_in_j$,  where m is the mole fraction of the particle being generated, $k_i$ is the corresponding reaction rate of the particle\twith number density ni when it collides with the target particle with number density $n_j$ (neutral molecules). The value of mobility, diffusion and reaction rate are the function of electric field. In this simulation the value of these parameters are obtained from a software named BOLSIG+ [ref..] that solves Boltzmann equation for electrons in weakly ionized gas to calculate the electron transport coefficients and collision rate coefficients which can be used in the fluid models.\n",
    "\n",
    "#### Poisson's Equation\n",
    "The motion of charge inside the plasma reactor causes the variation of charge at various regions between the\n",
    "electrodes which in return causes the variation in electric field inside the reactor. The value of electrostatic\n",
    "potential at various region between the electrodes can be calculated by solving the Poisson equation. Since the\n",
    "transport parameters like mobility and diffusion and the source/sink term used in the continuity equation is the\n",
    "function of electric field, and the electric field can be calculated as the negative gradient of electric potential, the\n",
    "Poisson equation has to be solved each time before solving the continuity equation in the simulation. The\n",
    "Poisson equation can be expressed as:\n",
    "\\begin{equation}\n",
    "\\nabla ^2 V=\\frac{\\rho}{\\epsilon}\n",
    "\\end{equation}\n",
    "where V is the electrostatic potential, $\\rho$ is the charge density which is given by the product of charge of an\n",
    "electron with the net charge in the grid point inside the plasma reactor and $\\epsilon$ is the permittivity of medium.\n",
    "\n",
    "#### Equation of Charge Accumulation on Surface of Dielectric\n",
    "As both the electrodes in this research are covered with dielectric, which is an insulator and cannot conduct the charged particles\n",
    "to the electrodes, the flux of electric charges towards the dielectric causes the deposition of charged particles on\n",
    "the dielectric surface. This is regarded as the important property of DBD because the charge accumulation helps\n",
    "in limiting the value of current between the electrodes and makes the discharge more uniform.\n",
    "The equation of charge accumulation on the surface of dielectric is represented by the following equations.\n",
    "\n",
    "$$\\frac{d \\sigma_e}{dt}=n_e v_e-\\sigma_ev{_e^{des}}-\\alpha_{rec}\\sigma_i\\sigma_e$$\n",
    "\n",
    "and\n",
    "$$\\frac{d \\sigma_i}{dt}=(1+\\gamma_i)n_iv_i-\\alpha_{rec}\\sigma_i\\sigma_e$$\n",
    "\n",
    "where\n",
    "$\\sigma_e$ and $\\sigma_i$ are the surface charge densities of electrons and ions on the dielectric. $\\gamma_i$, $v_e^{des}$ and $\\alpha_{rec}$ are secondary electron emission coefficient, electron desorption frequency and recombination coefficient whose values are 0.01, $10s^{-1}$ and $10^{-6} cm^2s^{-1}$ respectively. \n"
   ]
  },
  {
   "cell_type": "markdown",
   "metadata": {},
   "source": [
    "### 5. Numerical Simulation\n",
    "In this modelling all the differential equations are solved using finite difference method. As a first approach all the differential equations are written in finite difference form and the program is executed. The program however becomes unstable and therefore adaptive time stepping is used using Von Neumann Stability analysis. The program becomes stable for quite a long time and finally becomes unstable. The adaptive time stepping makes the simulation very slow as well. Finally implicit solver is used which gives stable solution for a quite long time stepping as well making the simulation very fast as compared to other methods."
   ]
  },
  {
   "cell_type": "markdown",
   "metadata": {},
   "source": [
    "##### 5.1 Computational Domain\n",
    "<img style=\" float:center; display:inline\" src=\"simulation.jpg\"  width=\"450\"/>\n",
    "\n",
    "The space between the electrodes consists of three layers; two dielectrics and one gas layer. Each of these layers is divided into equal numbers of grid points. "
   ]
  },
  {
   "cell_type": "code",
   "execution_count": 6,
   "metadata": {},
   "outputs": [],
   "source": [
    "import numpy as np\n",
    "import sys\n",
    "import matplotlib.pyplot as plt\n",
    "import scipy.sparse.linalg as la\n",
    "import scipy.sparse as sparse\n",
    "#*** Parameters for the of plasma reactor\n",
    "#-------------------------------------------------------------------------------------------------------------\n",
    "width=5.0     #space between two dielectric in mm\n",
    "ngrid0=300     #Number of grid points (between two dielectric)\n",
    "wd1=1.        #width of first dielectric in mm\n",
    "wd2=1.        #width of second dielectric in mm\n",
    "dx=width*10**(-3)/(ngrid0+1.0)#Grid size in meter\n",
    "nwd1=int(wd1*10**(-3)/dx)       #number of grid points in first dielectric\n",
    "nwd2=int(wd2*10**(-3)/dx)       #Number of grid points in second dielectric\n",
    "wd1=nwd1*dx                 #Making wd1 as exact multiple of dx\n",
    "wd2=nwd2*dx                 #making wd2 as exact multiple of dx\n",
    "inelec=width*10**(-3)+wd1+wd2#total interelectrode separation\n",
    "ngrid=int(ngrid0+2+nwd1+nwd2)    #total number of grid points(2 dielectrics +gas medium + all edge points)\n",
    "#--------------------------------------------------------------------------------------------------------------\n",
    "volt=1200.0    #Interelectrode voltage (peak not RMS)\n",
    "gasdens=2.504e25          #number density of gas at NTP (unit: m^-3)\n",
    "dt=1.0e-9 #small tyme interval\n",
    "frequencySource = 40000 #30KHz\n",
    "ee=1.6*10**(-19) #electronic charge\n",
    "e0=8.54187817*10**(-12) #epsilon\n",
    "townsendunit=1.0/((gasdens)*(10)**(-21))\n",
    "Kboltz=1.380*10e-23\n",
    "\n",
    "#*** Initialization\n",
    "#-----------------------------------------------------------------------------------------------------\n",
    "ns=2          #Number of species (Taking helium gas, one is electron and another is helium ion)\n",
    "ndensity=np.zeros((ns,ngrid0+2),float) #Density of each species in all grid points between dielectric\n",
    "ncharge=np.array([-1,1])  #Charge of the each species\n",
    "netcharge=np.zeros(ngrid,float) #net charge at all grid points used to solve poission equation\n",
    "potentl=np.zeros(ngrid,float) #potential at each grid points\n",
    "uu=np.zeros(ngrid,float) #potential at each grid points\n",
    "efield=np.zeros(ngrid0+2,float) #electric field at each grid points\n",
    "mobegrid=np.zeros(ngrid0+2,float)#mobility at grid points, 1 row=1 tyepe of gaseous species\n",
    "difegrid=np.zeros(ngrid0+2,float)#diffusion coefficient at each grid points\n",
    "sourceegrid=np.zeros(ngrid0+2,float)#reaction rate at each grid points\n",
    "mobigrid=np.zeros(ngrid0+2,float)\n",
    "difigrid=np.zeros(ngrid0+2,float)\n",
    "sig_e_left=0.0   #Electron surface charge density at left dielectric\n",
    "sig_e_right=0.0  #Electron surface charge density at right dielectric\n",
    "sig_i_left=0.0   #Ion surface charge density at left dielectric     \n",
    "sig_i_right=0.0  #Ion surface charge density at right dielectric\n",
    "\n",
    "numberOfSteps = 10000000 #4100 cycles of the ac freque3ncy\n",
    "\n",
    "#ndensity = np.ones((2,ngrid0+2),float)*1000.0\n",
    "ndensity=1000*np.random.rand(2,ngrid0+2)\n"
   ]
  },
  {
   "cell_type": "markdown",
   "metadata": {},
   "source": [
    "##### 5.2 Flow of the program\n",
    "<img style=\" float:center; display:inline\" src=\"flowchart.jpg\"  width=\"400\"/>"
   ]
  },
  {
   "cell_type": "markdown",
   "metadata": {},
   "source": [
    "##### 5.3 Importing the Input transport and reaction rates"
   ]
  },
  {
   "cell_type": "code",
   "execution_count": 7,
   "metadata": {},
   "outputs": [],
   "source": [
    "def readBoltzmannParameters(npoints,oupfile='output.txt'):\n",
    "    #print('*** Importing the value of MOBILITY, DIffusion and reaction rate from a text file')\n",
    "    emobility=np.zeros(npoints,float)\n",
    "    ediffusion=np.zeros(npoints,float)\n",
    "    esourcee=np.zeros(npoints,float)\n",
    "    imobility=np.zeros(npoints,float)\n",
    "    idiffusion=np.zeros(npoints,float)\n",
    "    file=open(oupfile)\n",
    "    line=file.readline()\n",
    "    for data in np.arange(npoints):\n",
    "       line=file.readline()\n",
    "       lineSplit=line.split()\n",
    "       emobility[data]=float(lineSplit[1])\n",
    "    line=file.readline(); line=file.readline();\n",
    "    for data in np.arange(npoints):\n",
    "       line=file.readline()\n",
    "       lineSplit=line.split()\n",
    "       ediffusion[data]=float(lineSplit[1])\n",
    "    line=file.readline(); line=file.readline();\n",
    "    for data in np.arange(npoints):\n",
    "       line=file.readline()\n",
    "       lineSplit=line.split()\n",
    "       esourcee[data]=float(lineSplit[1])\n",
    "    line=file.readline(); line=file.readline();\n",
    "    for data in np.arange(npoints):\n",
    "       line=file.readline()\n",
    "       lineSplit=line.split()\n",
    "       imobility[data]=float(lineSplit[1])\n",
    "    line=file.readline(); line=file.readline();\n",
    "    for data in np.arange(npoints):\n",
    "       line=file.readline()\n",
    "       lineSplit=line.split()\n",
    "       idiffusion[data]=float(lineSplit[1]) \n",
    "    return(emobility,ediffusion,esourcee,imobility,idiffusion)\n",
    "parameterSize=996  \n",
    "(emobility,ediffusion,esourcee,imobility,idiffusion) = readBoltzmannParameters(parameterSize,'output.txt')"
   ]
  },
  {
   "cell_type": "markdown",
   "metadata": {},
   "source": [
    "#### 5.4. Numerical Solution of Poisson's Equation\n",
    "\n",
    "The Poisson's Equation is given by\n",
    "$$\\nabla^2V=-\\rho/ \\epsilon$$\n",
    "\n",
    "The finite difference form of this equation is\n",
    "$$    \\frac{V_{i+1}-2V_i+V_{i-1}}{dx^2}=-\\rho_i/ \\epsilon$$\n",
    "\n",
    "or\n",
    "\n",
    "$$   {V_{i+1}-2 V_{i} +V_{i-1}}=-\\rho_i/ \\epsilon \\times {dx^2}$$\n",
    "\n",
    "The boundary condition of the Poisson's equation is controlled by the external voltage source. In this experiment, the bottom electrode is grounded so the voltage on it is always O volts. Whereas the top electrode is connected to a AC power supply so the voltage is given by $V=V_{peak} Sin (\\omega t)$.\n",
    "\\\\\n",
    "The value of $V_1$ to $V_{n-1}$ has to be determined. The set of all associated equations involved in this process can be represented in the single matrix equation. $$AV=B$$\n",
    "where, A is the tri-diagonal matrix, and V & B are the column matrices as given below."
   ]
  },
  {
   "cell_type": "markdown",
   "metadata": {},
   "source": [
    "\\begin{equation}\n",
    "\\begin{bmatrix}\n",
    "    1       & 0 & 0 & 0& \\dots & 0&0&0 \\\\\n",
    "    1       & -2 & 1 &0 & \\dots & 0 &0 &0\\\\\n",
    "    0       &  1 & -2 & 1 & \\dots & 0&0&0 \\\\\n",
    "    \\vdots & \\vdots & \\vdots&\\vdots & \\ddots & \\vdots & \\vdots & \\vdots \\\\\n",
    "    0       &  0 & 0 & 0 & \\dots & 1 &-2 &1\\\\\n",
    "    0&0&0&0&0&0&0&1\n",
    "\\end{bmatrix}\n",
    "\\begin{bmatrix}\n",
    "    V_0 \\\\\n",
    "    V_1\\\\\n",
    "    V_2\\\\\n",
    "    \\vdots\\\\\n",
    "    V_{n-1}\\\\\n",
    "    V_n\n",
    "\\end{bmatrix}\n",
    "=\n",
    "-dx^2/\\epsilon\n",
    "\\begin{bmatrix}\n",
    "    V_{peak}sin(\\omega t) \\\\\n",
    "    \\rho_1\\\\\n",
    "    \\rho_2\\\\\n",
    "    \\vdots\\\\\n",
    "    \\rho_{n-1}\\\\\n",
    "    0\n",
    "\\end{bmatrix}\n",
    "\\end{equation}"
   ]
  },
  {
   "cell_type": "code",
   "execution_count": 12,
   "metadata": {},
   "outputs": [],
   "source": [
    "# The function to create the tridiagonal matrix used to solve the above poisson equation\n",
    "def tridiagSparse(nxp, k1=-1, k2=0, k3=1):\n",
    "    a = np.ones(nxp)*(-1)\n",
    "    b = np.ones(nxp)*(2)\n",
    "    return sparse.dia_matrix(([a,b,a],[k1,k2,k3]),shape=(nxp,nxp)).tocsc()\n",
    "\n",
    "def poissonmatrix(nxp, k1=-1, k2=0, k3=1):\n",
    "    a = np.ones(nxp)*(2.0)\n",
    "    b = np.ones(nxp-1)*(-1)\n",
    "    return np.diag(b, k1) + np.diag(a, k2) + np.diag(b, k3)\n",
    "# How to solve? \n",
    "#--------------------------------------------------------------------------------\n",
    "#Maat2=tridiagSparse(ngrid-2)\n",
    "#solvpot=la.spsolve(Maat2,chrgg)  ##. chrgg is a column matrix that stores the net-charge at each grid points\n",
    "#potentl[1:-1]=solvpot \n",
    "#--------------------------------------------------------------------------------"
   ]
  },
  {
   "cell_type": "markdown",
   "metadata": {},
   "source": [
    "#### Function to plot the graphs and visualize the trends of various plasma parameters\n",
    "This subprogram allows the user to pass the plasma parameters (electron/ion densities, electric field, electric potential and netcharge) and make 4 plots for each of them. It is called once after each 10000 time steps. "
   ]
  },
  {
   "cell_type": "code",
   "execution_count": 25,
   "metadata": {},
   "outputs": [],
   "source": [
    "def fourPlots(ones,titleone,two,titletwo,three,titlethree,four,titlefour):      \n",
    "        f, axarr = plt.subplots(2, 2)\n",
    "        \n",
    "        for field in ones:\n",
    "            axarr[0,0].plot(field);\n",
    "        axarr[0,0].set_title(\"Density(m-3)\")       \n",
    "        axarr[0,1].plot(netcharge)\n",
    "        axarr[0,1].set_title(\"Netcharge(C)\")\n",
    "        axarr[1,1].plot(potentl)\n",
    "        axarr[1,1].set_title(\"\")       \n",
    "        axarr[1,0].plot(efield)      \n",
    "        axarr[1,0].set_title(\"\")\n",
    "        f.subplots_adjust(hspace=0.3)\n",
    "        plt.show()"
   ]
  },
  {
   "cell_type": "markdown",
   "metadata": {},
   "source": [
    "#### 5.5. Numerical Solution of Continuity Equation\n",
    "\n",
    "The continuity equation is solved using the implicit solver. The boundary condition for the advection component is different from that of the diffusion component."
   ]
  },
  {
   "cell_type": "code",
   "execution_count": 10,
   "metadata": {},
   "outputs": [],
   "source": [
    "def SparseContinuityOperator(dif,dx,dt,vi,k1=-1,k2=0,k3=1):\n",
    "    nx=dif.size\n",
    "    d1=np.zeros((nx),float)\n",
    "    d2=np.ones((nx),float)\n",
    "    d3=np.zeros((nx),float)\n",
    "    graddif=(dif[2:]-dif[:-2])/(2*dx)\n",
    "    avM=0.5*(vi[:-2]+vi[1:-1])\n",
    "    avP=0.5*(vi[1:-1]+vi[2:])\n",
    "    d1[:-2]=-dt*dif[1:-1]/(dx**2)+dt*graddif/(2*dx)+dt*avM/(2*dx)+dt*vi[0:-2]/(2*dx)\n",
    "    d2[1:-1]=(1+2*dt*dif[1:-1]/(dx**2))+dt*(-avM/(2*dx)+vi[1:-1]/(2*dx)-avP/(2*dx)-vi[1:-1]/(2*dx))\n",
    "    d3[2:]=-(dt*graddif/(2*dx)+dt*dif[1:-1]/(dx**2))+dt*(avP/(2*dx)-vi[2:]/(2*dx))\n",
    "    return (sparse.dia_matrix(([d1,d2,d3],[k1,k2,k3]),shape=(nx,nx)).tocsc() )\n"
   ]
  },
  {
   "cell_type": "code",
   "execution_count": 26,
   "metadata": {},
   "outputs": [
    {
     "name": "stdout",
     "output_type": "stream",
     "text": [
      "1933.4037137092616\n"
     ]
    },
    {
     "data": {
      "image/png": "[encoded data removed]",
      "text/plain": [
       "<Figure size 432x288 with 4 Axes>"
      ]
     },
     "metadata": {},
     "output_type": "display_data"
    },
    {
     "name": "stdout",
     "output_type": "stream",
     "text": [
      "1e-08\n",
      "3332.6414717751886\n"
     ]
    },
    {
     "data": {
      "image/png": "[encoded data removed]",
      "text/plain": [
       "<Figure size 432x288 with 4 Axes>"
      ]
     },
     "metadata": {},
     "output_type": "display_data"
    },
    {
     "name": "stdout",
     "output_type": "stream",
     "text": [
      "1e-08\n"
     ]
    }
   ],
   "source": [
    "#=======================time Loop======================================================================\n",
    "#storeResults=np.zeros((numberOfSteps,5,ngrid),float)\n",
    "Maat1=poissonmatrix(ngrid-2)\n",
    "Maat2=tridiagSparse(ngrid-2)\n",
    "invertedmat=la.inv(Maat2)\n",
    "numberOfSteps = 1000000000\n",
    "\n",
    "#ndensity = np.ones((2,ngrid0+2),float)*1000.0\n",
    "ndensity=1000*np.random.rand(2,ngrid0+2)\n",
    "\n",
    "oo=1\n",
    "tymestep2=0.0\n",
    "tyme=0.0\n",
    "\n",
    "for tymeStep in range(1,2001):\n",
    "    tyme=tyme+dt\n",
    "   #poission equation\n",
    "    #==================================================================================================================\n",
    "    netcharge[:]=0.0 #clear the garbage value from pervious loop\n",
    "    for i in np.arange(ns):\n",
    "        netcharge[nwd1:nwd1+2+ngrid0]+=ee*ncharge[i]*ndensity[i,:]  #calculating the net charge at each grid points\n",
    "    leftPot=1.0*volt*np.sin(2*np.pi*tyme*frequencySource) # frequency of the source is given by a parameter\n",
    "    rightpot=0.0*volt*np.sin(2*np.pi*tyme*frequencySource)\n",
    "    chrgg=(netcharge[1:-1]/e0)*dx*dx\n",
    "    chrgg[0]=chrgg[0]+leftPot\n",
    "    chrgg[-1]=chrgg[-1]+rightpot\n",
    "    potentl[0]=leftPot\n",
    "    potentl[-1]=rightpot\n",
    "    solvpot=la.spsolve(Maat2,chrgg)\n",
    "    potentl[1:-1]=solvpot \n",
    "    \n",
    "    #**calculate electric field as negative gradient of potential (Expressed in Townsend Unit)\n",
    "    efield[:]=-townsendunit*(potentl[nwd1+1:nwd1+3+ngrid0]-potentl[nwd1-1:nwd1+1+ngrid0])/(2.0*dx)\n",
    "    efield[0]=-townsendunit*(-(11.0/6)*potentl[nwd1]+3.0*potentl[nwd1+1]-(3.0/2)*potentl[nwd1+2]+(1.0/3)*potentl[nwd1+3])/dx\n",
    "    efield[-1]=-townsendunit*(potentl[nwd1+1+ngrid0]-potentl[nwd1+ngrid0])/dx\n",
    "   \n",
    "    if any(abs(efield[:])>1000):#All the reaction coefficients are calculated for efield<npoints. Value more than that will imply that the there is something wrong in the simulation\n",
    "       f= open(\"logfile.txt\",\"w+\")\n",
    "       f.write(\"Error!! The value of Electric field exceeded limit. Something might be wrong!!\")\n",
    "       sys.exit()\n",
    "       \n",
    "    #calculating the coefficients (Interpolation..)-------------------------------------------------------------------------------------\n",
    "    indlocate=abs(efield[:]).astype(int)\n",
    "    mobegrid=-1.0*(emobility[indlocate]+(emobility[indlocate+1]-emobility[indlocate])*(abs(efield)-indlocate))/gasdens\n",
    "    difegrid=1.0*(ediffusion[indlocate]+((ediffusion[indlocate+1]-ediffusion[indlocate])*(abs(efield)-indlocate)))/gasdens\n",
    "    sourceegrid=1.0*(esourcee[indlocate]+(esourcee[indlocate+1]-esourcee[indlocate])*(abs(efield)-indlocate))*gasdens\n",
    "    mobigrid=1.0*(imobility[indlocate]+(imobility[indlocate+1]-imobility[indlocate])*(abs(efield)-indlocate))\n",
    "    difigrid=1.0*idiffusion[indlocate]+((idiffusion[indlocate+1]-idiffusion[indlocate])*(abs(efield)-indlocate))\n",
    "    \n",
    "   \n",
    "   #Advection and Diffusion-------------------------------------------------------\n",
    "   #==============================================================================\n",
    "    ndentemp=np.zeros((ns,ngrid0+2),float)\n",
    "    ndentemp[0]=ndensity[0,:].copy()\n",
    "    ndentemp[1]=ndensity[1,:].copy()   \n",
    "    ndentemp[0,0]=ndentemp[0,0]-(sig_e_left)/dx; ndentemp[0,-1]=ndentemp[0,-1]-(sig_e_right)/dx  ;ndentemp[1,0]=ndentemp[1,0]-(sig_i_left)/dx;ndentemp[1,-1]=ndentemp[1,-1]-(sig_i_right)/dx #mirror boundary condition\n",
    "    \n",
    "    difOperatorElectron=SparseContinuityOperator(difegrid,dx,dt,0*efield*mobegrid)\n",
    "    difOperatorIon=SparseContinuityOperator(difigrid,dx,dt,0*efield*mobigrid)\n",
    "    ndentemp[0,1:-1]=la.spsolve(difOperatorElectron,ndentemp[0])[1:-1].copy()\n",
    "    ndentemp[1,1:-1]=la.spsolve(difOperatorIon,ndentemp[1])[1:-1].copy()\n",
    "    ndentemp[0,0]=0.; ndentemp[0,-1]=0.  ;ndentemp[1,0]=0.;ndentemp[1,-1]=0. #mirror boundary condition\n",
    "    \n",
    "    \n",
    "    difOperatorElectron1=SparseContinuityOperator(0*difegrid,dx,dt,efield*mobegrid)\n",
    "    difOperatorIon1=SparseContinuityOperator(0*difigrid,dx,dt,efield*mobigrid)\n",
    "    ndensity[0,1:-1]=la.spsolve(difOperatorElectron1,ndentemp[0])[1:-1].copy()\n",
    "    ndensity[1,1:-1]=la.spsolve(difOperatorIon1,ndentemp[1])[1:-1].copy()\n",
    "    ndensity[ndensity<1000]=1000.\n",
    "\n",
    "\n",
    "    #Source and sink\n",
    "    #=============================================================================\n",
    "    #source\n",
    "    etemperature=abs((ee/Kboltz)*difegrid/mobegrid)\n",
    "    reverserate=8.1*10**(-13)*(etemperature/300)**(-0.64)\n",
    "    decrementt=reverserate[1:-1]*ndensity[0,1:-1]*ndensity[1,1:-1]*dt\n",
    "    ndensity[0,1:-1]=ndensity[0,1:-1]-decrementt\n",
    "    ndensity[1,1:-1]=ndensity[1,1:-1]-decrementt\n",
    "    \n",
    "    ndensity[0,1:-1]=ndensity[0,1:-1]+1.0*(  sourceegrid[1:-1]*abs(ndensity[0,1:-1])*abs((gasdens-ndensity[1,1:-1])/gasdens)) * dt \n",
    "    ndensity[1,1:-1]=ndensity[1,1:-1]+1.0*(  sourceegrid[1:-1]*abs(ndensity[0,1:-1])*abs((gasdens-ndensity[1,1:-1])/gasdens)) * dt\n",
    "    \n",
    "    #charge accumulation at surface of dielectric\n",
    "    #=========================================================================================\n",
    "    efluxleft=-0.5*(ndensity[0,1]+ndensity[0,2])*(mobegrid[1])*efield[1]\n",
    "    if efluxleft<0:\n",
    "        efluxleft=0\n",
    "    sig_e_left= sig_e_left+dt*(efluxleft-10*sig_e_left-10**(-10)*sig_e_left*sig_e_right)\n",
    "    \n",
    "    efluxright=0.5*(ndensity[0,-2]+ndensity[0,-3])*(mobegrid[-2])*efield[-2]\n",
    "    if efluxright<0:\n",
    "        efluxright=0\n",
    "    sig_e_right=sig_e_right+dt*(efluxright-10*sig_e_right-10**(-10)*sig_e_left*sig_e_right)\n",
    "    \n",
    "    ifluxleft=-(1+0.01)*0.5*(ndensity[1,1]+ndensity[1,2])*(mobigrid[1])*efield[1]\n",
    "    if ifluxleft<0:\n",
    "        ifluxleft=0\n",
    "    sig_i_left=1*(sig_i_left+dt*(ifluxleft-10**(-10)*sig_i_left*sig_i_right))\n",
    "    ifluxright=(1+0.01)*0.5*(ndensity[1,-2]+ndensity[1,-3])*(mobigrid[-2])*efield[-2]\n",
    "    if ifluxright<0:\n",
    "        ifluxright=0\n",
    "    sig_i_right=1*(sig_i_right+dt*(ifluxright-10**(-10)*sig_i_left*sig_i_right))\n",
    "    #print (sig_e_left,sig_e_right,sig_i_left,sig_i_right)\n",
    "    \n",
    "    ndensity[0,0]=0.5*(ndensity[0,1]+ndensity[0,2])+1.*(sig_e_left)/dx\n",
    "    ndensity[0,-1]=0.5*(ndensity[0,-2]+ndensity[0,-3])+1.*(sig_e_right)/dx    \n",
    "    ndensity[1,0]=0.5*(ndensity[1,1]+ndensity[1,2])+1.*(sig_i_left)/dx\n",
    "    ndensity[1,-1]=0.5*(ndensity[1,-2]+ndensity[1,-3])+1.*(sig_i_right)/dx    \n",
    "    \n",
    "    #adaptive time stepping==================================================================\n",
    "    mobsta=0.5*(mobegrid[1:]+mobegrid[:-1])\n",
    "    difsta=0.5*(difegrid[1:]+difegrid[:-1])\n",
    "    eefsta=0.5*(efield[1:]+efield[:-1])/townsendunit\n",
    "    gstability=max(abs(mobsta*(efield[1:]-efield[:-1])/(dx*townsendunit)+eefsta*(mobegrid[1:]-mobegrid[:-1])/dx+mobsta*eefsta/(2*dx)      +4*difsta/(dx*dx) +(difegrid[1:]-difegrid[:-1])/(dx*dx)))\n",
    "    dt=10e-9\n",
    "    \n",
    "    #printing and saving the data============================================================\n",
    "    #f = open('finaldata/new.txt', 'ab')\n",
    "    if (tymeStep % 1000 == 0 ): #and leftPot>1080 ):\n",
    "        #print (efluxleft,ifluxleft,efluxright,ifluxright)\n",
    "        print(max(etemperature))\n",
    "        #print()\n",
    "        #np.savetxt(f, ndensity[0,:])\n",
    "        #np.savetxt(f, ndensity[1,:])\n",
    "        #np.savetxt(f, netcharge)\n",
    "        #np.savetxt(f, efield)\n",
    "        #np.savetxt(f, potentl);\n",
    "        #if (tymeStep % 1000 == 0 ): #and leftPot>1080 ):\n",
    "        #f.close()\n",
    "        fourPlots((ndensity[0,5:-5],ndensity[1,5:-5]),'ndensity',netcharge,'netcharge',potentl,'electric potential',efield,'')\n",
    "#        print(ndensity[0,:5],ndensity[1,:5])\n",
    "#        print(ndensity[0,-5:],ndensity[1,-5:])\n",
    "        #print('eleft', efluxleft, 'eritht', efluxright, 'ileft', ifluxleft, 'iright', ifluxright)\n",
    "        #print('eleft', efield[2], 'eritht', efield[-2], 'ileft', efield[2], 'iright', efield[-2])\n",
    "        #print(ndensity[0,100],ndensity[1,100])\n",
    "        print(dt)"
   ]
  },
  {
   "cell_type": "markdown",
   "metadata": {},
   "source": [
    "## Results and discussions\n",
    "\n",
    "#### Temporal variation of electron density inside the reactor\n",
    "The solution to the above continuity gives the value of the electron and ion densities inside the plasma reactor. The charged particles are either advected or diffused inside the reactor. There is not dominant effect of recombination in low temperature plasma device. The loss of charged particles occurs only on the boundaries. It can be seen from the equation of charge accumulation on the dielectric surface that there is a term that accounts for the recombination of ions and electrons on the surface. \n",
    "\n",
    "The formation of charged particles corresponds to the chemical reaction of the gases. The beam of electron that is accelerated towards the electric field collides with the netural molecules with sufficient energy to cause the ionization. The ionized electron ion pairs follow the path towards the electrodes. While the electron moves towards the electrodes, it collides with more neutral molecules giving rise to more electron/ion pairs. \n",
    "\n",
    "<img style=\" float:center; display:inline\" src=\"electrondensity.png\"  width=\"300\"/>\n",
    "\n",
    "It can be seen from the figure that the value of electron/ion density is almost zero in the beginning. It incerases gradually and finally reaches to the maximum value where it becomes stable. \n",
    "\n",
    "#### Optical Characterization\n",
    "\n",
    "The optical characterization of the argon dielectric barrier discharge system was done with the help of Optical Emission Spectrometer (OES) that involves the detection of characterstic emission spectral lines generated by excited atoms and ions inside the plasma. The photon generated by the plasma is said to be the combination of all those spectral lines. Individual species can have a number of lines. The OES is a simple procedure and produces no perterbutation in plasma. It is used to detect the types of gaseous species present in the discharge. The OES data is also used to determine the electron density of the plasma by using the intensity ratio method [..] that is based on the relative intensities of the atomic lines.\n",
    "\n",
    "Since the cross section of the plasma reactor consisted of the polycarbonate substance which absorbs visible light of certain wavelength a hole was drilled on the reactor so that the fiber optical cable of the emission spectrometer could be directly inserted inside the reactor to take more accurate emission data. The emission spectrometer simply gives the intensity vs wavelength data. \n",
    "\n",
    "<img style=\" float:center; display:inline\" src=\"oes.jpg\"  width=\"550\"/>\n",
    "\n",
    "The above spectra suggest the presence of Ar-I lines inside the plasma reactor. Since the intensity ration method is based on the relative intensity, the above OES data is only useful to confirm the presence of argon-I but not useful to calculate the electron density by using the intensity ratio method."
   ]
  },
  {
   "cell_type": "markdown",
   "metadata": {},
   "source": [
    "### Electrical Characterization\n",
    "The electrodes of the reactor are connected to a high voltage power source and a HV prove is connected in parallel to the electrodes. High voltage probe is connected to Cathode ray oscilloscope that gives the value of voltage accross the reactor. Whereas the shunt resistor is connected in series to the reactor. The value of voltage accross the shunt resistor is also obtained using the CRO. Reactor current is proportional to the voltage accross the shunt resistor as the resistance of the resistor is constant. \n",
    "\n",
    "<img style=\" float:center; display:inline\" src=\"current.jpg\"  width=\"400\"/>\n",
    "\n",
    "The above graph shows the temporal variation of current in the plasma reactor for four complete cycles of AC voltage. Very small amount of current is flowing accross the reactor. The sudden rise in the value of current as it reaches the maxima is due to the micro-discharge phenemenon. The plasma is formed only at that instant of time. \n",
    "\n",
    "##### Variation of electric field inside the reactor\n",
    "<img style=\" float:center; display:inline\" src=\"efield.png\"  width=\"350\"/> \n",
    "\n",
    "The major advantage of using dielectric barrier discharge instead of traditional plasma reactor is that there is the accumulation of charged particles on the surface of the dielectric which in return works against the development of field inside the reactor. It can be confirmed from the above graph that there is not significant increase in the value of electric field inside the reactor which contributes in the nature of discharge by preventing the formation of arc. The discharge becomes more glow type than the arc type. Electric field is measured in plasma as Townsend units."
   ]
  },
  {
   "cell_type": "markdown",
   "metadata": {},
   "source": [
    "#### Variation of electric potential\n",
    "The right electrode is grounded (0volts) while the left electrode is connected to a high frequency AC source $(V_o Sin(\\omega t))$. Following image shows the variation of electric potential inside the reactor. Like the electric field there is no sharp variation in the nature of the electric potential inside the reactor.\n",
    "\n",
    "<img style=\" float:center; display:inline\" src=\"potential.png\"  width=\"350\"/> "
   ]
  }
 ],
 "metadata": {
  "kernelspec": {
   "display_name": "Python 3",
   "language": "python",
   "name": "python3"
  },
  "language_info": {
   "codemirror_mode": {
    "name": "ipython",
    "version": 3
   },
   "file_extension": ".py",
   "mimetype": "text/x-python",
   "name": "python",
   "nbconvert_exporter": "python",
   "pygments_lexer": "ipython3",
   "version": "3.5.2"
  }
 },
 "nbformat": 4,
 "nbformat_minor": 2
}
