{
 "cells": [
  {
   "cell_type": "markdown",
   "metadata": {},
   "source": [
    "# Various Types of Finite Difference Advection Algorithms"
   ]
  },
  {
   "cell_type": "markdown",
   "metadata": {},
   "source": [
    "The advection equation gives the flow of any quantity (mass, density, charge etc) on a velocity field. Advection equation in fluid dynamics can be represented by the following equation\n",
    "\n",
    "$$\\frac{d\\rho}{dt}=-\\nabla(\\rho V)$$\n",
    "\n",
    "where $\\rho$ is the density, V is the velocity field. \n",
    "In one dimension the above equation can be written as,\n",
    "$$\\frac{d\\rho}{dt}=-\\frac{d(\\rho V)}{dx}$$"
   ]
  },
  {
   "cell_type": "markdown",
   "metadata": {},
   "source": [
    "### Central finite difference form\n",
    "\n",
    "The above equation can be written in central finite difference form as\n",
    "$$\\frac{\\rho_i^{t+1}-\\rho_i^{t}}{dt}=\\frac{\\rho_{i+1}V_{i+1}-\\rho_{i-1}V_{i-1}}{dx}$$"
   ]
  },
  {
   "cell_type": "code",
   "execution_count": 92,
   "metadata": {},
   "outputs": [
    {
     "name": "stdout",
     "output_type": "stream",
     "text": [
      "This graph is a intentionally left blank. We will use it to make animation in the later part of the program\n"
     ]
    },
    {
     "data": {
      "image/png": "[encoded data removed]",
      "text/plain": [
       "<Figure size 432x288 with 1 Axes>"
      ]
     },
     "metadata": {},
     "output_type": "display_data"
    }
   ],
   "source": [
    "## Code to generate GIF image <source = \"http://tiao.io/posts/notebooks/save-matplotlib-animations-as-gifs/\">\n",
    "%matplotlib inline\n",
    "import numpy as np\n",
    "import matplotlib.pyplot as plt\n",
    "from IPython.display import Image\n",
    "\n",
    "from matplotlib import animation, rc\n",
    "from IPython.display import HTML\n",
    "# First set up the figure, the axis, and the plot element we want to animate\n",
    "fig, ax = plt.subplots();\n",
    "\n",
    "\n",
    "ax.set_xlim(( 0, 1000));\n",
    "ax.set_ylim((-0, 10));\n",
    "line, = ax.plot([], [], lw=2);\n",
    "\n",
    "def sett(x1,x2,y1,y2):\n",
    "    ax.set_xlim(( x1,x2));\n",
    "    ax.set_ylim((y1, y2));\n",
    "    line, = ax.plot([], [], lw=2);\n",
    "\n",
    "# initialization function: plot the background of each frame\n",
    "def init():\n",
    "    line.set_data([], [])\n",
    "    return (line,)\n",
    "\n",
    "# animation function. This is called sequentially\n",
    "def animate(i,rho,xx,step):\n",
    "    x = xx\n",
    "    rr=step*i\n",
    "    y = rho[rr]\n",
    "    sett(xx.min(),xx.max(),rho[rr].min(),rho[rr].max())\n",
    "    line.set_data(x, y)\n",
    "    return (line,)\n",
    "print(\"This graph is a intentionally left blank. We will use it to make animation in the later part of the program\")"
   ]
  },
  {
   "cell_type": "code",
   "execution_count": 93,
   "metadata": {},
   "outputs": [
    {
     "data": {
      "text/html": [
       "<img src=\"explicitt.gif\"/>"
      ],
      "text/plain": [
       "<IPython.core.display.Image object>"
      ]
     },
     "execution_count": 93,
     "metadata": {},
     "output_type": "execute_result"
    }
   ],
   "source": [
    "spacegrid=1000\n",
    "width=1.0\n",
    "xx=np.arange(spacegrid)\n",
    "timesteps=1000\n",
    "simulationtime=1.0\n",
    "velocity=1.0\n",
    "dt=simulationtime/timesteps\n",
    "dx=width/spacegrid\n",
    "rho=np.zeros((timesteps,spacegrid),float)\n",
    "rho[0,30:300]=10\n",
    "veolcitygrid=velocity*np.ones(spacegrid)\n",
    "\n",
    "for t in range(timesteps-1):\n",
    "    #Explicit----------------------------------------------------------------------------------------\n",
    "    rho[t+1,1:spacegrid-1]=rho[t,1:spacegrid-1]-dt*velocity*(rho[t,2:spacegrid]-rho[t,0:spacegrid-2])/(2*dx)\n",
    "    #plt.plot(rho[t])\n",
    "    #plt.show()\n",
    "    #sett(0,1000,0,20)\n",
    "\n",
    "anim = animation.FuncAnimation(fig, animate, fargs=(rho,xx,10,), init_func=init,frames=100, interval=200, blit=True)\n",
    "anim.save('explicitt.gif', writer='imagemagick')\n",
    "Image(url='explicitt.gif')"
   ]
  },
  {
   "cell_type": "markdown",
   "metadata": {},
   "source": [
    "The above animation is the result of direct explicit solution of the continuity equation with 1000 time steps. We can see that the solution becomes immediately unstable and the square wave is completely lost within noise."
   ]
  },
  {
   "cell_type": "markdown",
   "metadata": {},
   "source": [
    "## Effect of small time-stepping (Increased stability but decreased speed)\n",
    "Let us not decrease the time step 'dt' and execute the code again. Decreasing the time stepping makes the program very slow but makes the simulation result better."
   ]
  },
  {
   "cell_type": "code",
   "execution_count": 94,
   "metadata": {},
   "outputs": [
    {
     "data": {
      "text/html": [
       "<img src=\"explicit_lessdt1.gif\"/>"
      ],
      "text/plain": [
       "<IPython.core.display.Image object>"
      ]
     },
     "execution_count": 94,
     "metadata": {},
     "output_type": "execute_result"
    }
   ],
   "source": [
    "timesteps=100000\n",
    "dt=simulationtime/timesteps\n",
    "rho=np.zeros((timesteps,spacegrid),float)\n",
    "rho[0,30:300]=10\n",
    "veolcitygrid=velocity*np.ones(spacegrid)\n",
    "for t in range(timesteps-1):\n",
    "    rho[t+1,1:spacegrid-1]=rho[t,1:spacegrid-1]-dt*velocity*(rho[t,2:spacegrid]-rho[t,0:spacegrid-2])/(2*dx)\n",
    "\n",
    "anim = animation.FuncAnimation(fig, animate, fargs=(rho,xx,1000,), init_func=init,frames=100, interval=200, blit=True)\n",
    "anim.save('explicit_lessdt1.gif', writer='imagemagick')\n",
    "Image(url='explicit_lessdt1.gif')"
   ]
  },
  {
   "cell_type": "markdown",
   "metadata": {},
   "source": [
    "Here we increased the number of time stepping from 1000 to 100000 and executed the code again. We can now see the square wave travelling from left to right. But still the wave is not free from noise. Furthermore, increasing the time stepping makes the program more slow. "
   ]
  },
  {
   "cell_type": "markdown",
   "metadata": {},
   "source": [
    "## Implicit Central Finite difference form\n",
    "The above continuity equation can be written in implicit finite difference form by taking density from the future time step as,\n",
    "\n",
    "$$\\frac{\\rho_i^{t+1}-\\rho_i^1}{dt} =\\frac{\\rho_{i+1}^{t+1}V_{i+1}-\\rho_{i-1}^{t+1}V_{i-1}}{2dx}$$\n",
    "\n",
    "which can be simplified to ,\n",
    "$$\\frac{dt}{2dx}\\rho_{i-1}^{t+1}V_{i-1}+\\rho_i^{t+1}-\\frac{dt}{2dx}\\rho_{i+1}^{t+1}V_{i+1}=\\rho_i^t$$\n",
    "\n",
    "This equation has to be solved at all grid points. The system of equations can be written in a matrix form\n",
    "\n",
    "$$A\\rho^{t+1}=\\rho_t$$\n",
    "\n",
    "Where A is a tridiagonal matrix with 1 on the main diagonal, $(dt/2dx)V_{i-1}$ on the diagonal below the main diagonal and $-(dt/2dx)V_{i+1}$ on the diagonal above the main diagonal."
   ]
  },
  {
   "cell_type": "code",
   "execution_count": 95,
   "metadata": {},
   "outputs": [
    {
     "data": {
      "text/html": [
       "<img src=\"impli.gif\"/>"
      ],
      "text/plain": [
       "<IPython.core.display.Image object>"
      ]
     },
     "execution_count": 95,
     "metadata": {},
     "output_type": "execute_result"
    }
   ],
   "source": [
    "def tridiagDense(r,nxp,k1=-1,k2=0,k3=1):\n",
    "    a=np.ones(nxp-1)*(-r)\n",
    "    b=np.ones(nxp)\n",
    "    c=-1*a\n",
    "    return np.diag(a,k1)+np.diag(b,k2)+np.diag(c,k3)\n",
    "\n",
    "timesteps=101\n",
    "simulationtime=1.0\n",
    "velocity=1.0\n",
    "dt=simulationtime/timesteps\n",
    "rho=np.zeros((timesteps,spacegrid),float)\n",
    "rho[0,30:300]=10\n",
    "veolcitygrid=velocity*np.ones(spacegrid)\n",
    "for t in range(timesteps-1):\n",
    "    ep=velocity*(dt/(2*dx))\n",
    "    IA=tridiagDense(ep,spacegrid)\n",
    "    B=np.linalg.inv(IA)\n",
    "    rho[t+1]=B.dot(rho[t])\n",
    "\n",
    "anim = animation.FuncAnimation(fig, animate, fargs=(rho,xx,1,), init_func=init,frames=100, interval=200, blit=True)\n",
    "anim.save('impli.gif', writer='imagemagick')\n",
    "Image(url='impli.gif')"
   ]
  },
  {
   "cell_type": "markdown",
   "metadata": {},
   "source": [
    "The above animation is the solution of the implicit central difference from. We can see that the graph is very stable till the wave reaches the right boundary, where it becomes unstable. Despite of being stable, the shape of the graph has changed from rectrangular to bell shaped. "
   ]
  },
  {
   "cell_type": "markdown",
   "metadata": {},
   "source": [
    "## Upwind Algorithm"
   ]
  },
  {
   "cell_type": "code",
   "execution_count": 96,
   "metadata": {},
   "outputs": [
    {
     "name": "stderr",
     "output_type": "stream",
     "text": [
      "/usr/local/lib/python3.6/dist-packages/matplotlib/axes/_base.py:3443: UserWarning: Attempting to set identical bottom==top results\n",
      "in singular transformations; automatically expanding.\n",
      "bottom=0.0, top=0.0\n",
      "  'bottom=%s, top=%s') % (bottom, top))\n"
     ]
    },
    {
     "data": {
      "text/html": [
       "<img src=\"upwind2.gif\"/>"
      ],
      "text/plain": [
       "<IPython.core.display.Image object>"
      ]
     },
     "execution_count": 96,
     "metadata": {},
     "output_type": "execute_result"
    }
   ],
   "source": [
    "timesteps=1000\n",
    "simulationtime=1.0\n",
    "velocity=1.0\n",
    "dt=simulationtime/timesteps\n",
    "veolcitygrid=velocity*np.ones(spacegrid)\n",
    "zeromatrix=np.zeros((spacegrid),float)\n",
    "rhoupwind=np.zeros((timesteps,spacegrid+2),float)\n",
    "rhoupwind[0,30:300]=10\n",
    "veolcitygrid=velocity*np.ones(spacegrid)\n",
    "for t in range(timesteps-1):\n",
    "    aplus=np.maximum(zeromatrix,veolcitygrid)\n",
    "    aminus=np.minimum(zeromatrix,veolcitygrid)\n",
    "    rhoplus=(rhoupwind[t,2:]-rhoupwind[t,1:-1])/dx\n",
    "    rhominus=(rhoupwind[t,1:-1]-rhoupwind[t,:-2])/dx\n",
    "    rhoupwind[t+1,1:-1]=rhoupwind[t,1:-1]-dt*(aplus*rhominus+aminus*rhoplus)\n",
    "    #plt.plot(rhoupwind[t+1])\n",
    "    #plt.show()0\n",
    "anim = animation.FuncAnimation(fig, animate, fargs=(rhoupwind[:,1:-1],xx,10,), init_func=init,frames=100, interval=1, blit=True)\n",
    "anim.save('upwind2.gif', writer='imagemagick', fps=10)\n",
    "Image(url='upwind2.gif')"
   ]
  },
  {
   "cell_type": "markdown",
   "metadata": {},
   "source": [
    "###### Area under the curve\n",
    "Here we use Trapezoidal rule to perform numerical integration such that the area under the curve can be calculated. \n",
    "The formula of numerical integration is \n",
    "$$\\int_{x_1}^{x_n} f(d)dx=\\frac{h}{2}\\{f(x_1)+2f(x_2)+2f(x_3)+...2f(x_{n-1})+f(x_n)\\}$$"
   ]
  },
  {
   "cell_type": "code",
   "execution_count": 97,
   "metadata": {},
   "outputs": [
    {
     "data": {
      "image/png": "[encoded data removed]",
      "text/plain": [
       "<Figure size 432x432 with 1 Axes>"
      ]
     },
     "metadata": {},
     "output_type": "display_data"
    }
   ],
   "source": [
    "h=x[2]-x[1]\n",
    "def areacalculation(timesteps,rhokovalue):\n",
    "    area=np.zeros(timesteps,float)\n",
    "    for cc in np.arange(timesteps):\n",
    "        area[cc]=(h/2)*(rhokovalue[cc,0]+2*sum(rhokovalue[cc,1:999])+rhokovalue[cc,1000])\n",
    "    plt.figure(figsize=(6,6))\n",
    "    plt.plot(area)\n",
    "    plt.xlabel(\"Time Step\")\n",
    "    plt.ylabel(\"Area Under the Curve\")\n",
    "    plt.show()\n",
    "    \n",
    "areacalculation(timesteps,rhoupwind)"
   ]
  },
  {
   "cell_type": "markdown",
   "metadata": {},
   "source": [
    "From the above graph it can be seen that the area of the wave is conserved as it moves from left to right in the direction of velocity field."
   ]
  },
  {
   "cell_type": "markdown",
   "metadata": {},
   "source": [
    "## Validity of Upwind Scheme -- is it always conservative?"
   ]
  },
  {
   "cell_type": "markdown",
   "metadata": {},
   "source": [
    "The above example is about the motion of square wave  on a uniform velocity field. The upwind scheme seems to perfectly solve the continuity equation for that example because the wave travels with being unstable(like in explicit scheme) and without changing its shape(like in implicit scheme) and also remains stable in the boundary. \n",
    "\n",
    "Let us now change the setup of our numerical experiment. We define a sinosuidal velocity field and put the square wave on the center of the 1D domain and run the above simulation again. "
   ]
  },
  {
   "cell_type": "code",
   "execution_count": 98,
   "metadata": {},
   "outputs": [
    {
     "data": {
      "text/plain": [
       "[<matplotlib.lines.Line2D at 0x7f3ad7298be0>]"
      ]
     },
     "execution_count": 98,
     "metadata": {},
     "output_type": "execute_result"
    },
    {
     "data": {
      "image/png": "[encoded data removed]",
      "text/plain": [
       "<Figure size 432x288 with 1 Axes>"
      ]
     },
     "metadata": {},
     "output_type": "display_data"
    }
   ],
   "source": [
    "velocitygrid=10*np.sin(xx/320)\n",
    "plt.plot(velocitygrid)"
   ]
  },
  {
   "cell_type": "code",
   "execution_count": 99,
   "metadata": {},
   "outputs": [
    {
     "data": {
      "text/plain": [
       "[<matplotlib.lines.Line2D at 0x7f3ad77d1b38>]"
      ]
     },
     "execution_count": 99,
     "metadata": {},
     "output_type": "execute_result"
    },
    {
     "data": {
      "image/png": "[encoded data removed]",
      "text/plain": [
       "<Figure size 432x288 with 1 Axes>"
      ]
     },
     "metadata": {},
     "output_type": "display_data"
    }
   ],
   "source": [
    "rhoupwind=np.zeros((timesteps,spacegrid+2),float)\n",
    "rhoupwind[0,400:600]=10\n",
    "plt.plot(rhoupwind[0])"
   ]
  },
  {
   "cell_type": "code",
   "execution_count": 100,
   "metadata": {},
   "outputs": [
    {
     "data": {
      "text/html": [
       "<img src=\"upp4.gif\"/>"
      ],
      "text/plain": [
       "<IPython.core.display.Image object>"
      ]
     },
     "execution_count": 100,
     "metadata": {},
     "output_type": "execute_result"
    }
   ],
   "source": [
    "timesteps=1000\n",
    "simulationtime=1.0\n",
    "velocity=1.0\n",
    "dt=simulationtime/timesteps\n",
    "velocitygrid=velocity*np.sin(xx/320)\n",
    "zeromatrix=np.zeros((spacegrid),float)\n",
    "rhoupwindV=np.zeros((timesteps,spacegrid+2),float)\n",
    "rhoupwindV[0,400:600]=10\n",
    "for t in range(timesteps-1):\n",
    "    aplus=np.maximum(zeromatrix,velocitygrid)\n",
    "    aminus=np.minimum(zeromatrix,velocitygrid)\n",
    "    rhoplus=(rhoupwindV[t,2:]-rhoupwindV[t,1:-1])/dx\n",
    "    rhominus=(rhoupwindV[t,1:-1]-rhoupwindV[t,:-2])/dx\n",
    "    rhoupwindV[t+1,1:-1]=rhoupwindV[t,1:-1]-dt*(aplus*rhominus+aminus*rhoplus)\n",
    "    #plt.plot(rhoupwind[t+1])\n",
    "    #plt.show()\n",
    "anim = animation.FuncAnimation(fig, animate, fargs=(rhoupwindV[:,1:-1],xx,10,), init_func=init,frames=100, interval=1, blit=True)\n",
    "anim.save('upp4.gif', writer='imagemagick', fps=10)\n",
    "Image(url='upp4.gif')"
   ]
  },
  {
   "cell_type": "markdown",
   "metadata": {},
   "source": [
    "Through all these methods we were trying to solve the continuity equation with advection component only. Continuity equation is all about the conversation of certain quantities (mass, charge, etc.) but as we can see from the figure the area of the square wave is decreasing as it travels to the right. This is the violation of the essence of the continuity equation. "
   ]
  },
  {
   "cell_type": "code",
   "execution_count": 103,
   "metadata": {},
   "outputs": [
    {
     "data": {
      "image/png": "[encoded data removed]",
      "text/plain": [
       "<Figure size 432x432 with 1 Axes>"
      ]
     },
     "metadata": {},
     "output_type": "display_data"
    }
   ],
   "source": [
    "areacalculation(timesteps,rhoupwindV)"
   ]
  },
  {
   "cell_type": "markdown",
   "metadata": {},
   "source": [
    "From the above graph we can see that the area of the curve is decreasing gradually. It shows that the upwind scheme is not conservative (the above solution violates the conservation of mass)"
   ]
  },
  {
   "cell_type": "markdown",
   "metadata": {},
   "source": [
    "## Explicit finite difference by the definition of flux\n",
    "\n",
    "Flux is the quanity passing through a surface per unit time. Flux at a grid point can be expressed as\n",
    "$$flux_{i+\\frac{1}{2}} = 0.5(V_{i+1}\\rho_{i+1}+V_{i}\\rho_{i})-0.5(V_{i+1}+V_{i})(\\rho_{i+1}-\\rho{i})$$"
   ]
  },
  {
   "cell_type": "markdown",
   "metadata": {},
   "source": [
    "## Implicit Finite Difference by the difinition of flux"
   ]
  },
  {
   "cell_type": "markdown",
   "metadata": {},
   "source": [
    "## Flux Corrected Transport"
   ]
  },
  {
   "cell_type": "markdown",
   "metadata": {},
   "source": [
    "## Implicit Flux Corrected Transport"
   ]
  },
  {
   "cell_type": "code",
   "execution_count": 102,
   "metadata": {},
   "outputs": [
    {
     "data": {
      "text/html": [
       "<video width=\"500\" height=\"500\" controls autoplay loop>\n",
       "  <source type=\"video/mp4\" src=\"data:video/mp4;base64,AAAAHGZ0eXBNNFYgAAACAGlzb21pc28yYXZjMQAAAAhmcmVlAABaLm1kYXQAAAKuBgX//6rcRem9\n",
       "5tlIt5Ys2CDZI+7veDI2NCAtIGNvcmUgMTUyIHIyODU0IGU5YTU5MDMgLSBILjI2NC9NUEVHLTQg\n",
       "QVZDIGNvZGVjIC0gQ29weWxlZnQgMjAwMy0yMDE3IC0gaHR0cDovL3d3dy52aWRlb2xhbi5vcmcv\n",
       "eDI2NC5odG1sIC0gb3B0aW9uczogY2FiYWM9MSByZWY9MyBkZWJsb2NrPTE6MDowIGFuYWx5c2U9\n",
       "MHgzOjB4MTEzIG1lPWhleCBzdWJtZT03IHBzeT0xIHBzeV9yZD0xLjAwOjAuMDAgbWl4ZWRfcmVm\n",
       "PTEgbWVfcmFuZ2U9MTYgY2hyb21hX21lPTEgdHJlbGxpcz0xIDh4OGRjdD0xIGNxbT0wIGRlYWR6\n",
       "b25lPTIxLDExIGZhc3RfcHNraXA9MSBjaHJvbWFfcXBfb2Zmc2V0PS0yIHRocmVhZHM9NiBsb29r\n",
       "YWhlYWRfdGhyZWFkcz0xIHNsaWNlZF90aHJlYWRzPTAgbnI9MCBkZWNpbWF0ZT0xIGludGVybGFj\n",
       "ZWQ9MCBibHVyYXlfY29tcGF0PTAgY29uc3RyYWluZWRfaW50cmE9MCBiZnJhbWVzPTMgYl9weXJh\n",
       "bWlkPTIgYl9hZGFwdD0xIGJfYmlhcz0wIGRpcmVjdD0xIHdlaWdodGI9MSBvcGVuX2dvcD0wIHdl\n",
       "aWdodHA9MiBrZXlpbnQ9MjUwIGtleWludF9taW49MTAgc2NlbmVjdXQ9NDAgaW50cmFfcmVmcmVz\n",
       "aD0wIHJjX2xvb2thaGVhZD00MCByYz1jcmYgbWJ0cmVlPTEgY3JmPTIzLjAgcWNvbXA9MC42MCBx\n",
       "cG1pbj0wIHFwbWF4PTY5IHFwc3RlcD00IGlwX3JhdGlvPTEuNDAgYXE9MToxLjAwAIAAABPgZYiE\n",
       "AD///vdonwKbWkN6gOSVxSXbT4H/q2dwfI/pAwAAAwAAAwAkAvzHv6EHQzQgAABPQARrzP4M0/5g\n",
       "Wy+/Y3+U/QAiAFQWwQsxxJfitn1d49H/5NXcg1dQlEhHISbXPgeSHLoXfqp33yyuNiGrqBnLVryw\n",
       "EkDRWSSEEX6hXE38wGVRVyyIgjyoz32+kggAAAdBt/sD4KVM3nZYVyYdSZ3Kih8Fia4Qt28nQ0Mc\n",
       "QzZLQB2cwRCHZYutT/efiSynVAdFO96AHdA6pV0rWIQrk0NY9lL4RrqIy59Cgr2qInZ8Enjqh7RI\n",
       "p4E/3bg7Am2bgs+Hd/Osf6xtYAmMFsW6s8Pod6/t8efOG80aMrBBR0zzmSmpJXdaTWDqoBIce3HK\n",
       "+z4Ybdzndxde5+9jpJlp2cABjyg8wEhIsUXdlCDU6TB+xdUzIND884Js0DUwh6HKzA8zTrmftuCH\n",
       "ZtPx7x6deCzBKpWwBBCzkT6oPZ3NfZ3nQ26DzK/Y+kRwkErz9M4/pBVQZvUauHz5fy+N7ndWe97I\n",
       "Ujm5wq+EPU5Quakwfrr6atIk1OihaJhvc8AFCw7DtxtZt3woRr/1zEEy4RTi6iuOUPKnwo/Sb3JW\n",
       "UCj80g0UcXXNLtanaAmKF8wGWbvmP6I5Ren8LURBEcsaVNZKIi98hxBKIOmkhhUcaZsRQkTKLlwJ\n",
       "cT4VEvKyFfQEij00uluKrKUQtfcG+F17GEZFORYijpJyEnLKnOuXGappts+RIISwnq8Z3yOhpHJM\n",
       "GoDuoHhgHcVWRmVS4fYBXvw5OTQCzVknyHC371/h1qvQT2wgm7d8eDzH5cECBMHh9fDhFNr3Uatv\n",
       "WznNozDcN8W2x4LoFDvDrA4njOrMVxlZF+cIz/D6wT1n1+c+9AUacDZKkgBXIAxXI64s1Yc8EMgL\n",
       "hjMvEl4Vcn+yBslR+G7sUIh+sIh57Yu8cPzkT1iUpxSaKKK3ZrwQdyLCoPfyM9e8n7l/vLygD4PC\n",
       "gUFjPFOGdcyuwIukg4N6buX1UD1iEJWqQ6z2PfDH/qQcb9m9nG0t/k+byhC5DIe6bWgQWsWEYu7h\n",
       "pa0aOCvwGN2Jf59NgN0cb+Xje7NjFKOrrbPRAga2X6v8/rTr2QU5Q6PMnOwBXBL2Nse9AJDa901/\n",
       "GTHgADzahWwED46ZK5ChE9lo93Is+OoEHaWKysJOEMbzxduSjnoL+xV0Op49iiXKTrJqOl9V67UE\n",
       "wwvXit5bCT0VLxCgD4D/nQi+zMRS7DNtQI+uyQzlXjut+u3/JPwax+5s4QX5yH8GAHitrCiAXypO\n",
       "MJJRTxyHeLCjAuICNJYycylQoJPX7YbAGmHlaWIUvqe0x0akFqtRB0arMlS18ZhUi5W4YCeG7G0g\n",
       "6eHwkUnzJdvDk1pVmeqifZIIuKC91Wf88eHhwx3IQK5Of3/VpkMvQ4WTis0NnSY29LkF2HkIQ5p4\n",
       "GHRpkzKPUQrNK6vsKfCdS19WHAOK5EAtEDskwH6kiN24IkoM05OzUuuOQibfns7GIZNcEZeNCR/M\n",
       "7DLUpJ6vcrVLBoU2Eh28IZpSKoN2ofXP8+I0lDbMWfn1fjPPLWmGkTOL47zWQf7eER6Cq4pjYdzS\n",
       "zGLsVXu3evO/u1t55mYBPvy5quDjG6HnDXPRTAf2J1sxU7giG63nTRG/tLLaCOgQAYPy8HtJeBWg\n",
       "IzxbWajDuWGytaiwERGgDl6rdysbzG+orwZ0vzvtjd9TpCL+lJmO2sruz9qmA7q93dNXc+oOTjnV\n",
       "B6QTEwNVGR/wdXU3HnOgRngIe0DmPOngwThsEZXi2qhcoN0NYTJ0YJ8zo9nB9mqaJkxlPfxn9RVk\n",
       "iwIO5DUe7TobrEGjBoeFCdwwqV/9wZ49XgUkGUgd27zWK432tsOCldWgKLPHQzG4cvJVyrSlN71n\n",
       "l9+JmfVm0mlwb7TtHB4y5cbxy6N/TbfNpGMHzEAZpcRasV+s/L07cC3d8XtLnw4ih5f8ksOVxM2z\n",
       "zD9zJBlfVok/0ZhzdgufSbz64K3HDHrnNY7LVRHlcZ6SlsVdUHU73Teh4n4MsY339cL0JFRM4DZf\n",
       "ifj5s7kCB/7R6jY8HLmYm3s12AaWf36VkAX+tZSvaSGSck1BBPBToyIygTdJueZ76K26j95n2hTj\n",
       "6oGqRbk+/M0YTl2gC3kZS5s8eaKItal+NyvEsiCyeSD19sh+1pa36n8CLe+Uys5ZBM6crCS0W/2o\n",
       "fJtvRSatSJhY5w4YhWEp3fI4IQeAaEMVJiLXIweti+F8voM6EOBd1nXeThWlxYnQr5uZP3vlJtD9\n",
       "Db45kp5yP0UfZ8+Q5EvwS+RxA1qtQBK9o2Aluo+mf5N70wtTn/XAlhKu1pyUkrhhcUKPCkZyu4IV\n",
       "mqFf5IInXG3KEFCuYmAICTs25LYO6e6ELbsQJQYdLrabTHLL1vdDXlT0dylWj1LtGLE9Hs3Az21U\n",
       "anTf0YZj472s+jEXcX4ubIWVt4xG/mP3nEpBxD00edeb58Svu9j3f5cb2ucf8RlxEgtH5GNDRH+w\n",
       "V7I9iQoW6s3zzvivuHwco3OEPkt2194bGHHGBb46OB6sqb8D0Elhxj3Sx3Y1GOEoQxAwfk0p8kB/\n",
       "eEzhII0zNl2n6myPoYgmM8H/5HM7BYZ3Z+f+80u/9r6Utaqd9uCl5vxD/pEwr9pRvHnEA9pGy3EE\n",
       "Lv0BExJIb86OztEh60PM3x8CQFTAhWrP5+sVnuXF4lxh3cRSbccINh/XDuDp90eKgX7YAXtAHIjj\n",
       "aOeTOP4M4okpEz0h/Y10U8wkGkGzyn57jZBzIkM3u8sBz9Vv8+Hp4adHkTC4MpNncH/aPAjOcsvD\n",
       "i1Icpw0M1tt9pwQPsT0JED/AhwiA5A8aVOb2LlRiwdNjwcPIlkkeSarHyvDeYEUtEo1b63hjQxuc\n",
       "ojaRohP6uAyueYQRbq+Sn0fDhglm3bBp1UM9SRI91mq5D8yfjf1rFE5tL6CZOtTS90K1yrVU7KnJ\n",
       "TbdgjlWyvQD8Ztbu2D3VtF3Bjb0hEsEBBsPxfDBPTPRtzKCF+o1X7pu3XJtxIh5ff+I6n6qVMqY5\n",
       "K27dVM5ds9VXaEmjsWXpO2OHqF/2aIIRk/p0OikD/AWah7UA57YsayGGYGPt13+/g9j8hC6CZQq1\n",
       "4vPcurBrJf6ufH6BkdcUCXIMiZODyUG0V61RwzqOwoRw40o3w9/QVG4mkBfeCNJVEAkF6ZTTGoc/\n",
       "OGOsq3w3MhnwRl0P2eGkdrmz/YYd4HeSKKPV74JQPwB4lwB7w3G8OwmlalQsrBT2PelxgWBOn7YO\n",
       "QNgzB8ME1SnLG9YSi+4eePpDMPPcSgpts88S4jwDhwwTzFt4ud7C6SI0cfu35JpNI+GWYmKB+iRf\n",
       "IUqOmckbqey7f29m5FXd/uGVLE/Fvuo53XQ/kr18SLeT0gM8Do3Psi4eSr5yz/fLoeQJXG+VndZt\n",
       "EYbAApI6GndeMx9tM9r5yrXw9lFPRQ9STxGcFMMpIXTcICNXcLApAkCe475FOAPPIcup37kxI895\n",
       "bz4MQnT6Q+Fo3tHbKV0Ku6qjlAOOOp8GahJba++AiTDa/lgbxrJSR4FP2fevKK6QjjigFa3M0m5S\n",
       "Uvu+1Rx9+5sb4fcuqEVIVrHh906PwvGjWETxeuKxR78/I9bjvEdHCRANJHjNWs2tDyjhh4NNj28o\n",
       "hTox0/nO1/0Csj0FcE685NLRPK/EpnmP+OR7+KokX/DCCTdprQuurfUrrqr4JXYtr7pU00OC9sRu\n",
       "ptIfqcYSy4vCjCV+9YWFrjwQGL1Vtv/tv3BDAfq0dk8l6R24oi/rYY1B1aYLKhc54ozLxWfTxSez\n",
       "tdeQHl5jhLwzWKZUQ56AKXXuNnLavZm8Tm0aHPD/OvP8Rikr0quwrX0RmRnAXxUy34ntjVI97ekT\n",
       "sWHBh1Pfr8/tfGWEu/HcNB2Xt84l0WZKASPzUSxkFxUHN2KWGczizJH314Exx4mRnoEsZ4iIj2a+\n",
       "FNA5Rp1rbXrM57fHs1JtZFL3bwKHq72r1RCkxoUDeFy95OO4YUKX6XFhQSIEnKWM05+GhEgOi1Re\n",
       "mwyFCiWyGLJbUcdXDBdtfwWE1VCaJC0ijL1AAILL7Faku5eAAKaFYltwnNCifPzaHph2amJJNL1r\n",
       "TIA1lqV1G0VGsUbgIcsyifpBSSf305ICNqzq/K+zTGfiD25DSYNstIkN1fwqeemw4RVFG52i5qYu\n",
       "XKQgxKhb05I+qoW6pmQyFYev0oDOV61o5Lpi+6hlqURRrgTrN6jjyFivZsDnM0iNGzZrIXBWGgM9\n",
       "IP0zwG+tmvFNFWANLQKvrPC9w5uWKM9mE4/r6890K1RI1Yt9BqE7TMZWHpUpNix3o9//p52o8eJA\n",
       "nIh3m6hqgGA7c3p5n3SrCmtOBCPxibnHS7jSRdlTbzp3DeyzxadNi4uuF9Xu6bfqRDKgl2bVAADi\n",
       "j+EynHya3RT25NgAHccJNncaooNV9rBAx/pG4qU2zibTBfTh4u2D/3fjG8f78/5oPUGP5E74E7GF\n",
       "yLzJ3depkLDjKr3JgYG7oCl23UaUak5U0v+7uowclsyT/7YtS3pXzudt7MuHQwGwTZ8gfF6oEPp7\n",
       "H9Hei2TEnRJ5iLVGOhwZ8scqp41mYe09BsyVFZC3p4vhz6g3zxwJMsbB17pWdUCEG4+ngblX1yD4\n",
       "C0r8tH9QtDZJEEMBEneOhKtN9cNWdqIvxEWdsDnvs+FWWHA35zeYZceJ5zrD0mil8K/hc0LAXikh\n",
       "0LJCNItOpEM/Sqq4qpMzVFEqagL4lzo2yUiwE1DJxX6LyPrCqiB8w2fphfnkkVc9OI/cg0K9Chkr\n",
       "3lNvJn/3lcwHdD1RWgzkQcgFKUTrXyyD8I+8NetWjDgQn1RZQ+WbKlQGzxhg4zER05ni/rNHfeN/\n",
       "BnuIO7YdRX1f4t599hWF6TIqfl3b4T11sZ0XetM99nqpGM1vhgNbgAX51XjPe9e6/BoFUgl/mYhb\n",
       "LHD/ysIqAM80ef1wFQwAAAMAJRJUi5d+DkAStfd08qPF+wOBXCAThZllmqHHDZLJd7oCVtb6BrMb\n",
       "pSvi7RkXRC1WN9ESgLFc1dQVAOse6ESSIQjFk3tpnMQURwd+HVlOAV9XwYOyHQO+Vv0uaMPMxALr\n",
       "mM66LMLMc11J0Wj+edrvY1bCyfIPM1lPE91idiLfv+X9zFVo126Rg7dY9YfU1zbLWtbJR7ke3Hkw\n",
       "vtf/o9OJd7RDa9Xmj+d5ZHzdQRjn7goeO9os61gTDnpYBsHspG1ZwVkxFIGgDrZIhr+8yhOYUsx2\n",
       "fD9QTqdKwO8yVJtFNzbhuCz3ue3qK6oxNwB0+/4gPoViaoB7WQ831jPyUtm82yULmsIjORt5L7ND\n",
       "0XT/9LUAfQZ1GXKTj+roRXxnJa8cSStIEvHZ+oYouZkVDO/+ilY6Rb7FSXa29m/xlfb/Jrb3NGVq\n",
       "h5zh2E5ccZt/45mDA3mz+evLNWS+f3bpIuAdoYRwvw0tFV1EWPytWp3JK6sVdaHtSTVP4uhlROk5\n",
       "Y6lwj1JliEzpfoEzZszBkX2ePLjrKSSV7ByRGgaPiwSBXBEnd0yQEMKtmwMO8Mv/N/+o6cDkCd9n\n",
       "yz0prYM71zKfrexzbVghI6owRn+mpYjaZXTpI9ZSYg/nzINQKvrt9zDsNDWRi7u1Q8T8NWemP3bO\n",
       "7c1WsoE7Hwl09HbbGiIhJdVVnye5b2My2ZEiTx5PtX5KFx6XOcVGyjQ7zPhhRyfCys7ciQvqHQmV\n",
       "glzA8WI3UtijL6ROuK6Ak31YUIClTcuLCBzbqSTVi38rn8ba4nr+L/ol9NZZj4hoXpx+82gMsi/9\n",
       "7adOYwqzRXAotpTz13OHmuZP+ZOAnIy6LHGn6oGZrvV4Hva1/JhiYKkB9C5Cj2Bb9WZf2j0h9jho\n",
       "zdOZQau91kZPWGTjW9k4fz+oNFZBpmKR2hlognBxSJLVmKzJrhjTgKDCo3dEYcvNp7vvzuXl4/m/\n",
       "dC7MKvrELLGa7G2CuzEzINdlhrHVMXYxwfoxFyXoiW3F93tfa4P8VymAzu8x1J8sEZ+xenGpfFrh\n",
       "JuH1nCTguj9seg9tCww0lCNrHR4HCkd7nJvP5XwtQjOLfviyIjgW3np9G/pSh36+KO7Nh9a9TdB7\n",
       "omson61zypvga8BJwj+jt14BNkAIVh2pQk5OOfPyI0raYQW+k1xCzb9bXtaj7Yzc8g/MEcSlDN4k\n",
       "292ygOK7VYgVC6CWl3qSk3rae2EnXycIgo/h8kb+OXmWhbTqrYVhkUbbxE1bvjEthCDvznw1GVMR\n",
       "YE5N1emsDvlDIjyPYAixsqJfETuxQVxBDumW/1SbxaWx5hwX5cUmyR7Lx+ZtiwyD98u7jRgmAqw1\n",
       "2cO/xrnYBnqU/NX5QC3qc6nt25nvXmzCKiz9HYAf6Gp60pOh6vUV+wajwA5EXv3neMgx2qPAt4xi\n",
       "hUl8stVT/+yNesrxEB61BLvzJ6ewWPVCZbP/fKtl9xWmh02wWer2KEPYT53tOgR+i5ziOdOG0S4/\n",
       "OUEhV4/LwWmP12nDr3lATceQwN+plkgElCm4MZ6zb2ZGWdviIeu7WYLQeuA8ddnas6YpgosF/ICo\n",
       "hl4YA+RWQO5vESRid21KRhGfqJtwzFuZp1PxAgY3xgik5ZCz88bDn5ZSfwFZX4t8WCwvUIhAr9MX\n",
       "kMPEB8FG2Z1uGY+HGJJiZLT1TfTxzSe1j4fJu87rJnuQ66BftLX1puknUQNZguK4Z9zp1Z/qW9Xm\n",
       "2VlzsqN9oNfWt0K9F2jDmOzEUWKO63YOKgf3mRxgp+ai09l6tzVv/ZqyDb4Zv05IXjOQ9ORo8kAI\n",
       "mSdcogG3AAADAA55AAABvkGaIWxD//6plgAoImXoB8WqmNuMjXXGz5y5qMMTfGlmyKd8+SERfmli\n",
       "7mI6TtPuTXG9ucjgi64KsrqzaZcb0VbN5UepP7smpXZgx3TRCPtazOPV/lenk1gVbNNHdYjMlG14\n",
       "i3ZI91bD9q8NAN24TN35C70qrg3rPl2AdHvoXt/jTMAAALP/+WVIrnf6j6JdrnCmKGkFyHMsqZrU\n",
       "OaL01/roTkkdqTfI/0GVHPq8KtGD/gtrMzU9At2Ks0nvjqmOEEDmpMD7+mJHh0z/WSv52wOJ8Q83\n",
       "uzFKve5Fhx7A7A68Tt7jtgAAJ9J5EGoMM80dRvq3009sncjMXc56+e+yh4FRXjPZbnNefmmlV9R7\n",
       "bUdqRZ54iJVBX1Iju9TfrkGiod19yf9tBDTtcWs3jKN6zluwTTfYO/d+Vx9Bg6Vd/DEKB93JhPfz\n",
       "mMl3Lv7uIfwH/s3wZqHeJGIuiFQk8a7SG1iMBjwXYG1OjbBmvXx+ndQJff/r7KYGzy5xkZAmAqNW\n",
       "hDSsleVTLSzAFH2WIKqX6nD+/ihAAAADAESvhAG1u6kig6cHHKBj8KkmiCVR0nA7B9X1FwLITI6T\n",
       "fOnls8FJAAACxkGaQjwhkymEP//+qZYAAAMAu3TbQAcb5ErsQSAZk/OnnoMbnqtvB7/0Jb4nCKJ8\n",
       "HgpHtJO8kWRhCcGwgiJ/XIjC3JQkNS2jbcm0sG+zpHorIOK5GhnHycuaM/Fh+mYLkKUWvNjek5Gy\n",
       "GwTb3ouAlgP43C8KKDG9lYQsFzk0Ftwf7aKhlLy5OQJ50lX/HuuH81eN2AD2usUtvjQg3vU53pef\n",
       "jDnxnXcPS6AMAVyy9+BKOzUhmH6myZkKYx938pfNfxkCtO/UBO/Tp6DE31x/Go51/Skdy5EQ6dzK\n",
       "TvCx+3ZH37r6b3i6Mu+OeqXwt3CDR7UcHvHmit38bWJEvbpSi2Z0AS5YPr7DCDPuz61nr5p+lEA+\n",
       "ii2PcogOdqkk/vw7+SALvhOPNuE1bfSyhZtpmXg3F/f85KGZ6WU2a267Hbg3MU9grYxd8axL8RmD\n",
       "nDRliGLn6eJi3IEpVTgUHzYyaj6HQMRQWhS0MqCfiKb40YsCYpnBZM9PKoq/mhJ4wpgiDKJbRAdY\n",
       "9b1TdsqyoEkGilS5iAbo2oVo5KxgsNFEtq3wAe/OVs+yMlKvNckISHqIaOa43cVxhRf/GS4TLnxD\n",
       "K11sYqHLF2CtlSLD7IlXm8L7oRmxRNAf8wq0RSGQFefx2KHyDQ/BCu40kl1oy87mSWmx9HFsOXqQ\n",
       "/YadkoHh+IHjoDAZUSaFD+q3ALP6oSLMgzcwWjTRBvOBv+BdlNVgmQLGYJzCAqf64hZ8NLEa4spn\n",
       "UxHnsUeiGYPcm1YgM96tbiGQ3cNexSv6Yg+E/AN3xeLed+84HXP6Z+asIxSe07nD5Voju7kcocEp\n",
       "0tcpbiqkdaaW+PyjEI4SQ1v7ORkiRKjueSMtyxLFWVMnN41WBCf5KPRvGWbp8EeS0gumr3tMg4Z8\n",
       "f42OyytTw9oYeZ/XsGPm8I/Cs4UPRr9Qe3AASMAA0enhAAEXAAAD50GaY0nhDyZTAh///qmWAAAD\n",
       "A5Oz/7g3xQAQ/aqY8szntnNyF2hIWU0nwxyG9F5yuqm4Lz5vSQC6pFJZiEPFoejwHX3KZVPiRvYT\n",
       "FE5r67nGBpn/tB0NESPtUg/SGei4Gto6t5/BkIyYNU43ujyz7wqDOLAI/UAhqGJVJBv6a51mGrMe\n",
       "PEkgFeRErmORU3vO4/4gReabg0wv5sIANSKjhCegOu+v0U8o7yM/Kj/TmDoURCle9wuvJ08DsTmG\n",
       "bLyyLw0l+l8bpAkgTCgYvsa8HmEewA6Ztr0kQH0svqckNhg83YzeE7ui//pPxy0GQgH1INatG5B/\n",
       "Jlo8/gnfWTfPBEgyk7N3feYG24zSSFWE601vXrFm6omtHTwJ2s3n0hJEfI74/1fR+rpBENG1xOpW\n",
       "UL3zcWZAmDklmy97kjwLXfeD3vcf37kGjeXJHrsHzTWM7iXuUPMm7nF51CDwSJHGvD84vO1n2a9C\n",
       "kRKbBFFkQDcsid6EN39zX+yRtlT/oB2oFn1tJ6zv7Fuba37yfXGozvS5Ui5ANSD4h71tSXVcEwGd\n",
       "PVA+N4nzqYKFnmINx4FEDP7m1fni7sKh1rfLD3bXKk5f9lKHX4yn50kprWAJpu+G/sF9by9dGx2M\n",
       "GTcgfrkRAoL+7HGSUBC5nT8Pk/Qh/f+dAezGvPdHs2xEKE1FMF1zZL3Ely4utcrGtwhQhU9tNULK\n",
       "XynuApo5peh3jQy7PRbN+HUGpbUI+pVQY6bjcZ8TXHB6BBk37Ay6hNu+o9imR3dk0nMuwzc2CHrC\n",
       "ALQz0STzuF+iBpr0XtKtuiZkLK94BtYX9Vz3B24UXVLz6iWSncY96rnAaW8F1BWq8ostLi1TsV5p\n",
       "XD0khIkT+m7iBZp99+ZjpjRoWC1c5+1aZ4OZ2J4Dgxn46/FdNsDI1g+JAcKUPa9bUPClTuSLz6EV\n",
       "4NmD2S+FyzzRopktXctF7fXEhzk8v6mhc2R6WDo/vV21OqmDDfshS/IqT7uPvrBAnZq9bDzbiAGx\n",
       "Xxi2lrvYBMUplbA+9gYpe7j8O2aGDG/kY7d1IAsPG4ZPuxfCGnibDncFmQ9Uexej05bOaCgHvnvU\n",
       "f5mPWEnpdeN6Gqe63DTqdHSnS5MK0ahIjFTDEGPiwZdkZbb/LYmIIQ9fKgnO9g14UfB2TZv0hv3a\n",
       "/PGFH/HxLkFhFMCqi0a9t+dPqlIf8UxvyDP/tH2C7Qvp/mYcHkrI33IWbgv48Kg52k9gBwTdAA+B\n",
       "x45HrAHCMGW0sd4iXC8jjVGdZUfQUTYj8Ri94HR6QP5Lt/XVdx8InOJxShZS91lFV/EEQAAAAwJg\n",
       "cLMTPWs1swpyIgAf4AAAAzFBmoRJ4Q8mUwIf//6plgAAEJ5X/uOvVFABD9p2YGNam88MR3vgnv3S\n",
       "7q1lrd3kbgvPm9IvjPTexC8m3bS2KPRinvNb1MzQ7Z/YKlZiaYhOqv+FRX4M4oHuub4v1YhfreZp\n",
       "cQrphcwsAQjn9FsNjDL64+KVIkMXu2luLq0YLcyijNxxOyCht4I9hGjsN1NMR+//BfXaqEgqo59l\n",
       "oGSwAXzTd1bZ34L8eLz/lLvTF597+HIUmgcJqJMAjX+NtqdFM4Y4XnjajSyrwH+SY/fQUn0e313d\n",
       "HV0pMxtEJ4mv1tdOrmwhd68FDGBlwq3InPI25bAcT1T1+e5OuC/Vk4Nix5VUEH6G65c0amvCnJkL\n",
       "ZV3rS3d829NTc3rkcWtjeK0OyVsBDTcoUbKqrBXY7n3WwMr/nNUZDgPBFWLrMupq4oc8HH7z+A3R\n",
       "tmFCJCQ2hh7193g5PbV59GFj5CVyFJwHCdkgH5wXInKZOAZvy3adGS0QX5FmeStWVEFqi5m8JTHu\n",
       "s+Oh0nRIkoLe4cTs2BtEPyfyFvCOYXEoNgxAZn0U7bYM4P6a5aUGcsuRbBMDHT6bELMnAStuNC8Y\n",
       "F91YPPN8SX/2RTYtR0oQ4+f5sb2K/WDh0QsYz5MSik8mqbwzrySK6QkN9q0e1Mb79x0hkVcp3Jwi\n",
       "yF48xjvv+dw79ebzgrR5Um2UXcg/8FP7QSlP3kZgueUov4/BStAQjiuUkSxH94tisvSPJfNwZGAD\n",
       "6NvdZLK32HqG4R13E9iPK5EO5AXJw0yF7Hb54OOfGZ/ikqBo6B39OfNzuIL5lYnC9w60/mqkNTQY\n",
       "1Rkc6RGt70nb8lSCbTbQuu1bPNTyNVMgxQn7UMNx/TTje43zCilwRFC5S+oX7tZhSWE6EV3u4AI4\n",
       "nbEdVg9ylOwYs11TVcl3WYuZ7wb+kX36AnNxsKbMBQp0luf+NfWUsWqdOnh43HbOLMrWIuWnlJdY\n",
       "s12yL7IhLIG6jvDRyd1lD49HZWl7ZzstBqYqLEzkzLBNUnXkQF3MJKeX3K41TJul4ITpFVneAS6W\n",
       "WrIKhY4p3u0Id7AihtaZrlNPFdm5U+0E+HYs6UN7AABNkIP9AAACgkGapUnhDyZTAh///qmWAAAp\n",
       "f9UPJbdtYVUhKR1BtJM/h86cAAW0iErvXBw+C5YMy2oYo4CHjrqlJx75O8XJHvnsjnI5a/37uEYm\n",
       "Tmc5CO60aXa1GtWSFf6wrBSVZq/p+HoK6YzVDFpwIhm0e1obdkWGxQPaHuGAzYzXayJ3xeAYVW+U\n",
       "+U+KW2DKpsXopiLX06WgwGQN2GvDsIhDweNElbYqz/95tyTm4JxkD85j2Rr96tmYVOWO/uuAO/xm\n",
       "eivZS31QkuhZ7DCnFEhWuaAGOQ55ieGq6g4K8AIPaF1waMZhsU4PvGut0fRZl8wTMukYAcf+xLGQ\n",
       "044Bhbaw9dJkckbb43HD1J0woFl5ThwIPSG0Fe5f0rftGWRS4Nq73omoCmxkMf5N97lv7GGqSoLz\n",
       "ajgihgQU6/DfE1xI94pBChIVmTRw+PNNyBQpEP2D+4822ruN7HLjhKzNAZDVAfsJgcBy1laeWQR9\n",
       "wR3HJuINF+gBf898t6dB6zJ7pTtAmWlgJYQ96UGBsL6j+FiRJ3M60s5OyEmUD2nAEI3ezSnlAG+3\n",
       "/h4DshtZ2nRqS7TfEzxHxrEYVqCtEjWBlbWUmUX3c7jjGMs9/+FWqbiFZNxXjxdtHXN/CZdfYTHA\n",
       "ZUqDsfORSP2YygssvNVioTcnpLveBINVjin0ehoxe2q90BDPuW0D0Qyxj/19CcGJVLBEL10U7DH3\n",
       "BdA8Mo0wE7TIsDVBQheSsBMcsCf2FkWz0Mylm+TRdEbdftG7n3I977dXix50LKuNXXPWujqMCGil\n",
       "9g9Oe9qEentb91jqnzDHllMtvzYM4dT9O0Eqp4fKbStq2JpK2zTFzKU/Rvtl628YQADTiVQHdQAA\n",
       "AbVBmsZJ4Q8mUwIIf/6qVQAALb4+AAbhFFpjJOse6YhVwTaGGAjYS5HBARNQigB/StQVNhx/JdKm\n",
       "9So1TPeTV0MXJEZZKdhnhn7AMn/cDzi0aol1vFB5GlTGc7zPUf7XUGhpOqjrJtiblvI/YuDYS/1T\n",
       "4bOUpCjFRijYaVMnkl9GQjGvq22RZXqbD1t0MISUaJKWVds5NgN8yZmO85TVQj4GH7D/hvmYfYfx\n",
       "WYRjAr9LcQuZ4Dct4o2vVoQeAdKE9elsl3n5zc4BVf7mrIwK6jksO31lHIWzl7Rr6JpeCZJ3gD8S\n",
       "SEhHXqb/miUVNqp+Xr7tqvBeURE8BnmQkQcaXoq3jjG9V79WziBDQ79h/T+BBHNWuYurFVbghTXT\n",
       "Ce+uXkeoJ0NjeqARoQoc/uJtYg9ACAycaWDF7k5Mz4/JW4t4tqAdYDhOu/KVyB90PxXuvIsU48AS\n",
       "iV6X70Zcagnt1sKRPOSymX00H0H3yt2ycDJ3H41t65Bbnq0057l9oqowSsMwS6ChSYqaqmG23H1r\n",
       "uddCFyjD0V4jlmJbs+aeF8brOqonhDt/R6G2qZ2zdFAAAAiMPCBNwQAAAbBBmudJ4Q8mUwIIf/6q\n",
       "VQAAM9PfKOedyVx+OEuBhTNA8E/oeeAzf0QqzhaEWC+Hftd3u/BMAC6ryvyWreLldMIa/avD1tii\n",
       "BUhwIgVn/SdIh5ZcTO/+epyXRQ9dqCCz+UhAEZ7WOFRmrFN3ke/g4E/XDTHpOkZeu3rRHddRwVvt\n",
       "XjYEbX7kqARnhc8U02dCgmUfOVzt+w3IEZ7O+DxAIa9pYn8P13zh/mEfaTeJ4f23zoIg2kWNck+8\n",
       "kRbQwRY35hL1m2q/JfffoDYG4D0gjiTJ6wQvrhlNWdAASyHtvZ20DjFuyBAUvJhh/2Cl4lzVG3zG\n",
       "EfH7d6DfcFf5nHcxHwXg3d1v5eN2sA7P4tw1YmNh5biz3ITVbx+VxlaJu7WViUxVomvc3KkIy3Vp\n",
       "XKFJrgOnIxOUxK+iA+0d4wsdDgmkxXuRaGtNqRtkD+zqi3DhW4+9ENmhhHw7cjU0g6Eijd2vrv9N\n",
       "B9hCVdi6uMEgdMDWL4yc6jYwaryOwSIHUegx7xFCIx8bmG6XSeV8G2hQ7e9IsPYW6u+Hx0oeNNOL\n",
       "XFntim5isTCso5AAAAMANvJVAekAAAGmQZsISeEPJlMCCH/+qlUAAG+/q4D3mXzNjH+jSzGcR89J\n",
       "BC1tUgavDpTi6Jeb8McXyfwpzqaSjO/A9uIzOjZzN4Olg5FmWjRcuWM8jD0GINf7BGpMXnnTWn0W\n",
       "xOSLEA5rufrn4IhlWwZR9kkbSGP3xyKcq0IbFpEgdJK8o+TREmJQDkMQnqY1xk9fuEy78oDQqAY/\n",
       "hl53vxrb8BMm/Y09cHCXau6d+M/jjtdxbjE0wUcDfQFGsiMqHreEl6CZEZYpZ8s/3TXpIgaRpVjL\n",
       "uOt9p6WLH27dXtyZcZa+5zmI+lF8BtL1dywNtdxPJKW2XN8m+sAURHSzpCD37qZkQDz1okNOWWNN\n",
       "73k31uwXIrcVv5PNek6Y8SkLoquLWZHTbS71O1qmb0SoTFfOJB4Ylxpd9YuVpYe7rK5A6oTavgKK\n",
       "j9bnyz1goTGQxz+1IZs/zhpBU2pkgkV9+UdVRrSpNy7LLo4mISlPSKylwLuma1hqnwGiOoPgR7QQ\n",
       "p2npwWkVnfW6p4XZJC/KwGtYNealHq1S9iekZXmcV4XlEEG3BJ2VZWABTR4QMWAAAAHdQZspSeEP\n",
       "JlMCCP/+tSqAAHSewPf1iEIoliYIDqC/9Hf9+I4etblB6uy2i8BOxAEJA3t8jYmoPCd9hUyvVJ6m\n",
       "+PoK/5Jui9lJF5P4YwX55aPVZyh/NPn3CP9vKQT+CTCRMgPHBwee3Lvodfaan14uxvlT3oCnmXGh\n",
       "C2JvnzT/88LaGEUbDMi5sBTWzU4pLeh7DWCECeS3m0QXpRfaB3ynocFroszv9u71YyLcGySj/qXG\n",
       "MPSRj0+65F9fQHbar/xeVGXdSqPC14Uo2Ja+P71mfcF4p5Dx+MnX0AhOG1ohUC7Am3pDnTg0mG8S\n",
       "Njn5Y2xwYIPc+Fc/ik6ZV75AvG0s0SVSyiLAkK+C7mG121e09jhT3//jj32YwZq2e3Wk6sPiXrPH\n",
       "eUgwHPISrraPxsb41LaWSgoj7+CA2hyib65BgvKa+wchmEF/58GYH22QZlPd2aYO5OPZVeMEB5mB\n",
       "Ncr72iP/ah7zUZfVfmWtxqE0v974SBYPFEQQGDHQnZ7/rctbd7XAV3i55fcnKSvzFZGdJRFuzBe+\n",
       "prm0I4vwoLDVd7nWsdVS/8cC46wfmTfmV8/LJyR9Fl3DqPPGf08gYlZz7gC4ak0pKCv/ecJkT/6N\n",
       "IMIK+5wAAAMABrJKoD0gAAADvkGbTUnhDyZTAgj//rUqgAEIb5CACo7fdk+V0GGKOSX/3BICs9ZU\n",
       "P6iHrQTUpAH7vg3MV/mZkgv9AUH5xevvSz14K52GxXNZtitEq2Pc7T4NJ7Rr9yRfdmkShe53J9UY\n",
       "iW50c6n1LBriEKTZUruuj/K6nygwED9JA6nfs/KWTZBcGbRxq+JSCHFQpc1Yyyg1BGT79krH6uou\n",
       "bebPZgW7M8jwFnWpE1524YtuCt2SRsQHfpBx6rJJj64S1dgmSHsv4SeUq3GksXbW+I36HteC31Lc\n",
       "VLO2ENvJ18D6B70kl4mF+5EWKQ5wOQz2DK2rZEou2y0vkh7G2HokVVXrfoD5YVB25xnBvebFJ2R3\n",
       "19GNAYDH4EgxY1vM1qJ0aa8Q0mSVLgZHY+xdGT9rpl8s1CdC0FlpFD2t6M4CaDtYcp3XnEg778BQ\n",
       "sBmmPjzk2dVC5ufPjajJ3wWbgghSGhzzPO5OCB2YH/txhtqef1q2YKWbhUV3fEMHKJx1uZfzNara\n",
       "cjZ8a4fO1s1IKb1Sy5eLUzR/MSct6XS1+RE8DQ2s6FFqcfL0gF55ZgVVzNQX7xxeSr9rzN0ILpjn\n",
       "t+bKvT4RFbv/9Atqqhe/AcO/+PXu3oPlp+zHe0KQp5YdK0pn84VITuDYuzmZWD8DNnm4eDJ+a1z7\n",
       "B8tIWNcSnE7RsVU7HuEVPwPJQg1JE6kaCjwI1fhFoiXekS+ISOQzlSVByThLwG6rr/FRPLX+WMVU\n",
       "AmWKewdPV96L9imi9SqUITgcyqwXMOC8D1Xh9sz4rJQx5UcBqIGWyOoTLqob8uHwhx3j8Qi1LKah\n",
       "EXzmBvlN4oghEuCGk81s0PzB0ePfENDGzKo/bI8Z1L8mDGy4tA2qDAWHTiVUxZI2EEcIbVdz1zBg\n",
       "Kq8DZzh5Pr6h/GO6FPCjdWsc3fCBcxV8FmOBDTImo5oArqd5bkvwYVweZk25OOcsR6j7xV5D/vEP\n",
       "VN3q2V0S/KZ2hRs4BxwtJN5JlDf4qj438QQjq+np6Bco9lkgKrxlrswQqivHtOr180QbtWn4GDxh\n",
       "mFui/lRVqRFM6wd4S6tJZrj0kcEnYvd3sc0c8WehfrchvY6j1GFJM8MVJtI6/K2U6hNt2cLMoAGX\n",
       "GVxEUcrlC8FI805dNIMw3J7oKgaCF1zehGOQTU6ExnR7vrAFVGOFinnk1q1IqOkNh6WyPKzK7vXT\n",
       "UgWVyDKuENUvgC1JumrjvppUuNypQuBCgeamWDTZTEL1kbOnxETNdC+eQBi7qEwN3wywEJ69tw8D\n",
       "8S4GbonUI+EAAAITQZ9rRRE8O/8ABLYAPhVe7Qg/GirOVBQ0yvwqSbbvnDJDVVo/WqRFmmRGl0sO\n",
       "lEQAf0hfu5jGhdLkrEE+KsUA+MBb29LfbuXZBVo9/yolMDk0PJxOzN9saPZq4Cf/J3smFRD1us/x\n",
       "UqZBxcgWyQATGgs/f0mcBkIX9/ohEqb5NI2cfQ+yNeCbVYOPAesPjVv/r4ehpMW/CTXCJ5yaoJp4\n",
       "xQlTVqewRJaPiVMeZh5rUq5Fmem+LUSeLLPwHmdN2f673oOwQpdQ5YLDbPvW1L1sfNhq8Z3i3sLR\n",
       "vwQM5PEd8/n1tIwLeapb9l/UVtDl7HygRPCHQacL5mE19BZE2V7TPcUqvVM1smjgLppGi3gyo7db\n",
       "k5ph8UF1f6XeXy/360W7JFuTx9GZ7Lz8CwFsrRiRsA0f05t+6Bm6QREdtVavjxS9+V0TKQFHkcQq\n",
       "W1p4UVzX/BSeDaXb2T8uo++HouWyTJq7DeP7jV+9WSCVzkOVpPOFksE7Rj4E9wfwNTT+ZFf67vK1\n",
       "iLQxTjFQ8qF7gfHk6lU8A1yULZLMNO1ZROoIn+jGtQv5UZLnyXk6OWGQKb3IkeFI1fEJ7+uoDHri\n",
       "b6Qw+3JxH27ay4+sKrKWMMMtyFu7Ztq+QAOIt6Tpuff/Phq/agguoYqbJW7DaX8S1dTJWS+7JImF\n",
       "950c4ArCnMrgOU0vgudXR6k7IC0pZShrJZEkh5mIAAABMQGfinRDfwACxRH1E1/MoP6VcJ2dFOl4\n",
       "APxH1kvlwNH0YOH6bU3LRfDC8j2k4rmq71l7FwVIzzBFEIQkmA5skb76bq/iIm1b2cJCGn+lmxw1\n",
       "4kQp2CZ34WvIyJFTr/84ZariAX6X47cBEvJouMFkMuNdxyZKjjJLJh0rZiEZM5aHBSReZkNiylaZ\n",
       "Vca6bTsmfBQvcMIzA8jFPfF23j2NUFzWrZIAHmh4kK5CjXGma5kRIvoBlHvU4ugfJMvrmEIwTCdT\n",
       "FG8eYITmfJ6mHL3Zajzsm1Nrf32XbbzAXcr4Xc6p/QRZ5FmdBl+Z2IdjFeOAesXKTsI2ly2X1HAX\n",
       "QvUh232t70qlCX4iDJpTiPCVLb8Z+fOd14EvMD01Lpmb52i0HR4AAMYhTzYctAECwZLSL8I+AAAB\n",
       "PgGfjGpDfwAF0mCKeo6fSSN6SDupd2bkeKuvMD8x4WEzxR9aN6tT1nsACIPd9Bmq40XxTLw6wFfp\n",
       "1FJtQg3UdP+vm5LodCz4tExlXDYvzP9g2g5yIvO/YuqfLExTXHt7ZVUpOxHBozOCTE821838nMDG\n",
       "FRiqt8VRZ4K8zU7PRe6GZhz+LweJcH2KiO/m88XQUFP13WsCiqSypMMDllf9u3p6ISBdldQqGpjx\n",
       "FDw/N2oQd7HYDFdSyLac+UTpjG/B0q0Tt+DuQyilLB/JbTebJ7suwniLN9Fd2b2i6QtT5+JdknOE\n",
       "s/g9UM6PI6jCe888ewXeL24LfC11YOBDZQr6wjUrUq9iMFf0PNdf7V8lHWCQHAJ7aUwzt0JD6COv\n",
       "j8TP56yJVSX2q+Xn9RzoKsHMVd5d0Pmi6WAABCk2RhIMCQAABXhBm5FJqEFomUwII//+tSqAASH+\n",
       "/ijhmnF9jQHDlf3tDcYMSMAn9pUqR7hFUbbDo1mDE3LUpemeESZKdH8ZzEVOOSwYKsSgV6EaZ0/2\n",
       "piQBqRxGc4EexySrAX/U9atRe+wZfb4X4mRicUAAozZlW1XijqjrQ0epX3jQZ64Zx7jPitFlSspV\n",
       "cc2QbF5RBv/8ZrKDuwtgJf26YRg87bNirbk0DDuMIVWp8ua4gSc0vhyY5f3L74uXXJjJ5EAbAo7m\n",
       "0f76qTiJvD8TEfXVDhBFYap8LKDyKhRMdFHAwicRNgyj9WcTAgzEQv/0pbSKWyZEz+URPqqPhiiF\n",
       "McRNVcl2qCK5JpMJZr6d+G5inctS/hIprhx2MaF6VIclCrrXv5DWelNsVgAClyzEDQSbHwtnEJn1\n",
       "QYbe8oelx5zEb9jsHv2HK5gOTwDHzzNyXiaeOP/9w2uUfrk8Ulfafzo30tWytfdQMS9zdj2nz4h0\n",
       "U/O2oZ8nvdTKMFq9myUI4BhKEW8MKKXew/Z8J87gAwGopp75nDCad1usILrBwvTb34lGC/7Y69uH\n",
       "0CA2GvX3WhS1JR/tbOEjy5a11jLeh1wvvWm+Vs3cc0VfZkE0iHxZCK8pBQsR43W202GpbwXspo1r\n",
       "r6F2vuoEAQ8fS9c7pFcA7AUV9bydr8ZfX/rcDs76vk9kIV5pmIel3EMGsTqsiPzEi8iDrbN6WY9Z\n",
       "pujPb2LWHKbABGzaQqXX3pJNLP6dRWpCD07iV5GH2AEFOo0ExIp9ArQI8OtVifqQxeOdpWQl6tZd\n",
       "51+Ja8YhPa7Cn/hXjOGWhMSCUgbv8AIj2/DI4PTkfBP8euWhKwy8H4P0EjXQgCeeKnh5W5NY/eJI\n",
       "weCe498ThC/lrbkCABUKoFBIcyCdTC0B0AYj1IkE5jwSCVI50+5btY4Pa6C8NajjXaiiZO2cusjz\n",
       "6rAFfUaWcVLAWHQ0K5WObjrPVBMdwWJ2PORYYp/D4/KCTgxEfQzHNAB7t/3TSN8SJEoSTWLN3uNZ\n",
       "NqpjteOM/vKPcqC+bA3YEIsLFpzjRYrPUg0BkLcvc3OvR6/cCL83g5nPag8A7vmkdzwOypWhKEt/\n",
       "jNb4ZMKd+tiahtkdoYPUnl3aHuUD5QN8yzK64nahI4Pvfz5wr/sUKgV8Y8fPojDvGQDDpwa5HOCI\n",
       "srXcb+9DtIVkQKCqUInmG53+au1kN5en7v6+Pk3insYBdWjAs6K9ZIRQtlgYAkymD13ZFeu/mJT4\n",
       "GRUrz05NUYpET0SQoGzR/zrtns6+Iq8AQuvIKroAkf1JHKDYv88cv9rvvjDKBK3vBu5mpDY0X4bQ\n",
       "JpzsmjRNQqukV5SyHoWb+eqYYJseEF9JobI51CJ7Mt0hkJ4G5fsYfwjqqrgxy3Am0UqNnS5QpIC3\n",
       "vjp4asJEXuiiNCIvWLpjZ/R9LGscXbb2CDyLs4TTCaz4JhcAZaxG3A4yXuN2I7g1ZOaKBWN2rbhT\n",
       "vj2hYejBcduL8APLjz+a9yQFELNwOltxLcj0b/3gt6TzuHUwv4o/uVBDIlXINwoCv8AYGq1sTl4N\n",
       "XQZQPBzgaktolKe/4Z+bZ9q88zeUj/Duk3j7oiL6Zk3WSOodN/36ZYyBSh7uSC8AmQMqhaJPe39x\n",
       "2hNRVQrnprdwJUr0TQmOE4R5Cd8L52Z/jp3NcQbXUqWC8IXsR/Ra6C+wOlIipufA+ASU4rWw2M0s\n",
       "OycNoC+1hQX1f/PArAABQ1mZld5/Aw/BJtZEnmq0hevqPnMdzdugQfmPnT0Wa2c3ADvIE5pyZrAQ\n",
       "jxTdq8kgBUdUjoGfKri+tPjVkhFPadt+haME6iljjRTZVcsFe4qd0KZDOZWKaVORWdfQ2mPOrVQ1\n",
       "+PzelgMaDf7WaeyO6wAAAi1Bn69FESw7/wAEwpUzr/3ABCnvl/duy5FKlRtBC/C8sOsF9mW/kWPp\n",
       "mkBQr3VHHB4uM84xdP+sNkZvEnZqL7uiR4BybrvAdlZP3Mnl1urKYFxvNnk33tLAzGytqwHUgG4e\n",
       "8X/yJ8X2s8miczACe306ip3wwJsQ1EMsyr9qZRWy0w2wxab/QykR8YI61YxZ9DX/j3sVXtu9O3Rd\n",
       "R427ZqJ9oGL5Fr8vqAcQhyaIK4ZD4mN7dLHxNSf7c4w+wtZnfkiXVhhkFXkqjW6u0qFHnDI29gyT\n",
       "KnlYrLQFHAyuGjtuWym1CUf3aDd4/GhyuFm8rNlLJ5ALlsbDHacZWWFiWl1u3V+KjfUF+yfeqx1h\n",
       "Ok6JQrsNaa4wRdRw7zusFnzg/f7k8whE5+bkwo+2slIurfUJBfTKHrMmsVVjpBlOFWLXyYt5OkAf\n",
       "tgJ96EryZKxvsCs/y/GYQIIRKX7rPBrnfZ/FJ8ZyyO6D5w8u7LZBtY3b62PnJGIYNObejQZf7uKJ\n",
       "8Nn3wjESWYz1XUwXnK06sNbYDv7ORTsAGuvvL2lw425GfSK73g92Wnj1fqsXpIQ25LD6RooLHt0g\n",
       "a0FZmf0Oup/8cW2YoDs2briPxyfAVs5R60THfJAp75oi6u8Nl9dTtYEkGj9ot6hlGMXLMPvivlp2\n",
       "WxHxjWdKj2pW8R25UzRau8x2euovY13nnj5sBlCGh4Ww4p+vKRZqdQJOlv0XtYABfckTrAfzG9bF\n",
       "HGNXCwAAAXcBn850Q38ABiEE0GdpoP1IAQp7zOT4xfiexv5BBZ14/KdJa/e0SJcioFNwD0LTTA23\n",
       "mAJKDb22bzJdPrMxX5g4xCxr/WCoJNnaT8maCzwsKp3a9vSP8DiNSR8BEW5KAPJad3QTwLW96ghb\n",
       "49LR3bOVdPjPXDWq0lwVslAYy/FUWuBqddnPdFufp67s3JCklZ9rOIGi16zAKsLwWkFWcebnEOo5\n",
       "r7gOQ6YTcQ3x2zHzy2VSkJQSj2SftgcpP7rwzN79MHwshdz+MmfiCWoT3o+rLuSg3oEwkfgX8w7t\n",
       "JMEKHKR8zr2gdJv/5daRoLKLu8czImRqYiTx51OBXHuBNIC/zp6Mpg8wBygac0ACI0gimjE+ht5E\n",
       "CU3mSX+7PXJHSmLEQnOSMKODCgiv81Thj0r/QUun/U0QZHDQkgtzIov0niZBqLFVCdmVEhOdfnIV\n",
       "MWoG28KChQk7s5xghC1ISww2XZ+jbu+cv6ZaNAD5gAABCbeLDMxqZWAAAAF6AZ/QakN/AAYMICKk\n",
       "ABEHu8ZELHGWH9nuSZ3tMso2tbrxs1GefFNaylKRvFDFuS9HqJwKCcPaC2L+qOmNHefWNHXTAWSW\n",
       "qRCUcx1yR7RZfdf1T0E+CVxELfU7Nfj1MflhH1FdcXwxVn5UFQwASrQfJ/E/+AhOcrvCK2o4InPq\n",
       "HokxTtGyoODRjgRA90EWzZmPCHsHdL2OYKEkpwkL8JeZfjf7HO0VfEN7m2lGN9HsaRpBVnlCb+tV\n",
       "zD7yR6JQyVVl2mlxVGVzdtT9IV/dh1n3ssalWruIX0Yv00s9yy/xqU9iTwohyUpST8cpLWcg1LYd\n",
       "AwCHi6H5RJVmCO2Ag/Y+a2gcxa2Eic/tjNiivaSRpgbtrD4bH9B/NeBmmw79GuuLHtM/ibHQhcs2\n",
       "x4hnd9JVu6gmhmdOrHJxEdHx90IHKB+Dk0bli1zeYaa52xM919u4mCNPJPBjMPgGSLkmlqr+VCGx\n",
       "ScKluUIiFuLGjSH82SwAALZ7JaIJ5AZUAAAE/EGb1EmoQWyZTAgj//61KoABIQ3AmAQWcgp7QGeh\n",
       "gBKpzJhAlHMgvzww1ddM1UtsJAuUmA7MOX+RBSaEn/lLiq/Gdjx5RLoNH/kVapANeLxlNG1Ddsad\n",
       "9NFZ582rT+WWMKARRla1yjgNGkyKBWBer2l+yvkl7N0NpQg+W1aEgDpTNB1Rpolwjrq9m1PPVK2v\n",
       "IJYuxMHSRQfQxpVCUkQ4NMs7XisJvbLdpsg127Gd4eWKofakblV/K4owGv2PTRThrEM3iSiJl9PS\n",
       "S9W4bNomu1Cv1JI7Vs5PET5cT3ksCavMwIoBpP36XIhOJ7ZIosjY53TDcVQ2+noSkKR7CfNY+m2+\n",
       "+gUuTnrwIiFo3pC6MOBRcY73mbxxcEHvHecUmQxjOukr8ljaRAd1gUtpyXVye37qWjamHG7LhwO/\n",
       "u9M5EtzrK/dzYgbdEWmVpp7roYoOvFvKRF2KM1IYAFVEXKv+Me6hmxAFjiWn/FLKXLgQrY7sxEzt\n",
       "WcGW0qU/gVsGe+U1UUyhLfv+mf/8z/h40hhO51r1tsg7WNawGnc9t1MQ0ZBjt+UAlSKE6szblFmn\n",
       "U2Jto1v4h5LPmq0fFWVYHxk+rIpCLwGabbgRU4TQXm3Xto78a64ReLrkgOImDjM1/bt0j5TWow9g\n",
       "l5wfAZms5vUH9wGTCXYIf3TaJKCMupe6xnZ9NI2nP+qXOSCI6KpFCoGo2HwjqwBvdD38CxUMut1D\n",
       "LiH3fDH05NSLsIJ0Fu6GjtK/xbR8Skscinq3ehFAXm4BXSlA3e7E6Eh1d2iL5yiIFnJ6ZchYxfmA\n",
       "7Vp+nUeaM5UaEufcayNK6t0bNcgQI8Ni4/3O+Ohp0LfqBjb+26fEVa2GxUb9mKJyZOr2LgFehzmZ\n",
       "6oHFYa8+Ytzz2fgvwx3SKyy/rQ3AgjzbFghf09KN5erwQJF8Nvz1cDhLqSqtifJq+U6L8RE+Jztw\n",
       "l21NkHqXTUG399WekxL/RFBZTLtoQcX4BkCydPwlaswy61GfcfUIiVZVsLjIZiKtVFOZnw4276fm\n",
       "78YFspBVltW8FMq4ze0xVAufXRzBFwAMG48YzZvoJIwmgkZDVe6ij69TzLX3yFsIDM5ePzkol4qM\n",
       "QGRrlyQqTRncJ6L44FBCiIu7bMPLERo1aSe6TXuAua5jdvQxtvaysQp2cnR7FR2h/DRdPmDhtawW\n",
       "3hbwGUKrzuJufhXO7wgPzp1b1BXX8Zs7QKPu5Sf7afZE/ldHXdYsN5USfA7RLv1z9gcHmQ91MEHv\n",
       "5VTTclOKTVWwSgLh37iu8s+TAJCLVahr0g79Wb/3MatN9yRZyxK0E6xahCvmrQnDEspedMLq4KxZ\n",
       "NdCtiuvIHzehGT0/TCY3OdyuN4zfA+HcbJ0MdPV+ADg7Bqcti8rq1UObQeqCeH5uCZZFKqlo6okC\n",
       "L6e/yiyEmdCJIb8X9/onun8NfOAEh0Op9zRdWFYfpVj700GCD++blT1pdZYmZ6Nn1sot5NmgdV++\n",
       "QumXGIzD6bvjPIbYGII3OoUa4+MoxtqJvmGs2U/uLAtiFAIe0m1KETIzTRs90oOmZ7OGx/caeQzY\n",
       "lZwUJR24Fyq+lJ47Tlt9hooIX850qF6BPX7Lvzqp5fwWEaNx14ksoIKujN6RiHH2peYE5iZFxBwR\n",
       "5zsiKoPLB+xz4tdmrkqW6pJ7858OwBGl6kIaoOGD0uWLPlt63iIwpxs935CE2wAd13EAAAG1QZ/y\n",
       "RRUsN/8ABsFNsF9jjeMqgkHhXACY/PPgCx0dqh6VeJGb1EGNs9OZ1R/ynWsotEygHKnF3/XMSxUr\n",
       "+DpksGOsUeDV5ZKfqevu/2nAC4dgWnBmGoa1fm1NavK9Vk12i8rlrWvEg9laOMeqCzwKbUGoQ7Ku\n",
       "EKs2bBJLKoxIHhRLkzls9ZbWTV1SqS8uvYa+39CHfpKvau4kVVooow9z7YAbZpwzT565QXfsOHoj\n",
       "diPd0kR7htdIQsTgaBi0w8YIarLoGwk1mDM5Qjb15fVRcHUnjRtLzcbNQdbzU6DgYR9e+Yiekmg5\n",
       "bEvWTzctQodzXemk1y5v0Dw66Hwi6pspT3trXJArf4BpHc0Abj1QM/N+DGhi6NeHOfVOj8/jThD6\n",
       "7A74OEEEqPhyIYV3cULOdA3fxSDW0isPslDSigkmyRkZqld9GIj8kAvW7F7jc2I1NLcTU+ffVowG\n",
       "6xRDBCkxxN70YvGHoo0yuIaU5mt/E/D4WsGxnjr7TdrqMwf/tpqoyEMa9Yo9glOxMDucE6eD+aCD\n",
       "AQgn2RuCOJP9487CVBfp5BgM51OD0BSAIHHHvxV6YnNBXiAAAAGUAZ4TakN/AAZFJWoUQAOLzWV7\n",
       "ejSJtpAYdAFtujR1UlAilcJ9xIfkigb6pzB4XIA3SO+bhFvj5LMEUcV2eOSE9vv8dXe5EQGfWFe/\n",
       "AQSEK3FuvWcfcOOLX4Vz3rL9VeZw4v9o8cAp61g4hYYYN6TzQIeA39DGOd6TEFoqFlNJpyHSwqB8\n",
       "G4aofd9w6exLlrXGryx1Io6P25Ul/Dd/SHXnFEi7SrGC56RypdYqVg2a8/sRVaY1QeeOlhkp4ZQt\n",
       "Za502MhABUgEUObC65ahw2sbMmZPmd4gQXzPJ1YCibumc3slvp3BVGvkw6QpgWfJKZUYwBVd1252\n",
       "pONOH9YSzd2ZiMkjFcinMcGG8g7D62Ls03Z3GiiysAuBQUNnNAmxEHAmKe8CzLl9cM2+8ebW0wsS\n",
       "MgM0SuCsLftZGgys+DHnpkaaaGdIWS1ws3eEEcuO9dVn5L12DCAp8g2ZjLy3cId6Xg9Dcnr4oJwa\n",
       "hcZOPu2V1nQfH3hFeu5EJq685OCfx6v0DgG8q41rEAAAeM0/igih6ntAl4AAAASdQZoYSahBbJlM\n",
       "CCP//rUqgAEgROCFZegBFulU1wJgwlLc9ZhT9mL837xa4Usbqq5oHFBCQC5vXXTcnfQQLD+Wa9ih\n",
       "iOEbOpyfoVpYFH7NXx6X4QnAsjR+aP7k8dsxLUcKLoGFSd78MDVSfpT6QYGr96v86h4pYovxIX+X\n",
       "NgEsRed3+BRP5aQVKyXHKEcKnLlN9WljkiucqitAP0ktm2Y9+slg8DDckjIbPuk142iOu1NsM54D\n",
       "gdAfIp7hDio939eOz2pasjKFXod5xgIRakBRSDUAApaByTzTdX+mCUKIbGpSfOe07sALJxd/Em17\n",
       "+94fA1+G+ENRmGgGjUImA9joFglz+ahfdXcPK8dLcBE2zVXdIA6sG2yHf5zg5jyCC9fRv7DbBMEV\n",
       "18NDbE2SBdy6Zsx0IWrg57x+QPDrLJE2Y7Pi/E86VnGihJVrO2LMZxR0yzz3IRXtg9ikOEhqhhtP\n",
       "xUQu78zfVEzqhOJoqzMlQnf+yZYTxlUzEUNQpNLz+BUnMQruJSg5LyUNuWqWn7fzQtvxNksn0zFd\n",
       "H2AU+Ozi6V+Wfr43+DoTh7qUTS4zWPM9HUMx5SKqyPepvgeawR92z7XUOf7Zm/BCdWB3UgHPXCmN\n",
       "ax1qni6eEf9YCqzAGfL01n2cH1zKJfTqF7tRBAA74R63ORM+u8ASoaxBejhmwul7nzD6uTSqcdu+\n",
       "Uw+xZ/xyNSLdD9OkMIbhMzPrJTjI+irtHktjnSzTG9biBYOG0cnR62NvxViJQfryC3aZOeaX73S3\n",
       "cRYRc+bQdADVSwfhpwxGi0vRyWKuY9MfIeRPuKyD5ZEmrJAc2mrNSYGYj6k+0bNHPxKuRYOvIuel\n",
       "770JO8ewbPilpeNWsBqnMQVVAId85n0KGOE2blknF74ykUyXeylyOQXhDuuNvFu3PVu0jA00pqZi\n",
       "21T3+mGQjRK3Tcek2T5kIdckiBw1NaXmRhDjdU67xB3ZC99DUxdfGkKSzISzr6aoo19HRMKTmyLj\n",
       "YMAIKcwUaULevplJtQGh+naqPbAkuKZiSx392LehB6Hw4X/teSmCvMXHLtEt9v7zyNbYS+5kguM/\n",
       "gh+FkdcbgrG2VWV26C8Jv6XWtgQI7iVpcRxxKrHo9D1IyF0OunI5BZb/CNH3EtB3wq2BIG2tRl3r\n",
       "IH1NRZiSsuuOFO9IwK9EHRw/gF0PfT9I24TpDwKTZwoF/mue5z3lcrRL8mb4CPBBErlLymWKdae4\n",
       "16h5JmYC6YU8Jzs5TFQyoy98PzEFGqR7DVGRmW7RDJir2PFo5sR9gdDqVvFvxMXWCeAOOflYRVwx\n",
       "NSNViNJYMcHRL7USQxpvt0rPWHdt/Z05tcLLQGJko3N63OHXP/7yg6fJDSb50lIq43uZ3bQU5joM\n",
       "JKWawHRprH7IwHzSiUfIfdcNVXQ0N8Fmg4txLdelZAO649x2XRjYb6LqqB9bzGzkyRQIY1PJ1FNw\n",
       "Db3O2DJL1ERlxxH27ftSJB5/LhMTB5COSeSQMP2oM6VR75ZPGmwmx9b35EB+yGeBZh7uWPf7y34f\n",
       "B/Ljpel5Drnv2SH8VLSmnUoeW/PX5Wp5pySPdT5uBocAAAHiQZ42RRUsO/8ABMKVNuU94E1UyWBX\n",
       "CACcUWXbW5txP4AxkvoKy4qh6DK/S8U6A5LuIu7p2UCrnnFZZe5Jy3kxFrPO21FcOYP+tNFWQ4tP\n",
       "KX0csAxaTJiXx9tH2A2q7QoJ+Wi3k48ECvxAx6xFz8aEWrM3X5CGbwD2dqbBUfFQPJtYFIz/xs+C\n",
       "01zXMxHbTiKh+wv+KLyRzUodnHTIZyGaiaNyc+ytyN2yeUopTNQdzitbzR4X5P2xSi6fmlpaEfwq\n",
       "amVFPoFUeLBtYftSUDBLahDy1Sf6a1Mz+zpI16Nku8lEAIGuLRew3Q/dlekcDyTU61+hRK3nB0MT\n",
       "AxESSiZ4iXMOGbAhMAI//t9V/2jQwUg0dq+f9d0YMBp32INAlOuuO/w8nXF1l2NLZCqhOHsrMxpp\n",
       "/gbXxTCVTjXfk8SlhmAPU4Dt2T51zrQkwcVxGcPdzad6uTloy+skuz6OeljJH9ElfyAStWDfg9wW\n",
       "oEVUZjubpPgj1BZ6G8yFwzeIlav5be94HdDTYq4qKYyfQtfR32zqebRTCygmLdg1G705qmyF8LEG\n",
       "OE8U2nZKMVFs9ff53GQFTdp3EgjikcHIOeULs+g0U9Tu+u8NDomgqsGvXU063y/3F2PAFTfIFZGx\n",
       "HN5xoOAAAAEMAZ5VdEN/AAZI0fY2QAEOvu2k3Is5ybDhKM0kStcgfFbwFVQhX4iKWErZBSS2vbhv\n",
       "qAbVshBgfvs3dhbecYe5+TzgKXoQH3VFKAm/AGK2mu0r9BUOB/MFNdGeOzqAyB1s5cHErdcT0bXf\n",
       "QlKbe9ubrPpbQTuo8+CVe/zIVaDCcqcbrbioe5tvz5A6LVGmoyQ5v0A7CorNbgQewBzZmLMBDwH3\n",
       "fN+uKFBFCEr4dwqBRy04OlnbaL9a4X343wKJ6dnT5rCrczXJ7qYk9kftKlVaoIoRKs+bSol09A5e\n",
       "eaP6Pz9Dgmv9IyxMtXj1bnV9A5/UegQ25QBR8aZmsiLvIOGqDvZlpuzAAAeOTkqCcwAAAKIBnldq\n",
       "Q38ABkig5eQz5BIANeN+dtijLD8PGIG+ZFpIpv8rSTq757vVWktFDMZ9mk/ZfRk0Ag5h0e4uoozQ\n",
       "o1LwIYaNNw4wIICct9xVbXiqpPVocAiIQH+MMdN34Gw/EDLcT9ALEB1vrg+iqiUxYabVAAA4LH4i\n",
       "snwj9f8JJy/ZgayqEWgKdt12xPN/dR9ZYjUPtRf7oy5vTOowAAEFqyTqjiEAAAMIQZpcSahBbJlM\n",
       "CCP//rUqgAEobwbgBxvpWWHLoB8Z79Y2M64R1MFp4bsiVwPsBlN5H51c4qL9P9uBX5l7LD+/5Tuy\n",
       "mwdx96k9LMm1z1cYpKL081TcJN3IMXq4maSlEMGWpCB6tOWIqGybVTjtsvI/zOP97XXZxVAbrzUf\n",
       "MAlAkC+TRe6BM084kInt2Rm01KYK7VoZ4CaFcouZo1w6ZrhPTiVukhFZBcDDHm38fbRj+rwNelwF\n",
       "cMAIpXrTC0JpewiB2f1o2SUpiY7YCjeeAeZM+7RjgP23Dt/pER3w9Fh5CkK6jGY+CJzrogygbWN+\n",
       "qM97HGJjwLjOxxia/TD0p6XC+gZA34Mi/oCV39Jbho3U7HrbUsAIg3JKSt7lbi5x6uBNUlX5O5N5\n",
       "wU4lyewNVmh4N0Z30DmutNM/8yMfRdr4vI8sdB1bgJ3Q4CS1y96ZQsAk5AZAYBCHgHAU7dsZoaQH\n",
       "2pmzNXjDTsdkqF5rs1sGUUJ56EbgPj9tuJnP9BFvBufGUdvo8whwPJ6ubWrZgJg+ZW/Zr0Ej8Xbg\n",
       "4+zLl0v8zqyJ9+Hvcat8NwP9CTIea5QW737/pCCChmjgDXKaVCA9Q7KowLZuyxzCu3gW9ZJtIoHQ\n",
       "5rNmA4qxEC3oD8s59B4gDgAYKJVOUBUvB1ZbbdvygPBI985/m4GJri3LV86XHm5wNfoW27Bywj8Y\n",
       "RyAsG9q9QvinrcgeMoEZuVBOgugCuj/8t0Bdu1vv6U7RrhfqOjBObtlLERwjqIQKPLxHaYcoeRqa\n",
       "+rR97ACK+OYQa1akA5GKJuuPahCSx5gxyJ9BrsIgSZwOoyuv+t3+HtJIPNGY4V0OsdMzjkfFWNLe\n",
       "WSzAmFosKuUWYAv1I3UkbT9bqymXh5xRrmqJNc9HJPS4/9umzm48xdJ/t+OBiKhZGXv8Qh6k34rG\n",
       "WQSnRN4dnB43qtXNyXAFAbi39HhDVRinl5W6gJKnEYTDX/Ozd+5grJWoxyE0npAZUf9lZ4+BzoAG\n",
       "h14Jmt9ylJ/04H5m94+KCNsE3MDdZgbaM/wAAAD8QZ56RRUsO/8ABMKVOv0qxzCxYPVs0FoAPiDO\n",
       "JjE3h8G71LaEWxdi+f8Ag4drId/uWkGerifXERcEJ86eu7NLEyxxCbmyBfz0qL0jrmRLCxE6nDax\n",
       "687yYGpy8duprgl6+aMhn1m7EplD8IrsrlV6GATvugskcybpgG7+LKIdsM0RuSveTzubb+egDw7d\n",
       "qWrUTolwTH6KogWR4ph4bv3IVWKSOhAiSlXq8pD9tu4RIlIx2HkyUrXA3KlQPmt+GsN+dKFRXw6B\n",
       "+vqaI+SVjjqyEjSEHMKDL3vn0grVc1AYzv3n7iVh1RpzdhorYvaorERQD8EVbYTAYSPYS4UVAAAA\n",
       "ZgGemXRDfwAGSNyyW+s/jBld80AGy7M2VbgFeNRcisBEhIFsbckH2Jm2MEG+uMWidlLjs66wbihm\n",
       "6eXYJQ/8Kh1IUSIUJ9bPIvjphZH+lFqif/dCtpHqW3W+K4wzulAAAoxoWufvgAAAADEBnptqQ38A\n",
       "BkXc5I1tlMArhi/7dxngAVa2VMisDk3XnCLGwooRoKp5XAAAPRoWA5ltAAAB5UGagEmoQWyZTAgh\n",
       "//6qVQACUH/1ABxtvmPz0jXeZPucFiom0qStiVv38l4JegkY/+prw0r9WzBIYTs887euknf2/vM0\n",
       "ICsXuvQ8aV+0Du+g77B4XtfauQAgS6kqigW8KzoZ/mXta3BaWapSC7rsgM4so5x7x2Cb0Ok+6TYu\n",
       "eKR0WLaW1bC1jbY8DgDSC+6AUIGOC2RvzGAQRoITX5Tw8zMLO9iWM3NvpR5xCdczQH1MybJEmNFM\n",
       "IOXwbGRQayINfmpb5WIK1o2RRIvETXqaQMk5MjApA9YCyFdlnDUIF1T4KqxeAPxqJ7Lc5lV1OhEf\n",
       "6xeGxva+d5/fmy8TV37L/7tR/2T66RCe0Pf5AWJY0iGnlm+Zr2XJIc2xyzyVAMxK9MZ7oLfX96EI\n",
       "B8IZvt3ZEi0kIH9F0Bq7xxL8pvMrJmuDjEeU5rWApg+XH7INg471DqT0sL4kCerTSA1BF8O0k6T2\n",
       "vHbM9yx+kzRyxyMawWXeEHt14nYguoP1papNABfchwa3ncDgJmjBQ5MrKg0T3kSk7QsCtkELT7XS\n",
       "8kkInkDfFP7ENUoz2VDaR3/dVuWrZSUvnqmlPoRvGZYiMWfQHErlLoQi1rrL4k7cShG70BtLQlP5\n",
       "HYwPy9tbu4AAr0XCFLfm8TJZAAAAiUGevkUVLDv/AAS2AEZjqACWgktamYRMn4eTyVU3E/w2Kmyu\n",
       "axdJNMZUErcYNAp6yNpRcIF/w/rJiujAffh0np+5ac7ci+AWhURNHi7KPTdeZlqVUAqoJVqk/tDW\n",
       "v0UWdYnThs7LFsN5qNdYHc0FmvRP0f8box5OUO/cAEB4x9nyKASFf6d1TBxwAAAAJwGe3XRDfwAG\n",
       "SEjCe+rLjdQxAmhSO2WlwLo+L5eQAACsLr3wDsciQAAAADMBnt9qQ38ABkd8OQAmeLbRpNWye2BR\n",
       "cZs+UtNNBKuyfY8+JXFA4FOeAAAGk7081j9LZWEAAAF5QZrESahBbJlMCH///qmWAAkB81QAcb4Z\n",
       "COxUIPL4z0U3bmRBhqV3Eyz/lTDeLenZ/MIBFDXh2nBNjbC1Ovjo3mvxFNguJ9VYlJqw2Cmac8w1\n",
       "n9dWltmnwKkIrsIMxyGfdcaDhoKQ0jdLvONTDqcbukmdFVBcFi15FsDIFwFxw2OWLj9l7I0WntRJ\n",
       "Ld06ZLTCKVdUvcifTUTaL4fajsaGP2X4GsYKs/aNjXfqv+5+Fs/KftCZhmfpasvUHe/IRqtqvXwj\n",
       "t49VySmJMPWSKutXiooipSiG3wJQ/5yyACNnHyxmGzitKsoiCwJXXzl/1j3CQfkUqZKGUznOo1qU\n",
       "dOMtjOlTfilkVjI7Qe9AJ+lo0Yp7GkYhtd1k+rLo+5eVvlEDuUFmKfX4s6vlFN68W7wWDA3A7ICB\n",
       "clLMj36ZjwT4StLYI7hk8BvSM7E2rwAz6pXr5slvmNdPg5U29ufJirmAcG9qeRi8eyBMTARQxNll\n",
       "VafM0XC//BUTT1AAAABmQZ7iRRUsO/8ABMKVNuWd8hIASrUj3FU/67B5RRHJiroA1GWGOBPnsXVT\n",
       "2BMCCjgl5K2AGyCGNBzGwdz23Z0Btf/rXoacYPiND+K4nS+f3CbMvnGGIGZCZsBM5tcXAALlkEAH\n",
       "AYO3AAAAJAGfAXRDfwADI9Zzi51Mw4+nkAIZED1kLlAAAFDgRpFeM2TBwAAAACYBnwNqQ38AArM3\n",
       "NxYONYvmzDPBgeHQW3idpuQAAA8s3MM/UWgsHwAAAMNBmwdJqEFsmUwIb//+p4QAEVvrktQDhVFk\n",
       "gBCBQqddyT1dIr6LgGKj13byNswjuhM5uNz4ZKvhvyXbam7NsqjciMweoTmcdy2LFZs5VR/O4HKk\n",
       "ApFwWD27QZRaQHSUP3nSxKhMDhheOMKphRskdJPuxOax5203o4Qhp58HPcSJA448jMa039dSW9r0\n",
       "QoNQJ6aiFWcmmZ580IYnAV4Kr7tk4v6QUwXJvLc1hXTaagk6QZXEGWLh8KYbM40C2W8DNH1v4/EA\n",
       "AAAwQZ8lRRUsN/8AArMXEgB8wQHVrGfO0G5Wpv6tkqSaAyE+/8ALMFBl4ugAwl81DjYXAAAAJwGf\n",
       "RmpDfwAF+ANKPIAn+/H7jSC19GLnL2hpWYAACN5PPb6j0u8/gQAABLhtb292AAAAbG12aGQAAAAA\n",
       "AAAAAAAAAAAAAAPoAAAPoAABAAABAAAAAAAAAAAAAAAAAQAAAAAAAAAAAAAAAAAAAAEAAAAAAAAA\n",
       "AAAAAAAAAEAAAAAAAAAAAAAAAAAAAAAAAAAAAAAAAAAAAAAAAAACAAAD4nRyYWsAAABcdGtoZAAA\n",
       "AAMAAAAAAAAAAAAAAAEAAAAAAAAPoAAAAAAAAAAAAAAAAAAAAAAAAQAAAAAAAAAAAAAAAAAAAAEA\n",
       "AAAAAAAAAAAAAAAAAEAAAAAB9AAAAfQAAAAAACRlZHRzAAAAHGVsc3QAAAAAAAAAAQAAD6AAAAgA\n",
       "AAEAAAAAA1ptZGlhAAAAIG1kaGQAAAAAAAAAAAAAAAAAACgAAACgAFXEAAAAAAAtaGRscgAAAAAA\n",
       "AAAAdmlkZQAAAAAAAAAAAAAAAFZpZGVvSGFuZGxlcgAAAAMFbWluZgAAABR2bWhkAAAAAQAAAAAA\n",
       "AAAAAAAAJGRpbmYAAAAcZHJlZgAAAAAAAAABAAAADHVybCAAAAABAAACxXN0YmwAAAC1c3RzZAAA\n",
       "AAAAAAABAAAApWF2YzEAAAAAAAAAAQAAAAAAAAAAAAAAAAAAAAAB9AH0AEgAAABIAAAAAAAAAAEA\n",
       "AAAAAAAAAAAAAAAAAAAAAAAAAAAAAAAAAAAAAAAAAAAY//8AAAAzYXZjQwFkABb/4QAaZ2QAFqzZ\n",
       "QIAQeeeEAAADAAQAAAMAUDxYtlgBAAZo6+PLIsAAAAAcdXVpZGtoQPJfJE/FujmlG88DI/MAAAAA\n",
       "AAAAGHN0dHMAAAAAAAAAAQAAACgAAAQAAAAAFHN0c3MAAAAAAAAAAQAAAAEAAAD4Y3R0cwAAAAAA\n",
       "AAAdAAAACgAACAAAAAABAAAUAAAAAAEAAAgAAAAAAQAAAAAAAAABAAAEAAAAAAEAABQAAAAAAQAA\n",
       "CAAAAAABAAAAAAAAAAEAAAQAAAAAAQAAEAAAAAACAAAEAAAAAAEAABQAAAAAAQAACAAAAAABAAAA\n",
       "AAAAAAEAAAQAAAAAAQAAFAAAAAABAAAIAAAAAAEAAAAAAAAAAQAABAAAAAABAAAUAAAAAAEAAAgA\n",
       "AAAAAQAAAAAAAAABAAAEAAAAAAEAABQAAAAAAQAACAAAAAABAAAAAAAAAAEAAAQAAAAAAQAAEAAA\n",
       "AAACAAAEAAAAABxzdHNjAAAAAAAAAAEAAAABAAAAKAAAAAEAAAC0c3RzegAAAAAAAAAAAAAAKAAA\n",
       "FpYAAAHCAAACygAAA+sAAAM1AAAChgAAAbkAAAG0AAABqgAAAeEAAAPCAAACFwAAATUAAAFCAAAF\n",
       "fAAAAjEAAAF7AAABfgAABQAAAAG5AAABmAAABKEAAAHmAAABEAAAAKYAAAMMAAABAAAAAGoAAAA1\n",
       "AAAB6QAAAI0AAAArAAAANwAAAX0AAABqAAAAKAAAACoAAADHAAAANAAAACsAAAAUc3RjbwAAAAAA\n",
       "AAABAAAALAAAAGJ1ZHRhAAAAWm1ldGEAAAAAAAAAIWhkbHIAAAAAAAAAAG1kaXJhcHBsAAAAAAAA\n",
       "AAAAAAAALWlsc3QAAAAlqXRvbwAAAB1kYXRhAAAAAQAAAABMYXZmNTcuODMuMTAw\n",
       "\">\n",
       "  Your browser does not support the video tag.\n",
       "</video>"
      ],
      "text/plain": [
       "<matplotlib.animation.FuncAnimation at 0x7f3abe5f4438>"
      ]
     },
     "execution_count": 102,
     "metadata": {},
     "output_type": "execute_result"
    },
    {
     "data": {
      "image/png": "[encoded data removed]",
      "text/plain": [
       "<Figure size 216x216 with 1 Axes>"
      ]
     },
     "metadata": {},
     "output_type": "display_data"
    }
   ],
   "source": [
    "# Paste your code here\n",
    "#\n",
    "#\n",
    "%matplotlib inline\n",
    "import math,os,sys,numpy as np\n",
    "from numpy.random import random\n",
    "from matplotlib import pyplot as plt, rcParams, animation, rc\n",
    "from __future__ import print_function, division\n",
    "from ipywidgets import interact, interactive, fixed \n",
    "from ipywidgets.widgets import *\n",
    "rc('animation', html='html5')\n",
    "rcParams['figure.figsize'] = 3,3\n",
    "%precision 4\n",
    "np.set_printoptions(precision=4, linewidth=100)\n",
    "\n",
    "def lin(a,x,b): return a * x + b\n",
    "\n",
    "a = 3.\n",
    "b = 8.\n",
    "n = 30\n",
    "\n",
    "x = random(n)\n",
    "y = lin(a,x,b)\n",
    "\n",
    "plt.scatter(x,y)\n",
    "\n",
    "def sse(y, y_pred): return ((y-y_pred)**2).sum()\n",
    "def loss(y, a, x, b): return sse(y, lin(a, x, b))\n",
    "def avg_loss(y, a, x, b): return np.sqrt(loss(y, a, x, b)/n)\n",
    "\n",
    "a_guess = -1\n",
    "b_guess = 1\n",
    "avg_loss(y, a_guess, x, b_guess)\n",
    "\n",
    "lr = 0.01\n",
    "#d[(y-(a*x+b))**2, b] = 2 (y_pred - y)\n",
    "#d[(y -(a*x+b)) **2, a] = x * dy/db\n",
    "\n",
    "def upd():\n",
    "    global a_guess, b_guess\n",
    "    y_pred = lin(a_guess, x, b_guess)\n",
    "    dydb = 2 * (y_pred - y)\n",
    "    dyda = x * dydb\n",
    "    a_guess -= lr*dyda.mean()\n",
    "    b_guess -= lr*dydb.mean()\n",
    "\n",
    "\n",
    "fig = plt.figure(dpi=100, figsize=(5,5))\n",
    "plt.scatter(x,y)\n",
    "line, = plt.plot(x, lin(a_guess, x, b_guess))\n",
    "plt.close()\n",
    "\n",
    "def animate(i):\n",
    "    line.set_ydata(lin(a_guess, x, b_guess))\n",
    "    for i in range(10): upd()\n",
    "    return line,\n",
    "\n",
    "\n",
    "ani = animation.FuncAnimation(fig, animate, np.arange(0, 40), interval=100)\n",
    "ani"
   ]
  }
 ],
 "metadata": {
  "kernelspec": {
   "display_name": "Python 3",
   "language": "python",
   "name": "python3"
  },
  "language_info": {
   "codemirror_mode": {
    "name": "ipython",
    "version": 3
   },
   "file_extension": ".py",
   "mimetype": "text/x-python",
   "name": "python",
   "nbconvert_exporter": "python",
   "pygments_lexer": "ipython3",
   "version": "3.6.5"
  }
 },
 "nbformat": 4,
 "nbformat_minor": 2
}
