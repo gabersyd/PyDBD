{
 "cells": [
  {
   "cell_type": "markdown",
   "metadata": {},
   "source": [
    "# Various Types of Finite Difference Advection Algorithms"
   ]
  },
  {
   "cell_type": "markdown",
   "metadata": {},
   "source": [
    "The advection equation gives the flow of any quantity (mass, density, charge etc) on a velocity field. Advection equation in fluid dynamics can be represented by the following equation\n",
    "\n",
    "$$\\frac{d\\rho}{dt}=-\\nabla(\\rho V)$$\n",
    "\n",
    "where $\\rho$ is the density, V is the velocity field. \n",
    "In one dimension the above equation can be written as,\n",
    "$$\\frac{d\\rho}{dt}=-\\frac{d(\\rho V)}{dx}$$"
   ]
  },
  {
   "cell_type": "markdown",
   "metadata": {},
   "source": [
    "### Central finite difference form\n",
    "\n",
    "The above equation can be written in central finite difference form as\n",
    "$$\\frac{\\rho_i^{t+1}-\\rho_i^{t}}{dt}=\\frac{\\rho_{i+1}V_{i+1}-\\rho_{i-1}V_{i-1}}{dx}$$"
   ]
  },
  {
   "cell_type": "code",
   "execution_count": 30,
   "metadata": {},
   "outputs": [
    {
     "name": "stdout",
     "output_type": "stream",
     "text": [
      "This graph is a intentionally left blank. We will use it to make animation in the later part of the program\n"
     ]
    },
    {
     "data": {
      "image/png": "[encoded data removed]",
      "text/plain": [
       "<Figure size 432x288 with 1 Axes>"
      ]
     },
     "metadata": {},
     "output_type": "display_data"
    }
   ],
   "source": [
    "## Code to generate GIF image <source = \"http://tiao.io/posts/notebooks/save-matplotlib-animations-as-gifs/\">\n",
    "%matplotlib inline\n",
    "import numpy as np\n",
    "import matplotlib.pyplot as plt\n",
    "from IPython.display import Image\n",
    "\n",
    "from matplotlib import animation, rc\n",
    "from IPython.display import HTML\n",
    "# First set up the figure, the axis, and the plot element we want to animate\n",
    "fig, ax = plt.subplots();\n",
    "\n",
    "\n",
    "ax.set_xlim(( 0, 1000));\n",
    "ax.set_ylim((-0, 10));\n",
    "line, = ax.plot([], [], lw=2);\n",
    "\n",
    "def sett(x1,x2,y1,y2):\n",
    "    ax.set_xlim(( x1,x2));\n",
    "    ax.set_ylim((y1, y2));\n",
    "    line, = ax.plot([], [], lw=2);\n",
    "\n",
    "# initialization function: plot the background of each frame\n",
    "def init():\n",
    "    line.set_data([], [])\n",
    "    return (line,)\n",
    "\n",
    "# animation function. This is called sequentially\n",
    "def animate(i,rho,xx,step):\n",
    "    x = xx\n",
    "    rr=step*i\n",
    "    y = rho[rr]\n",
    "    sett(xx.min(),xx.max(),rho[rr].min(),rho[rr].max())\n",
    "    line.set_data(x, y)\n",
    "    return (line,)\n",
    "print(\"This graph is a intentionally left blank. We will use it to make animation in the later part of the program\")"
   ]
  },
  {
   "cell_type": "code",
   "execution_count": 31,
   "metadata": {},
   "outputs": [
    {
     "data": {
      "text/html": [
       "<img src=\"explicitt.gif\"/>"
      ],
      "text/plain": [
       "<IPython.core.display.Image object>"
      ]
     },
     "execution_count": 31,
     "metadata": {},
     "output_type": "execute_result"
    }
   ],
   "source": [
    "spacegrid=1000\n",
    "width=1.0\n",
    "xx=np.arange(spacegrid)\n",
    "timesteps=1000\n",
    "simulationtime=1.0\n",
    "velocity=1.0\n",
    "dt=simulationtime/timesteps\n",
    "dx=width/spacegrid\n",
    "rho=np.zeros((timesteps,spacegrid),float)\n",
    "rho[0,30:300]=10\n",
    "veolcitygrid=velocity*np.ones(spacegrid)\n",
    "\n",
    "for t in range(timesteps-1):\n",
    "    #Explicit----------------------------------------------------------------------------------------\n",
    "    rho[t+1,1:spacegrid-1]=rho[t,1:spacegrid-1]-dt*velocity*(rho[t,2:spacegrid]-rho[t,0:spacegrid-2])/(2*dx)\n",
    "    #plt.plot(rho[t])\n",
    "    #plt.show()\n",
    "    #sett(0,1000,0,20)\n",
    "\n",
    "anim = animation.FuncAnimation(fig, animate, fargs=(rho,xx,10,), init_func=init,frames=100, interval=200, blit=True)\n",
    "anim.save('explicitt.gif', writer='imagemagick')\n",
    "Image(url='explicitt.gif')"
   ]
  },
  {
   "cell_type": "markdown",
   "metadata": {},
   "source": [
    "The above animation is the result of direct explicit solution of the continuity equation with 1000 time steps. We can see that the solution becomes immediately unstable and the square wave is completely lost within noise."
   ]
  },
  {
   "cell_type": "markdown",
   "metadata": {},
   "source": [
    "## Effect of time-stepping (Increased accuracy but decreased speed)\n",
    "Let us not decrease the time step 'dt' and execute the code again. Decreasing the time stepping makes the program very slow but makes the simulation result better."
   ]
  },
  {
   "cell_type": "code",
   "execution_count": 32,
   "metadata": {},
   "outputs": [
    {
     "data": {
      "text/html": [
       "<img src=\"explicit_lessdt1.gif\"/>"
      ],
      "text/plain": [
       "<IPython.core.display.Image object>"
      ]
     },
     "execution_count": 32,
     "metadata": {},
     "output_type": "execute_result"
    }
   ],
   "source": [
    "timesteps=100000\n",
    "dt=simulationtime/timesteps\n",
    "rho=np.zeros((timesteps,spacegrid),float)\n",
    "rho[0,30:300]=10\n",
    "veolcitygrid=velocity*np.ones(spacegrid)\n",
    "for t in range(timesteps-1):\n",
    "    rho[t+1,1:spacegrid-1]=rho[t,1:spacegrid-1]-dt*velocity*(rho[t,2:spacegrid]-rho[t,0:spacegrid-2])/(2*dx)\n",
    "\n",
    "anim = animation.FuncAnimation(fig, animate, fargs=(rho,xx,1000,), init_func=init,frames=100, interval=200, blit=True)\n",
    "anim.save('explicit_lessdt1.gif', writer='imagemagick')\n",
    "Image(url='explicit_lessdt1.gif')"
   ]
  },
  {
   "cell_type": "markdown",
   "metadata": {},
   "source": [
    "Here we increased the number of time stepping from 1000 to 100000 and executed the code again. We can now see the square wave travelling from left to right. But still the wave is not free from noise. Furthermore, increasing the time stepping makes the program more slow. "
   ]
  },
  {
   "cell_type": "markdown",
   "metadata": {},
   "source": [
    "## Implicit Central Finite difference form\n",
    "The above continuity equation can be written in implicit finite difference form by taking density from the future time step as,\n",
    "\n",
    "$$\\frac{\\rho_i^{t+1}-\\rho_i^1}{dt} =\\frac{\\rho_{i+1}^{t+1}V_{i+1}-\\rho_{i-1}^{t+1}V_{i-1}}{2dx}$$\n",
    "\n",
    "which can be simplified to ,\n",
    "$$\\frac{dt}{2dx}\\rho_{i-1}^{t+1}V_{i-1}+\\rho_i^{t+1}-\\frac{dt}{2dx}\\rho_{i+1}^{t+1}V_{i+1}=\\rho_i^t$$\n",
    "\n",
    "This equation has to be solved at all grid points. The system of equations can be written in a matrix form\n",
    "\n",
    "$$A\\rho^{t+1}=\\rho_t$$\n",
    "\n",
    "Where A is a tridiagonal matrix with 1 on the main diagonal, $(dt/2dx)V_{i-1}$ on the diagonal below the main diagonal and $-(dt/2dx)V_{i+1}$ on the diagonal above the main diagonal."
   ]
  },
  {
   "cell_type": "code",
   "execution_count": 33,
   "metadata": {},
   "outputs": [
    {
     "data": {
      "text/html": [
       "<img src=\"impli.gif\"/>"
      ],
      "text/plain": [
       "<IPython.core.display.Image object>"
      ]
     },
     "execution_count": 33,
     "metadata": {},
     "output_type": "execute_result"
    }
   ],
   "source": [
    "def tridiagDense(r,nxp,k1=-1,k2=0,k3=1):\n",
    "    a=np.ones(nxp-1)*(-r)\n",
    "    b=np.ones(nxp)\n",
    "    c=-1*a\n",
    "    return np.diag(a,k1)+np.diag(b,k2)+np.diag(c,k3)\n",
    "\n",
    "timesteps=101\n",
    "simulationtime=1.0\n",
    "velocity=1.0\n",
    "dt=simulationtime/timesteps\n",
    "rho=np.zeros((timesteps,spacegrid),float)\n",
    "rho[0,30:300]=10\n",
    "veolcitygrid=velocity*np.ones(spacegrid)\n",
    "for t in range(timesteps-1):\n",
    "    ep=velocity*(dt/(2*dx))\n",
    "    IA=tridiagDense(ep,spacegrid)\n",
    "    B=np.linalg.inv(IA)\n",
    "    rho[t+1]=B.dot(rho[t])\n",
    "\n",
    "anim = animation.FuncAnimation(fig, animate, fargs=(rho,xx,1,), init_func=init,frames=100, interval=200, blit=True)\n",
    "anim.save('impli.gif', writer='imagemagick')\n",
    "Image(url='impli.gif')"
   ]
  },
  {
   "cell_type": "markdown",
   "metadata": {},
   "source": [
    "The above animation is the solution of the implicit central difference from. We can see that the graph is very stable till the wave reaches the right boundary, where it becomes unstable. Despite of being stable, the shape of the graph has changed from rectrangular to bell shaped. "
   ]
  },
  {
   "cell_type": "markdown",
   "metadata": {},
   "source": [
    "## Upwind Algorithm"
   ]
  },
  {
   "cell_type": "code",
   "execution_count": 34,
   "metadata": {},
   "outputs": [
    {
     "name": "stderr",
     "output_type": "stream",
     "text": [
      "/usr/local/lib/python3.6/dist-packages/matplotlib/axes/_base.py:3443: UserWarning: Attempting to set identical bottom==top results\n",
      "in singular transformations; automatically expanding.\n",
      "bottom=0.0, top=0.0\n",
      "  'bottom=%s, top=%s') % (bottom, top))\n"
     ]
    },
    {
     "data": {
      "text/html": [
       "<img src=\"upwind2.gif\"/>"
      ],
      "text/plain": [
       "<IPython.core.display.Image object>"
      ]
     },
     "execution_count": 34,
     "metadata": {},
     "output_type": "execute_result"
    }
   ],
   "source": [
    "timesteps=1000\n",
    "simulationtime=1.0\n",
    "velocity=1.0\n",
    "dt=simulationtime/timesteps\n",
    "veolcitygrid=velocity*np.ones(spacegrid)\n",
    "zeromatrix=np.zeros((spacegrid),float)\n",
    "rhoupwind=np.zeros((timesteps,spacegrid+2),float)\n",
    "rhoupwind[0,30:300]=10\n",
    "veolcitygrid=velocity*np.ones(spacegrid)\n",
    "for t in range(timesteps-1):\n",
    "    aplus=np.maximum(zeromatrix,veolcitygrid)\n",
    "    aminus=np.minimum(zeromatrix,veolcitygrid)\n",
    "    rhoplus=(rhoupwind[t,2:]-rhoupwind[t,1:-1])/dx\n",
    "    rhominus=(rhoupwind[t,1:-1]-rhoupwind[t,:-2])/dx\n",
    "    rhoupwind[t+1,1:-1]=rhoupwind[t,1:-1]-dt*(aplus*rhominus+aminus*rhoplus)\n",
    "    #plt.plot(rhoupwind[t+1])\n",
    "    #plt.show()0\n",
    "anim = animation.FuncAnimation(fig, animate, fargs=(rhoupwind[:,1:-1],xx,10,), init_func=init,frames=100, interval=1, blit=True)\n",
    "anim.save('upwind2.gif', writer='imagemagick', fps=10)\n",
    "Image(url='upwind2.gif')"
   ]
  },
  {
   "cell_type": "markdown",
   "metadata": {},
   "source": [
    "## Validity of Upwind Scheme -- is it conservative?"
   ]
  },
  {
   "cell_type": "markdown",
   "metadata": {},
   "source": [
    "The above example is about the motion of square wave  on a uniform velocity field. The upwind scheme seems to perfectly solve the continuity equation for that example because the wave travels with being unstable(like in explicit scheme) and without changing its shape(like in implicit scheme) and also remains stable in the boundary. \n",
    "\n",
    "Let us now change the setup of our numerical experiment. We define a sinosuidal velocity field and put the square wave on the center of the 1D domain and run the above simulation again. "
   ]
  },
  {
   "cell_type": "code",
   "execution_count": 52,
   "metadata": {},
   "outputs": [
    {
     "data": {
      "text/plain": [
       "[<matplotlib.lines.Line2D at 0x7fe57aae0be0>]"
      ]
     },
     "execution_count": 52,
     "metadata": {},
     "output_type": "execute_result"
    },
    {
     "data": {
      "image/png": "[encoded data removed]",
      "text/plain": [
       "<Figure size 432x288 with 1 Axes>"
      ]
     },
     "metadata": {},
     "output_type": "display_data"
    }
   ],
   "source": [
    "velocitygrid=10*np.sin(xx/320)\n",
    "plt.plot(velocitygrid)"
   ]
  },
  {
   "cell_type": "code",
   "execution_count": 53,
   "metadata": {},
   "outputs": [
    {
     "data": {
      "text/plain": [
       "[<matplotlib.lines.Line2D at 0x7fe57aac1198>]"
      ]
     },
     "execution_count": 53,
     "metadata": {},
     "output_type": "execute_result"
    },
    {
     "data": {
      "image/png": "[encoded data removed]",
      "text/plain": [
       "<Figure size 432x288 with 1 Axes>"
      ]
     },
     "metadata": {},
     "output_type": "display_data"
    }
   ],
   "source": [
    "rhoupwind=np.zeros((timesteps,spacegrid+2),float)\n",
    "rhoupwind[0,400:600]=10\n",
    "plt.plot(rhoupwind[0])"
   ]
  },
  {
   "cell_type": "code",
   "execution_count": 69,
   "metadata": {},
   "outputs": [
    {
     "data": {
      "text/html": [
       "<img src=\"upp3.gif\"/>"
      ],
      "text/plain": [
       "<IPython.core.display.Image object>"
      ]
     },
     "execution_count": 69,
     "metadata": {},
     "output_type": "execute_result"
    }
   ],
   "source": [
    "timesteps=1000\n",
    "simulationtime=1.0\n",
    "velocity=1.0\n",
    "dt=simulationtime/timesteps\n",
    "velocitygrid=velocity*np.sin(xx/320)\n",
    "zeromatrix=np.zeros((spacegrid),float)\n",
    "rhoupwind=np.zeros((timesteps,spacegrid+2),float)\n",
    "rhoupwind[0,400:600]=10\n",
    "for t in range(timesteps-1):\n",
    "    aplus=np.maximum(zeromatrix,velocitygrid)\n",
    "    aminus=np.minimum(zeromatrix,velocitygrid)\n",
    "    rhoplus=(rhoupwind[t,2:]-rhoupwind[t,1:-1])/dx\n",
    "    rhominus=(rhoupwind[t,1:-1]-rhoupwind[t,:-2])/dx\n",
    "    rhoupwind[t+1,1:-1]=rhoupwind[t,1:-1]-dt*(aplus*rhominus+aminus*rhoplus)\n",
    "    #plt.plot(rhoupwind[t+1])\n",
    "    #plt.show()\n",
    "anim = animation.FuncAnimation(fig, animate, fargs=(rhoupwind[:,1:-1],xx,10,), init_func=init,frames=100, interval=1, blit=True)\n",
    "anim.save('upp3.gif', writer='imagemagick', fps=10)\n",
    "Image(url='upp3.gif')"
   ]
  },
  {
   "cell_type": "markdown",
   "metadata": {},
   "source": [
    "Through all these methods we were trying to solve the continuity equation with advection component only. Continuity equation is all about the conversation of certain quantities (mass, charge, etc.) but as we can see from the figure the area of the square wave is decreasing as it travels to the right. This is the violation of the essence of the continuity equation. \n",
    "\n",
    "###### Area under the curve"
   ]
  },
  {
   "cell_type": "markdown",
   "metadata": {},
   "source": [
    "## Explicit finite difference by the definition of flux\n",
    "\n",
    "Flux is the quanity passing through a surface per unit time. Flux at a grid point can be expressed as\n",
    "$$flux_{i+\\frac{1}{2}} = 0.5(V_{i+1}\\rho_{i+1}+V_{i}\\rho_{i})-0.5(V_{i+1}+V_{i})(\\rho_{i+1}-\\rho{i})$$"
   ]
  },
  {
   "cell_type": "markdown",
   "metadata": {},
   "source": [
    "## Implicit Finite Difference by the difinition of flux"
   ]
  },
  {
   "cell_type": "markdown",
   "metadata": {},
   "source": [
    "## Flux Corrected Transport"
   ]
  },
  {
   "cell_type": "markdown",
   "metadata": {},
   "source": [
    "## Implicit Flux Corrected Transport"
   ]
  },
  {
   "cell_type": "code",
   "execution_count": 17,
   "metadata": {},
   "outputs": [
    {
     "data": {
      "text/html": [
       "<video width=\"500\" height=\"500\" controls autoplay loop>\n",
       "  <source type=\"video/mp4\" src=\"data:video/mp4;base64,AAAAHGZ0eXBNNFYgAAACAGlzb21pc28yYXZjMQAAAAhmcmVlAABWz21kYXQAAAKuBgX//6rcRem9\n",
       "5tlIt5Ys2CDZI+7veDI2NCAtIGNvcmUgMTUyIHIyODU0IGU5YTU5MDMgLSBILjI2NC9NUEVHLTQg\n",
       "QVZDIGNvZGVjIC0gQ29weWxlZnQgMjAwMy0yMDE3IC0gaHR0cDovL3d3dy52aWRlb2xhbi5vcmcv\n",
       "eDI2NC5odG1sIC0gb3B0aW9uczogY2FiYWM9MSByZWY9MyBkZWJsb2NrPTE6MDowIGFuYWx5c2U9\n",
       "MHgzOjB4MTEzIG1lPWhleCBzdWJtZT03IHBzeT0xIHBzeV9yZD0xLjAwOjAuMDAgbWl4ZWRfcmVm\n",
       "PTEgbWVfcmFuZ2U9MTYgY2hyb21hX21lPTEgdHJlbGxpcz0xIDh4OGRjdD0xIGNxbT0wIGRlYWR6\n",
       "b25lPTIxLDExIGZhc3RfcHNraXA9MSBjaHJvbWFfcXBfb2Zmc2V0PS0yIHRocmVhZHM9NiBsb29r\n",
       "YWhlYWRfdGhyZWFkcz0xIHNsaWNlZF90aHJlYWRzPTAgbnI9MCBkZWNpbWF0ZT0xIGludGVybGFj\n",
       "ZWQ9MCBibHVyYXlfY29tcGF0PTAgY29uc3RyYWluZWRfaW50cmE9MCBiZnJhbWVzPTMgYl9weXJh\n",
       "bWlkPTIgYl9hZGFwdD0xIGJfYmlhcz0wIGRpcmVjdD0xIHdlaWdodGI9MSBvcGVuX2dvcD0wIHdl\n",
       "aWdodHA9MiBrZXlpbnQ9MjUwIGtleWludF9taW49MTAgc2NlbmVjdXQ9NDAgaW50cmFfcmVmcmVz\n",
       "aD0wIHJjX2xvb2thaGVhZD00MCByYz1jcmYgbWJ0cmVlPTEgY3JmPTIzLjAgcWNvbXA9MC42MCBx\n",
       "cG1pbj0wIHFwbWF4PTY5IHFwc3RlcD00IGlwX3JhdGlvPTEuNDAgYXE9MToxLjAwAIAAABJ+ZYiE\n",
       "AD///vdonwKbWkN6gOSVxSXbT4H/q2dwfI/pAwAAAwAAAwAkAvzHv6EHQzQgAABPQARrzP4M0/5g\n",
       "Wy+/Y3+U/QAiAFQWwQsxxJfitn1d49H/5NXcg1dQlEhHISbXPgeSHLoXfqp33yyuNiGrqBnLVryw\n",
       "EkDRWSSEEX6hXE38wGVRVyyIgjyoz32+kggAAAeA50Sb+pnKsU21qY6rGdxsvE/SQHICgbQJ8V6+\n",
       "+cbl2KKl6ltYrIpCU2taBK88QEoGnTm1ApfQ5QpJ91hac41JXZB+alfMzG7FPv/tlXNJsJ8NhYI8\n",
       "61DBxhxlpxTa8Ttmd5ULQoLFiQB96BmAswNOel9wSJW7HX6SjNLylosT+0bJDbarxLJfVlIGt9IL\n",
       "28nMV+2ffwowbZwfjt2O8m8U8WEfhVjTPA7gHhH89aQ4HwAIN/5Eba7BDd/9ch/UhEb3O6Tpjxdm\n",
       "yqnI1sEXo56N2/vx3oBI7k+Xn8GyEvi6BYAz2qJ7dZh1EYPMan/t7mg2xI9zKmAZm7oTyIk4gb5m\n",
       "7udtS0n2mlBxo0cWvR6df7fQL8AOpyNo5k+6Cc3T67yyn3FgCh4Lq4HeAlGNV2HmodJML2732dao\n",
       "uXTtS0WJgjoUWT34QwfehW9CmgZVciEjsGp4Opp0meBLggeiPfMvveesJ0sCaSeTg7X53LWlphBq\n",
       "+Hr3LKYuEHCLGACEZdLkR31wXCcSNcYzcn+1jrgGaeQJbxXeVCUp2bFN9EtlwvBam90BDQ/GhLSm\n",
       "br3tjuKIyPaqxaVGNIqLGUO028berKXffzxnQiHmLsz6lkva68/K63WO53JmZ8rwPt30cjvfjNlq\n",
       "ujXtyv/kQ9ve3KwhGcJqQq4WePtt0FyA/h4YMCd/2Ykv7ttpPB/Z1qFqYIo633k0lvjRThlKavFS\n",
       "4T0kE6aaTxrmZKXmpb8SmpUL4HfC4U1/qqL1n4d8CYBSzWXOcdOgaGz8vsfboM56TZw63ECtYS6C\n",
       "l6dMeTKGdZG7Hg7E3RudmeNHRQOAl7kwaUkzvhDqaaFHj/Y1NmBsz+3AdZAYkCTsiSQJU+6QydRw\n",
       "qtr/FHf8TaORAJrLM7NAY1+Trt9fiHpY16UD4Jw+7/R4SkKIIT794Lic1MRTG+R8DehDSSjagPY6\n",
       "Z7ejtRNTI9lZ5pmw+OCt/rRuoblLJHj6EL7G9xR37IoAoTq3CeqFDZ1REqJy6Qgf68d+STS1HlZL\n",
       "0M0vfYWEghhXxHsoZkQEtnFnRpGm9XFuL5HCfViwAACHZR8ZcrrFMKREx4d427g+DaPRiKJYGgU6\n",
       "v/moeo+no2HEsnFAl7pdM+CTzJCysCQqyXhZxUsLQgINNdV1S57yax/peyaual13oxl6Pi72YbmL\n",
       "YENRqgwWqv0+HapTNyIDFqwaCRd4Xhjcx/SIUjBXYnBLq2WYpae0WIr1cBy/YiEQojpQy9kDPnIe\n",
       "Z8KKi6ERlorbC9PN8fC5YNFx4kCfDfewLi+cf7z8DMmddV6/8QtmGRnczXZsIz5DFxz2ICMSdWPB\n",
       "iy/R1wUrWoAu7G3Tlydodk2ASzJ903k0149rkYzHqQhoA/a2Gwemfy9StDsarcAFYQVajVfB1FOH\n",
       "mfL78O/Uhl6gWsE9kXYXrO3fVUOpJSVvgmgQrHlLLWWw5wtujB3o+vG8UeFEZ9xyFQu3zGU3CnK/\n",
       "5kltYVQnNz6P0qSGOrw89/3ymWrQ8dy3MidmYe6akPwCup5yVlpz//zCqiGTOnewG5BL62RtLQEw\n",
       "SjFgzGwdjSRLh9OnlN3+bMfazkLsA8mK1KaVnKEek49LSj7l5TnIFmd5wcIPuHBLys8jhuiq3Qj9\n",
       "BgVfy7iFhmo3MJyeSqFnlrhqc5vtV/5qx8fLh9gklnVHpRydtSNmBaGGPTop+tF052LsEyNYFhv1\n",
       "N5YwofWEpE3wYugf4DdNkGJ1t36PTy5SivcZPYpzgf0hRaTFv7hBPcVBlUddOVKmh9/F0GQ4OACw\n",
       "rTzCtLIERQA+iUW6pap31MwuYJmzXXc0be+eUdbz+kidIJ/CaVtqLYpjS7qb9bdE5/tvIa3uxeQf\n",
       "kgdzhYubE2tCUSK3edykOTI1J1OmNGKLlKztHJ9dwjBRUmxdT3J5w/+n7F1tSq9LtgAqwgPfJL8f\n",
       "158ygdKP2etXwOUWV2KHTAAx0zxzVv3ki6GDirI06wtJoalEq5trYlLNmF4Yf1CeVhq3C4Q5eDXI\n",
       "l5enUD6xqMOY4Dvk9p1a+K0COSXBVhvP/dPZpd4J7UKjBqt6OIJHsGOsVAwYn4P3HIrYgumJmwMg\n",
       "qsKiZoRiPmg3KpY40cFBTkLlfF/PSsfaemuvvlkU0crF7LH1tpCbPXZaPjX+z6ilgSejIhIWXmu3\n",
       "mX30c41Q9vUvKIn3pHpQTsEI6gV39JpcrP+PM06hCU+KFsehHu1HrchT8YiBzkyHB3E2lWAJgppg\n",
       "DB1HTbfuCOJ1kJO+3NiDomP2l1hjnd1aYVg5JxG3FqR7F52wgykV7VrcpKFEq+MHgDcqVP7672z2\n",
       "fAx76r9px0DLnorb2/bZcc4DHXaQuMVd8E6JOfBUFXY6u2i7+9F8lDLOptyn5+H4SKt6fpIK4s+q\n",
       "qSOYcf/zPq6DRfu+CEm2AR0W49UAeYXY7ELjWOYxrW3m+T1ON4V+fmW68mE5vtMGJt//plhv+U6a\n",
       "SqT+1WAdDesbDUtyQFNzNaXPJdsUYaCWely43OV7IyboefYhg6e5J6Z/VsQrFXveBfgsWryNE5Uq\n",
       "UXvlSgqqoJDC+hyx4L4xgA8+E9XNFW3CcwITdOII5mTL009Pv4FCtnDuKPJlvxx6nmkiV8xqTED+\n",
       "nt2ddPFn+9FevaC1KCboHm1NSnrt48aqWdtoUtd65w7jBddknRKDNQAF5sc3PHUg+ykQPgMJD1wB\n",
       "Nsn0qk9Jd11/0bT1tF8YceFGjPxBknedDS50DedCNGQ46VbcRQ1RyTgYUnvsCtYZDftGw6+KmXsx\n",
       "v4rudPGXnVudur3rCXd770YCMPubzXGjeE6pZKgOVv1/W2AyzlC838lJMCHfn5ir6kvW+kx+sKoB\n",
       "+vuvBioE1pe8cTecUXrMhjwTQD+xdZnIMxZ9a4PJRynC36KM9kS/WOya6mk8n/G3dsHmfC+U4rLY\n",
       "ECTPrPhGOqfpaPtmDmyTmsv4/xkkqPV8UkGsUkfkOnyR/PDq2xNMKQ9FH2a/qVZuer9pwhKder6o\n",
       "JRK0SK/rWnCrfpJvIRpG+o1CM+FnBFKLiFDKYwlMZBE8THh2XgpnvlQqBp9AYG2pJ6coF3v+Gibf\n",
       "HB/1IQ1aXBQjEUwDV6jJ0vOhAs9ur4WqdyugEpYL/2pOgqssbFrR4MgLwkurjrWIZ9U+Ol8+cqVU\n",
       "bhUVKHX2+VRy0vr2noWXFiPcFC6Xqv3/moPoEikoqvVenWmGPjrbUYKqoeXFek0GsNvUfx0jEmT7\n",
       "GI3GohEQcKMEYiDyvYsTU+jhBNt0wUWy+kDEdZktfKrOH4qp25CLX+lThLUuBFfZ+OSDiNP/Bejf\n",
       "ii+8V+PFGGeac7l2a1tM3qfZNCqrT/S9ETznhJFX7siMZNKYez77YnBj9mJq+k/UjlRrF+l5sEq7\n",
       "TJZsZUuqZGgsQTLlGQeRBhmZVxDWNl+obJOeflcFvV8uX70zjOEJhCt3CxgkcOm+aBI6c51Aip9E\n",
       "SQ0mqzL++6udcZS1qp/nLbsoVVGYAL+Ks82VAl3/4xY/I4VfdPLniJ8LHC0aij8o8LcL2y0S7ppx\n",
       "HGG22tXlhenX/iPujEFHIEagf2BkBIpAwGlhAErBCIUAQ5bb5mFCqv7gIZGzTGVqKZg1G+aYcyH0\n",
       "XSOY65Fii48p42cwRkuJpCsSdDZtTeD1t3iAYbA/CGT6iLqs7QdHviLsqYnY08X0tH4jDQICeIe/\n",
       "QwfqC95Pyx6Cp9fx1rSwI9dHFJRGtkgBFWhrznamsbKHR1YqqIgGxxASnGTpUNgCEbibrTI/fvU3\n",
       "mY33HzQBtqUux79oGs+cwf9u/eeZc5TRGKpUXQBqqIC/25GWbC1mdjRhrfgYBoql7vwlKh3zrpJ9\n",
       "3xvAtK1kVDY48PpR011whypzNUSUsNiOlbsjc48miZLU/0L77dUs4zLki57Kw+GS/zr+B5YpXTtF\n",
       "IQlBIoarYig6VNy8DRrzTnW/b/53/+0Q19R2RgOeBFzLzd5mgA5ZXyvMT5A6xAgKDLHZ7eSghB1s\n",
       "OvJQM87x1L8kJ90j4V4eeXhQKEIwCcGzabwMver/NtN9ImPQfbSaB8FNUoSDGzXfgeMOeAYuPmR0\n",
       "VXNbUtgcezvvoRG9PJtmhb0xrLcE7T6M+XvLtm7D+T1320BG0MhMSY4ITXzznVrF0NGM4AA6uRtV\n",
       "O9intMlVpl2Z4aNH/s5aDWx1Fd/IkD/fG7gFbpOOVSh/kZ3aIUzxrv2Cu4ZT5mA+PMX9XPTO3zx8\n",
       "ZAV9E2f0+T5EoVZR8VGNsgJGYsXfefkrCTmZt+HVVWcOVsuGdL9a0wZsNaLkuwayASjZZKclvSdp\n",
       "i2H9TmO5aAsCscZX8flmqh2u0wcs5Ut5qcX3DyJ8gUbHqowBAAeAwG26DfN4vRTl0WOSDTbr0K+W\n",
       "K50Ff4ipHXSjG/v7LlwL/SdN2rWCULBbXenQ45GBDstAlEBx+3ewI+J21ebQVG+oasFCM7Bn2DyX\n",
       "9CBsNpGFnuzPoTNVRpdO0NRH3HNsqY7c/yh5lfbJ8EmvSV51swyzjTF0//tcD0aBTwCCgu30JUcF\n",
       "A/cOH7eqvxeZ77xizPk/J/KEcvvMSXjIBfeuNjdwFphh8gnP+S0lg2OI/1LfRcgAXdxofaQbk7Sc\n",
       "+YIsRFb51FCS0Ctkl4GHG35T/v1OIdx+g/lsgRUVSmv9SX8LY86HvYjl3iJXE0DMGbywM+RRqFdd\n",
       "PpbOQckwBW7v3DPIRcj/fimq2Tc2wqGEu5/6WKv3D3fpfe0ovFePnhGaCL+8wqM6PMcDWHOj+3qh\n",
       "ZTNFeB0syomiLm8LqnsxD3DywFjPs7T6mmcN5DZKQB0jb2VA8osqTNslTMi98wALn4Lupkq2syT/\n",
       "FV4PTABJ7IyzLFNqxKLxmkoTFto3xhLXxgIOzYqGuxnLWNq1JjLMtlPh+jBi/Nt1QDxvIgWiiYvX\n",
       "2tetZr76jUeArgZY3kHmWjsySY2l2jZ3Z79ZJkB7Ut4jhuLZziiRQthcE15V1P9zSTPtqnPB78az\n",
       "TvH+kK1JoFWGC6IiP8IunbZ1+ecDYPzHf/vR3QNXqEfwj/SVCL6imZD2LT5w6gCewM7ulgGaT+Sn\n",
       "9yTy6cg9vUAgqWSjwVti9KFoLeDip48iT2Dj9wP162JZH45FBGdS/7vVcqdJno+Ebmsu9ApxuHe4\n",
       "YRaSQSTS+fbd5mZH1w9FY+652wv9ckRs8YMvcip3TiNg8miJgxdkLTXsll/etZmPNz9MDTv6j1f4\n",
       "Nlnq106hDrJmduGMHMJFOZYypcXQ+wt8+1gvW7HJMdsDYeuZqIblNmdhaqqMdGxdt7ofXDhfRftZ\n",
       "D75M8jhokcI83xmnF7vr2o36WTzjwqzgJCdifrzgYjDYKUtOUPgEndJyuaFDDsT0lW1WTCcfn6c3\n",
       "ECC7lq8VNQJcGftfx9sjcYQPxGBn4Pe6UycjTJ/mFdmY2DcAWnTXMdOVIcYFO+vgabS2bVmWZIjC\n",
       "c2n8XfOBoROuoz2NyMYMNr5iMSda7MqPzwez71oY8FlvZqJCTawEA85N6vpMdSXdudIjyW12O1+W\n",
       "mmyFCupC/uzi5EippluyNWH0e6rZfcjIO/th9TELFRQRZ7mmBEAZY3kHmWjsySQGtJbsw4bInBBh\n",
       "tF7Vk9ynsgR9VhCHqPRUqCuoIy6nOK8HhQAzMozttXQiBekjpEvyJoEVDM11Gm6vsyH6FgwMVenx\n",
       "/VwL3sGP7XDrm2dDroZgqMoWLpZJDyxfo1U6SnXDzdFIVKOT4vyNYtWD4AV82PSf99uixL3Cgo2N\n",
       "L0Wl38T248AYWiSZI8jcPQZGSUAJe+r+TJPBq4MgzSdJ5BMykgkml8/rTRapbVDwNpupulTmKZMu\n",
       "gEFN+4ksI4JxVH3I481SsbM8TePHpjJbRB2zCcLgRqvDfhZtVUxkT2ReaH4KdPv3XY9lchf+itB8\n",
       "QLqu2NyyXqu6eDFmzIGJYlUZHu6whGkDA+j1laaT+r00URFUlXfySn1sGaaYkEAmd0F2TCyPbfYL\n",
       "fc0Ed8mNzMolaWUkHNxMU9qCSEXV6/hcxY+PgcK/IT2PVzFOaX6Nmfa0GjZoBGgTXtwfy3qOY6P+\n",
       "kwE+s7kM7d/hfUYckfNTuPPB8LRlP/23eJ6nsxJnEfbyRJYF3a5n1Aq5wZ/wFOa3AAagAAADAAZ9\n",
       "AAACNkGaIWxD//6plgAoImXoB8WqmNuMjXXGz5y5ZxFy89rSLkA20P/jyLGerv0RTNA0IF01/COR\n",
       "KoZYNzZYlYofOFbIO4TVNf/iTosIDabUTuIpffk79cpuB8VwHd9vZT2IQN1k4u2P8h1GtEgOE3Vy\n",
       "slHQSYVeZcrI9KEKI/7RFAxBBZix+/FPDMMltVlYcgMwgAWoB8ncyZDtSvZBTyLTO/YpheBHmOkE\n",
       "YBu7LsNJrsbEwqC55s6A7OebbLPuWP30h+NJtfqWcKwGcIKKNF2Z7529PhVLDwwvmp7956Fy7NWX\n",
       "kIY0VaJTPC1pe5dRrqzjM9o8g5kBx/9PXmLx8AK7jAUGcb2euLgALRFgwxJorSz/PnwqczznuB0C\n",
       "aAfbA+r4QmHkzI8iXxCfP+m2AZGQ6A4RSNTi59ULmNsM6c6hKj1jGb4Nq0tUjn0YDqmlDH6/8wsr\n",
       "ELZBl/+TSnDhjgIMwRXTiAkqEdtNtBcOZcjZad0srHctYcoj/dPgSuDsfJru2gVF7Ji9GTPpPRQz\n",
       "54teN/8dXjd/PbOWOgCFaD/0myx67X33cjFf2iZdmwdLU3x2Qs5eyyz3jxjhYLQQ/k/UsTy3dfJk\n",
       "J+ir1vI/3BN8yAfm2IzPq2yx4V7u9M2R9UZ6ElHcNAxoGRfOtF+WeN2E8BYWW5/XoNzhROER1tUi\n",
       "Pev/wQex+3oxIPaQvRXttdkXUalUddpsKVwHBE0C2ABjAAG6CqAqOLpEdPr8RwzPhMgS31tP/pg8\n",
       "AAADHEGaQjwhkymEP//+qZYAAAMBXeFvw8uigAnb5ErpuYQFPQ8KEde1ekS1TX/4k7bBLabOzjny\n",
       "iUybFy/f4XVqGXfzzmVODqYsE8L2HNQEcy7QHbjHsweBth4j+4pwiLXz3qV25kz5hh92rEp3DtG3\n",
       "FL/tvXSFX194OZF6jkdTMd8F/YAOv8f3zsrOhmYvzK01AZvr0yZDHf7or6j1aUHkBzKcnEUXhoTI\n",
       "JXTNo+kQ3IaIbDBJkHL5MFW+jyxraxo+tFUeHy53qhtSnjLBq+Yy/MQJL6YZm5WH3XGXSi/rFWx4\n",
       "zMJS49UQ76k22qXEI1JPSrC4kASqiopRsOWK7ojq+ZbGRLmxr86zpljE7PjAjr46FAc0BC2FGAaR\n",
       "00hL4ZNwh9NifvdUEgx6SzIh3d9aUF5rP7q96LHIDAV4ZLX8v5W0rX5Gjv8EfM4zcSQ/yYhj0Iss\n",
       "nO5hSSTqkjBSx4aD+/7Z7XoeRhi6Rpjcfhf+TQXXA6G79KrrIWRYh5ANvXEN7YJbl1mA50niqzQN\n",
       "Bww1ixGsQNGCAIJjgZ+7IWVKfFMm07Mjx7gOylSZz1JwkZbZrRdGEuY67w04ZZYaN8DlNTJ3VdqE\n",
       "4mlkE0hJ/0/lNsJd+jUDWCPLgaWVmfhiePzMYlaCpWc0CD/3j7EExyiLjuHXwDZh63B2ejRdejyU\n",
       "UvBfYqVs5mJWrnDAsijG6mmisCx3MPKGxvA3q3IC6567+1kN7QfGQsgP6GV6QifVJP6DCVG9zWa4\n",
       "4haSf0UX1hYRopRu/bhiySZ4ILZAr/kogRgg+JOI7WcvO3xzv7bzj/iUH9j+WZM/3hYK/glfchTN\n",
       "uHASdTbOXtEslGaxKZXoml7DQyTiV5BWiHxtXJC2NqO8xNv93SjQl26pirBH1q2tDwkoPw601y/S\n",
       "72bBeQRGPl+1deao6Ja7TZMhSpC+UO9xH69jweYtW+V3mF2eDeCk5i1KLsMzk7nnqqGJ43zwV1vb\n",
       "5WnmvGt/VmAywC+ExVoWk6Czn/QFQl/1VHA73bNlmJa5d/v5HNAjo5liaAHxFzKAAAADAT4hlgAA\n",
       "2YEAAAQlQZpjSeEPJlMCH//+qZYAAAcnZ/9w7sWABD0VNodxn6tExNrkkH/ZqzXjyWSLT09FFpef\n",
       "+r2k8VXUfCyCbkvFlHDMHLbHXncoBpiz+mo3JlgLGR53R7i271V0y7BOZP1c5ak7fE9OSAp1HVm8\n",
       "2RVXd+LivOoT3EalpPtg3d7d20ECt9pyUZGboB0xVQAxu47RVZwA+pon26eG7zvTnw/j2kR5RQ4m\n",
       "jYiNpMLnCihy3QGBMCxykSVpTgevpJZw2J+7XGJW253ZBE7ka1jMEwkcvIKzuSRae6crjD5fw7nu\n",
       "OdhgLG9DsIaa3F7EwuXb9I6YeU+CmpRMLuNdbkvAG898H6UZSqPQdsiO3a/Du3Gsj8t5Osofqnkk\n",
       "uvOEEe8jgGmes4KawWu5hwjiSaP+a3dr357z1Ma9vciDO0KCKgK+yRDlRJMFRmxGZPlfNAaO4A1Y\n",
       "0Fmrx2TNjSHhXfobTkmOAsBPqd4zXxxpv7Q6DRI9AoBiEsZsm0/g5Q2ZdaasaMe+/dUXPu1Q26yg\n",
       "WRdHRdsqfzhcf2+VlIDWTDO7KJ1tqkedd4twr0Baz/NLzf5W4GtazsYgdfwY0MnrrwqXUc9nYpaL\n",
       "AXyudgHFn8O5S7U3e5nWNmg3Y7JRfGMIfKNJNQPsmqoS98bKNuAFtmC8R8bsGMukGpfHYIzwjtxV\n",
       "B0+KhNSTMyfzMppjI8l7ydNjMG2Cje4wV/9+ibegctMyzkNzH627mN9twkUAI3xsYji26UKLHZbu\n",
       "slrDeag20hB/psE0Db0uOT7hRiY3cdSMLVV88Qs0M5RRj09SKAtLfSXhvEFC/yjFM+uKLutmQJZK\n",
       "IeUsLc7lF8moTAeuV43p4mf1NVqLvWry3is4CdVJCoeeaJsQyMgwJSBrywmtNupfmMFp4iK9oZ7q\n",
       "Pkb3mpCChTPs09SUIgiuSAh2ETCygxW5AV044p4sgYnM1aAbc7e+iDrquW5YxM/DKBDA5YzCfKXJ\n",
       "VrC2SEjAIbz5ehusLas+mjRTD+0ePgmwGT+MYLNv3FHgOGjjE371d1uISF5dmhgAq9KAJYSZtumI\n",
       "Lr9NtgD9o2gZRjk9sYTqYChnrcyY20bcGSI3WCyd34yJYylepBWBY8N2ah8/JQQ1FDLKQZLkSpH7\n",
       "9V7QdJVR1GAd/2bYXDcAkEgFhwvzvFJt7dU+CvFeE6XwIK9PXAwgUrSy13BXJEKWOYCmzQbtky0e\n",
       "qu/erty9ZwtbznAscC1wiaN3mG/FhUY6qG8sr9ILlfRUmLl/JbjWfbVDsncYVRYCYIfDhTlUVzK8\n",
       "cZKcI9r6Nr8zZP6j1i/TvLDbtEzC2qYonzqsiV+QrfY0l3lZYBXj0utq5E+0+rFriXkY23b/e9I0\n",
       "KYOxAtiJ+vvn2ANRC+KzV1m+DoqyPMAATeku44AAJoKWnwiJq0gAF3AAAAQkQZqESeEPJlMCH//+\n",
       "qZYAACM8r/wjlYgAXSh26F43/vS2O4Ar0SaSa20uREvcQoQSFB9o4ZYRPYVAwJRgA73Y0YAFHjqW\n",
       "yUucZhiXEeH9luWOMCiQ4EdhMW8hz6uC4svDVt6udiLIr2+S+096AYaLZoQETwYhjSEHVXGB2xs1\n",
       "l/RpPKLPZ/qbFLZjDd4kLu/yEOALISVJyeVBWWNvPV4xQMh5piDjMSlzXLRbVP6jlGlcDQItIRuF\n",
       "FnAsaQeibB8h6naSL8++BkVxMyBICAWXf+W+9rIurMwzzJ9ZARPjQZkvNzk4huh4W7bjDdp5G5B0\n",
       "HSWg2uJoezWfuMVXI6Qe36diRZ9Y5LaK7ue2U9VcWR3+486YiTPAOsVucG5s1JPQWPHjf64hbGhD\n",
       "c+lHRe3FE/5i4pUvTPI4dMQ7zP+lhOmpY/A5NGFAGkCRxyGCLnEU5m9o6p9xaB6XCp2OtF7xZITW\n",
       "3zbn4Y2NAwOsgN3puT1zqmgjv6tqaEcXvnQGC4v1kIVq7/hGJRd/M37RMrXAsbjcYNKNoM6WLGa7\n",
       "qLXHoN6CBjv/0gh+dRnse7e+g5B9TeUXsaV5u7ZeJfzLGVwUdANp3obmPkGeyXpD1GvPVHHPP+dD\n",
       "1W6gbiOknyLbsqKNk6yAKiBaAX8SAo5Q70tEv4ZTY0X+46iU1QWTnxA0llFat6uoq7zeSatmwEah\n",
       "Cx5sDlZkForroTDjKe70KcYkoiHVXuR9Cea2qGfLZQMLgPIavgh6c6fesGxaJfpLuSNGUlxfR15T\n",
       "NVL8JG52k0tJtZ2NbaufL08/UzLSwVsPeHe8fdiNvLZmEbQjcpoIu75GqIh2Ge6Rog25n6A0k2kl\n",
       "Vc5sI/LjPp8jiQxXSQVzRayIsmAaS9W58yxiUbZHe3fNz6eAEtlfkZf27mpxwwfEQ/CqG/TnbZ3L\n",
       "0gfOfmcVvDMkV9Trz+p9A4GZhTg0cm028SWS3E5DBYe2sd/jc8EqtOHKNli2vqbUBYg4IL1QdhYt\n",
       "lzcDIGMtsOL75C5C/zC0fF0YlQlS6o3QRBeIx4xt8XWkaGZ/De5uLj6BQ1K3BgZBXPG0FSDJxMsE\n",
       "3uqihaULakyGR0pUgIfeNFHzuIugJbSB73n+/uOszLWlPaCAVX6cNWhVUlIkEqdqfa4F+BHf7sOu\n",
       "beaBjid2EIOMnKPFbX5e1OxLEMXAfRP5C0MxaVJe0j4l170a6AjOi8nwzx/njp/uISu0ZYQCQ2q3\n",
       "u7JSPMbQSBH+BMbfCfjgsOQpK2DYVnBZMhYdrMR4qVRsQACl1SgTIuCkKqCfrbm8XDZ2WCHvyYm3\n",
       "1UlvZZybsFrxU5PKeM9Vj3+ngicDgO0AmmtYSwlHnnxy/9s9Mdjjc3USg3+U058FOQKq61KwfyQH\n",
       "e/XmDK3xOZLzqbYcBFZOgAAS1ywd0QAAAmtBmqVJ4Q8mUwIf//6plgAAVLptoAON8eVKsiP7XTcz\n",
       "l9z1W3g9/6db/MNRd18Zwz9rLfM/EhOlu2r12FA+qJzvMhTKIyR6xrIseOioD94L5L6E38ER/cky\n",
       "6ceKHFeYjMRJ/jby35A1vFwebv7QVHOK/SI9NHqgN41rr5Z6D4AyvjKSRUKftFYUTlXiZ00oiZU1\n",
       "I04Gwc+EwXbssKTzWm5JKt0Qe2w5DrrDhBidoiAdGbxGG4HbmLffpdTWAkRaKFxpITFp0gtVN/0L\n",
       "S/ts+PMR+SPbVfIcnLrEMb7Q00WZ+uAO0crLJJI2hm5cbOhsyQv2eXjqiTRLmIEnSZ/qtfz2sEwe\n",
       "Xe0II/2x6cAoiZYAv5biklW1TW0yNqVVo+Yrp1cCBdG/jXl1wTdta0+8+jddu7BYgUhqIESQ+zkL\n",
       "i5gE4YrYcUlxIg/ey0YtBH8L/FFZPJv8p5G28TUXovdPercLwjQ65YDmp08eGLYg3LM6qKl3sAy4\n",
       "AGnixmAcPnQrdyY7ubSaPgWbIiaPmDOswb7WhP1EcbsmjkdENXpkKMG+x4RvR+sMcsnVaRBEgoaB\n",
       "nP9m6KJs4zorsFzbQSOTroUtr8mSwyf24afKf+aXUmOnTUzZCf1HhGL0vzXml7PKZuvyegboppJS\n",
       "qm0Wl2eixj94K5W99u6YuRZ9FhvIwFHS/bh+hxTnGTEtaMlkOcdnGB3F0AxJ3jXNyuiZq+xHeGL7\n",
       "ToIp2NyviAvGcCljQgAXLZxKYw8dbOWyNlc1+L+g+37bMSyKksRSHQvkVgWlorlaYHzP5QSh4mFi\n",
       "AVvJkzGQ9NJluGBSgAPD+EEnAAACR0GaxknhDyZTAgh//qpVAAByeL6nLHWgxQAtpFrvWmaiF1W/\n",
       "XNsPmIc5ZqhayX24qW15Xu7KJi4iYTe18Hy+kQtlXP6wLQzs+HGV8/r9OkyWwq8gz6qzqrRj+fec\n",
       "zMNpfiUyEzwwOt0UUblhmPXKqeiEVvp8T2ZLlakuB3Q9ZWA5Lepc2PzkX6D70Xf90gm0Ho+rXpUb\n",
       "8AXDUSxFCBsUThUV7uD+tjiUjmWOTClsrsNpSftcuGtR7PMe4Fv3rzODpTzPh+iVf+gfC9OPZ6TV\n",
       "7m3MRHOyw5opLFraIftoxnVXjKTRqzUgl/RmhT61BPNRr7oS5a05vN+XXLQz9cRpPTiamYaMSvVd\n",
       "x5hOduBdRvg9nth/U23aXrK9KYZDLn1JaD5h8ZxeCIVshw82ssJ0B+3fpTu0C+lWHfg6ZVEna59j\n",
       "LjWW/pG4NO6rRN+O8w23bP8S5TGkm9PWAwBlG7m3vjd5tMftNSs3YgDpOA9EWHBuvMPZJdpLFyme\n",
       "IHPGEG9/bly2R1Yi9czaP23Nx1vQTgKmzYlq8iP2Hva4mfhPjsy/oPWJbr0bXIRDkcTwOKYFbe09\n",
       "k1VkoARk/mIRNsIs3b9od/OE3bH4JzEEmZx55EBWv+olbC9nu0DyOx8JZJLx9FXZUhxSZbrsxNT0\n",
       "+lMQ672QjCoKn0kPO2o7S2BF0NQrr9gwoCIx+zR9PSXB7r4JhtK+2RhW3jX/Omtn4ttxXp4lS3jJ\n",
       "qo/l6KfuoFn7m1xtuE6wSxOEKX80mp24M2gAAAMC4xVAd0EAAAJyQZrnSeEPJlMCCH/+qlUAAG+4\n",
       "vqFfWUrM6NO2mlMAOLK6csVvQioFkgJ2o6+piM88jAg8iDnugzy7OOqn06dVFZADjQ0Ttmk3xyPe\n",
       "WxjiCT2KdfdbKcCv5Wjpg4FIaz3cy6D8lPjBmipiGJ49qKshbb/Cu0dDTeNbhw8/x8+IP9QU0FWp\n",
       "Nvhw0+okp1hnOrMBueqgwBqjk6HFz4WZadwWKz2vNOCjfzLi1tb6mgqB0lX0IDng8ZuDw7o0Miyy\n",
       "odmenQ6kQribbbhovUYH1I4rVDxH4CAreRo2zke3maYYrM8r06FfmpAAv/2vJvj6jF7hQKlWPJTM\n",
       "xmo1jbiknavJXTyA0zb9it0vMgWedMT2pK4nHet/tk9Ro+Q8Q820KBvoALR7ALczZhwcH3sLPPAs\n",
       "6JJZCnVEdgBjkWUjIV6M/q6WSQfzIHuT2AxDC6RheGdIXLC8YeFpRE0ugQdFc2tk6k0dI9WRb6a/\n",
       "bA2CkZOm8CQSjGPiGq1Z5l3FdMZSEn+5JmrRRQYAX8wt7anrqBOpBgoE9dKzeh7qmFo18elDFfqH\n",
       "DMvZzw8ZTu1KAdU7WWJGAk+CC8nJK/VNdx83C5HkLY7XFHrf4dC9uOVClQdMLgafbPnnctiFYWnC\n",
       "50vEeyN1OYNODet2/CS5ht+Mmz+yRTVyeyN0tII861786nJDa/6rpjdiOm04ryX+/2Oh9WtgoWvi\n",
       "kJKp1ufDm71vsQ4aaUtbeQBtrEpoLvxQdX60/n08r/11bqrB8g1YySLRQ9y+Au0E49hDHB7RGaB4\n",
       "+abuyA64soaO4KX1lXzukqJUqEN+95WBrjrtvsaWEAAABaQsHdEAAAIFQZsISeEPJlMCCP/+tSqA\n",
       "AHU/q4JR1GowE1r78lMQFP6HtVmew1AGWQDAVr5qeUaIUtuPhA3oAEy78W7NU6FxRKg0eu5Qpls0\n",
       "rftorpDLNLE2W5wQtoU01giFMfE6aRuRLSK93aUo70YBUvc4DnwopO5HZHry/Ic4J4Ta4obGJXwk\n",
       "j/2RlA7Xk2JVwf6cvN4Hwx3NroEnwB7qz64qH+QIPbYoYlsSNXyfZwObQcbkZbR7gJhkmKjSEE3F\n",
       "vBp5lCWgtz9xFPpu+AAe2Hql2gVNYyiDB3boYAQvD/GWh8E1WkPdnfjR+d6NvjZtQmMfO2oiJrmf\n",
       "Ca77r4n63SMESIn5XfG3LCQ5YXyvZSnT1FvyklkNOTgOEmF+gW1I6daEMeSBZtEgguej1RyAlS+e\n",
       "N/NIt3Xtgs1PwgUWA3rBOirhrDru1g+h/FXoEyK11gTRjG18p75lif1aevhjz+8mBfx9OnsyGhcK\n",
       "VN/tyHf1GmIWuU9kV6QAHaNDxHcpKSA/MXZNfThYbAwmrS973Fef82CYAdyo+erDQfjQ+t5VqA8P\n",
       "jo4PobO42XNkDWymUkfdJCl12mMdTic9FCfNQ8oUiBct/iw1R8UU3PzHLVt7/67tbKkC0Hg9BnP/\n",
       "f3+7/+89j2JVDsi64YNQPoH/cosv53HbvWpK+V443QYvGvM04H3AAAAFE7LBVwAABLRBmyxJ4Q8m\n",
       "UwII//61KoABEG+QgAqT6Ln2a+GWwtYYVY+6QoWrOjJ5xf2IV+few6xD44Af3rVFMy02DB83qYWY\n",
       "FJdEZB+CQC2BX+Z+3vv6GFXGdCmLpv+r1TTgLozpalShVesFGRiaf4QIStgTQjowPPD1N9tRQr/d\n",
       "xmWT2mrt3H9uaaDCDRcO35i1Db2t4T8/ePOIkL2gR/fwrcgThnlCf8tDXgJnEfMg0Bpt9l+YsOoX\n",
       "YD53CMMeuSs9vjR/ljQoa6Dhx8gPam2c/nF3kdZSng1i0aSM/TbvgUTn6EkX2VZD1rDpoEOh0hc4\n",
       "Xu3HCtJU4KkVgIM4Orruv+pBu/jCTMzRlAjO0NWmvp2q4RKghF0TlV67/ia6DqRk/kS/tuSCPltt\n",
       "/yHT2i3Tk1T/Y/oLGt5rMKYamcENQH+99Opk4SZL2PnljSa2I/WeEhf6JwTe5TLW1YQkE/5wfs+S\n",
       "yUMKEy68E0ZlXlCF2jI7/96Awx38l/7q6gt8iXz4Lxf6whAnQFgR8/gRyfh1Z7N5ym5HoXB6kKsQ\n",
       "UMVsthNV2ixXFQq9YbzhuzEwFfqnOi9j8Rq5oClHcA0BPuOb2XMVDL8GCWttjdvBb7Ly1E/cZpUv\n",
       "xzSik2vBZzjMbm+Jy9ESaJsRiYPP5ztxvopanAN3ECrb6ocKgOJ+ntajONv2ffzp9yMGIsQik/6C\n",
       "pmrtri8alizCTtkPyExFzFxDp00iVU9MJlT99MR9SAdoH8jecpV78TFK1maGdGXm2Haxxtwr8sHW\n",
       "//p7gaS52IbX0tjY2+L4FU8F8Xzr1C9ht+Y6oxAeBzm5QpDIMPSwyXZVPdfJVJLz48zkmQOoQ8fx\n",
       "s6DRT/s4JR6Dt9Ed1eSzeNrf9xsZMbAqH2A2tckb5ZSbynQeplLjVdrxk+0TVyxKSOcGrYPSsOLQ\n",
       "0zEvP8JP1NRP9ygMSriOrlm+k80B5OeohYwyMq9C22JK3V7WNhUDZ47dbs88MiT/aGFLrzRFZ+5F\n",
       "5j7mLKRPeQ/KKRSXipRRc175faW3cvuUQpz+1F6JwRyABt5AA7ZudqoC8jQQ6+yzhwiWMsUKRm1f\n",
       "afhAHxYpQ8jOX2H8p6I0t2K2Ad7d5s4fuWTjxOBkUPSAhSMPwaoK9hs2VbtP1ckzfWimj+AVuD/j\n",
       "9AMhwGG0871QbuyeIXki3NiIBMr2Yz8y5a5TblTyWnrxBbvtRYgEmqWIuLKI+b91ZbbH80NbQaBI\n",
       "pezAHBxWeoOoWoga400RFsZFq7RQbcQ43Qh1ouiOGHVwvJozUVWvZyV6listREqPsOssTKZbzhCo\n",
       "1Xqd8FLWJ+3FToV2srz/98QVU9qV+reita5B6dvNen0WSwVUrvt6sJeXHTFsi2ugN63eie0hXss8\n",
       "H733nYR3I9Y/AD059vIJNe3m9l7zg+D7ZUsj0j8D1hxrdWNdBO0gglc4s4q23DX9oiRI3fNfYqXN\n",
       "zzDR8lSIOpSMVzhn5muXv/Frn1aux4yJASFgKNGdoaJT9vU+R4teJQ5Origy+idscPUhNQqn15Uy\n",
       "jWypPsesQxmrxuoRtzRzDAVZptQDqKOP1pPdP3M7oR0Cngswq9/b77ifYb46UKG7UEIAAAsTZYKu\n",
       "AAAB70GfSkURPDv/AAmsAF2ylYHvUhbVzuLQvNNwHoAP3vCADMyPqHa2GpHRJumXgY5M8x4FWL9r\n",
       "8I/1w7Jw3UE0K2W27GUGTTDRAH29Thc5rJhTHeFBCQjX/Rp1kQBTpo+mrjnsBVtbzPiAU/+90oyp\n",
       "32aYebNknAqpNye5sA4JAmlv4b9HBKvreMLbfUM8dbHH6YFsrAOD59yDKzi0urP/8tkLyIkbTsT5\n",
       "ZE1/7av4t74fFW7631V2C/YqwmYS3uhp4Pd4RI2Khpf0sBJtVS7VQeMpLeQDCYpTVEJe1sehu1kc\n",
       "4snB17+I+H+vo3T6PE3ITFnkQGL92Z5MXFMb2rM0Q6SBNWG+Gw3QkIKf76R8RJw8grAP9hIQ6Ky2\n",
       "nn87OFUOiz+bwZnFNx9JnB4/3WJJwr+ylw2AmtyXePcz0B8yMGgeV7ZUxx9WVr7CRzOTu5Tsy/yC\n",
       "8HEYfAOMEX4LyakpnugLHeUsHEomhZILJHAMmtaynSG8UxxvDhKv2Hso0SLuJGcD4cSmcKSYmjTr\n",
       "ukIi4y7Zf3LWh3l+xIyYNcGpAtePBcam7hBuPBgPISv36iH7hn3QhHT/5d1hT9eD4qcmxKnsaFab\n",
       "QciaYsrUX3eQg2PW//7AZlUWraJE1S2WAozOASYXe20AADgQjNEB3YE9MQAAAL4Bn2l0Q38ADc9Y\n",
       "ELOdBVw5h9CegFYXdYg64AS5KKcWU2R1/o4SXEZQKQ7VPYHV84GQv5vX9Dnn/mIlOX6CITka3TUO\n",
       "PMGFlUfybXz/moacKF2EaOIIxfyYB6ekGPOgaN3U5Ak12e4VqLQDqY/Yx/pUkgmIUMieU2JlpiN6\n",
       "wRjb2t6VSTYbfzCJpnU4AwnXoPSwKfLW/NZqI78u6bgcuiN3zG6n/la2ms9xHfVhbRH/9CujzoEu\n",
       "wBrOZgZ0YB8wAAABawGfa2pDfwAN0XZBjw18OCbfHP/oAE5zEf9lXK8lOr25v5bS63ZguiFgKIlN\n",
       "9TsrmF/zY+G/gBJTGksg5shPIzGP/5KOQDBARwwG0FqUCl5zU23nCqHO13dA4++4+yGF3/ZsBPiL\n",
       "hlIyeDK7vqRsWNZd1pmnkzfGVyw2+n4zHpq9UbcketKR8d3dRxPqj8KM3ezJBfBfwL3xKsIQDRN6\n",
       "UJD+xAIczEjXgzjm6yMPvsA2hf2GCINwwj5T89Vow6mt0EnU90kahvVN4WzIkcuoBQt6wLZAqS2l\n",
       "iFxFzdkeFeB/ZU1ti4mpZVjrikjp0+ypQJy/v+6BaKo4/u+Jna1CO0QSLyMcx0XWe1Qk0VWHEQp2\n",
       "x9jw7opBSQAAbSaA40iJK3Xvhb4NLmhr4257UsYy6kwgcfoayU0Y2wQDl9XZoeEHbNmtu2vwOEN2\n",
       "noK7WBQqH3J2DLChbXdrCivl3b3NXvSwFZCLZiML8QxBSQAABDFBm3BJqEFomUwIIf/+qlUAAkCC\n",
       "MQAbVeclOq28dY8MR9LE+aw9Hc86VUcJxKvYfBIUU6emWS9jqZpn1RE+TC/7l9tLFQmqiU9M1kFx\n",
       "ghOcA4vTIL3trJKDNwByNWLbovd/YOTV7DTCk2zvI0X4+y2mLju5ATg3WXGF+ZwowU0EeQ40/tOL\n",
       "1kIhwfisDPTsIjj27G76lSp6mKfg404J9A13EPLS3U1OFcJILKt4fDp22xocE7iXLGOKFxlw1CR/\n",
       "5COajNlGtQqOsPPxsh97ycDg8Air7kuiskFBLJkIEfWjaiG9ow9aAMLK9nQRhlLxiPcf8P9NFjVH\n",
       "Spc52RIwdTlYhfNoX5jRxP3/Z8bWY0kqg7KaA7mglFVdV040t0okone67L4bLHi9uTlSvnN0emEQ\n",
       "tC6TwcZsUWzgCXx+BxUvU+vNG+E/rEmEb4kfOLnBJ7qJz3Pi8FQsdEaqbFuIk0NDxVFmx/P7rpxT\n",
       "GnVL90DtpMklqGYnMKsxIUU9LV+1OqiZA2624Q4oEOJCIKO1iK5pIAPsn4ourxNB/LbyFIKASBRa\n",
       "/GU9TQsv3ZRaGDfTIszcH1nwTJ7Bpoy9mwS3yCQ6hEbCS+w+lb3Taa6lo0kv9RO3Dw3m8sPyngdp\n",
       "KyW+E7pmojgqWYyKVOCULndfgW8r8+FmKUZBQ52yvSxkpGJ/MSv6ZpiS7jVB7vSZSdh1AKGfo845\n",
       "YgKAWykDfWo5Ckjknx4PYdre6C/aRWA49dcD91+h2RuIVS43BA5KmTF4f1IK2C/AHfRsrnjcSflJ\n",
       "x62AV2w3+88Ri2H8bmjkmahR0mBSYYSsGaquizxYHTEW/W6Bjwy1+GltOeyRDe/0dCRyxt452Gnz\n",
       "vrvm4XOQQadPHfbmVQK3/QvtgVSC27NqdJHFy2j6GgrWHrqTnN1K5TPvxsEIuj+1M+hUYXc30Lhe\n",
       "kkggejfi9stPhht5TEFFf/N8H4SJRbRHZYRyJSZ7rFLZsuRgL35Z2WDuq09Wh2Ylbxe8DcPmo/Dn\n",
       "SyyqAYFGWquuoxp/yRgrX8pW1vU+9DzsShMN1DKnBNa3q6iIPjxzoF58kHy6KILuXZiB8UW1yBme\n",
       "lb8C8XRkbqpeBuOIoAha+vNv5gfwfi+AwvzWywnVKmcwmMOicLiyQCDSDcYQ99/+iCrrP/Q6d7Kt\n",
       "8R+EkVuBOs16j/sUWlrz6LdkanJZ8M8p+7mxR2pAQU7oeCCmxayfX22xN3DlMOHZ7dE1NOD4OpmG\n",
       "TxMi3M7kRlcoXRl9rXFzVv3FhHfMlIYtBUGqNMN/B8G3+jPPVs8v4NjOrZuZsXewHXFdefZKgeu9\n",
       "O78WIGOMI8+NiSnthFMotRbHVjrIr8iFYUap4VoMiS23+Kg+nk59wZTHx34aa4sdzGGUBOiY38Ns\n",
       "VG2q7C+BvHyJEE0CAap8w+h2LEfkRACexlg+YQAAAlhBn45FESw7/wAJxSoo8tzMRgA2lBqRr4Bf\n",
       "F0QWdw6y7SVqY8k4f3n6qc2AVBqYo2I2w3HEl4saDOTq44UFCbCXpmHrJhKj4l1dvoqHH+3edHbw\n",
       "E+M/azQq+WtJtNCna/DZE8sVmfJz7xBs4sK+PTn4xCYu4QQe4Tf0MR4/QKN41ybbVUdRSA+1Ue96\n",
       "tDc16PxC4X7tYFEnTQeS1lme8lN1d8YerAYJn8Ud/RsASGwg+ymMxGYwiXQcNqaxiGRrKJQFMYQ2\n",
       "AvP6c8Xy5W7C7Xzas/xkjBSEbnQ1qtTkC/AvJxToRTjXgWXSedQhLHvBKnULJlLd4SIPh52yn2fN\n",
       "o00CI7sA++pTdIbJtEvb/0IlO4o7+m+0VxNsmWOsrIvoTx32yADwog8svwakWb4ghxu2Kfi1mkA5\n",
       "X3YonimNjLjkGlTsOMO8UvvG4cs/+CnOtFkgfGcXe3WI8sU5f+PrsCnVB3pjFpqcZFCSBVJRLTSV\n",
       "AVJQGBEWgqjQAK2OHPA91x0rZPKlgRFO77dIG53UPku0Rkvs5u3lXkDFx1qSLgnDCJHZt+bMNyP2\n",
       "mfWjthyAnvJiowDxse53dEJ5C5MayfrKZTlV/EjYIYd2xYMIOu9jzZXoWkIQEGhIdmG/hZyD7LTd\n",
       "abolIqydy+x6MUO3zU2C7Imtrz706UF0cS+1WEEXOLHY6PqfAuO8awzTbusXAea+jHHjIANE1JEN\n",
       "XSCoLOb9HXDnKKq417raFE7/cgeyifzcgfZss0sKILXlemhVJhjtMQUU+VFMuhar3Rup/cGOvp49\n",
       "b0XIVD0AAAGZAZ+tdEN/AA2vdxIejXIAQ/VdM/m4VaiPK8llKLOlfapRlV32z84FGAXfLZFLOnIW\n",
       "npKNMy+LwaR4WJtmZ3wPzizQUgBiDA+j2DDbJdu7tzZNjiDtXWyVd9Y4pErke1zIa/68tW9DHFSo\n",
       "dBLJxGImsf/T1pIRS0IbWXvZM0PBQ335yoFqGiOuJ3KCqGylBK8hznHuqaSjVvU0jBpZChc0CX2g\n",
       "bxfB9TA6sqTnrr2G6vmywjicoo0gbcJwELFWRPKdvjaiKBcrrv3MB4T9qDVpMeq5LE3fCp0jNNEJ\n",
       "clPUimSltutuX5+fsOlWrpthmFrgPg+M4lQs+1lG1+TyLboAisiiTrr2ruBrzNGjOmpcvrdfpYXd\n",
       "PVr7u5HsFFYdouyiMJM/aVh91nQfOCdl0R+IERaLTWLdEdSioVIQFGFP49rtPneVS/wGgOSSnB8N\n",
       "ZvdFRPtT2Eo2+sX48zSmIAKQln3rIzEJQc9XtT5eNyffR7atPbwgGaX0614sFt51ztGtN9OKUAii\n",
       "m5U+Scwl+aRxcNhdet+bJAAFlQAAAVoBn69qQ38ADa93Kat2wAvDEAH697C1Jwc/JQ3LaFApf6tH\n",
       "bk5G43vX54SHul275ZAiRP0/oduLsOq6/xSWyJED+IGLTyiyXYFHx9q5mqrsNEcsi3jmvfihWbv8\n",
       "lB+c7tr+ATNq1KFWTeO/OKr4LGKRzsEOH2BLac5QYg0ZQv6Wa/JA8lZRDjSt+T2onRQjSOoUSEp4\n",
       "aROM/r8vVky0NLQMX73myLRm4jOSmcWelKpHhMQbZK4Wi8xHH65O80CWqr2ICUNQgPbiTi4dn9Cx\n",
       "ZV35aadEknC+4REo0TiG+rBA7T6CgqeMkR97dL1t/Pb8gUz6e1OeFtHA7rYBtXuC39vBY/xX2bdt\n",
       "x4mTid34mCAVhWgeO7IWIrivr5rvgoX3f9W9QU1PugI+Xrr2tH87z9rL4W43TFGeB5MteqRQv39p\n",
       "px2PCwlSf7S1nWGmTGHpxnm6bY+hKF5vAAGfAAAEbkGbs0moQWyZTAgh//6qVQACUH/1ACw7fMc8\n",
       "sQrEmtvwCK2KNh4+Umdq6fuVMwZb1f/gT9WcqpQhpfDDN/X39TMvYQKLbS+3DfHoeUGCAuTUqUIz\n",
       "Z/obOH3+PdR8n+Gsp87SzxVqXpKXotuOEIISc5Jq2FJt5Y9ybK1fl3QxKW+zFT/+HjQjfj5h3Tpt\n",
       "RUxgMNG4m34Que1MmgKTYrwigSJkVZ8mNDDemJeOlrIQXv89u8mT9VYcguoDFDNekhvQBSRk1K1i\n",
       "T3VIDtltDSxN+Jl2rX3QM8yr54eC8gACi6cYswHv1GhFbXDlvrgwTk5dHkE3FQsgVcN10op7XIvG\n",
       "J4judVLMWt9Ul0p7v21HghoFnIg6NaPgrxQEQHsT4k1A2sPw6C515AVPkG4DVbtySm9LdJQWPRpN\n",
       "DWSt1ld8SQ7+w+PA45LJxr02mFHVZxxsJCAKJPNb/vz7oaBanJEkLeP6DqYOi9x8l0UvndStxWVT\n",
       "ASzLqMtC0K4UZ7IEF+0zD+2B7ly44OlF8Ah6mUACM9mhSL4Z+CVgwg7S8sfJfRTuxZbCeVlEH+EH\n",
       "QBAm294lNLeqLO30tR+H+F/OGFPoJOKbz5ZmqDERLpH80dyf6X+aYWs9zLu6K9Z7weEuCGkOnucd\n",
       "tDQFRE6UuolkYuD3q74P0vfEud0zhwtrnFSdZLIQ4LB/k2UbIxfmrSRSdF3doSgdqVJFk5ubjMuo\n",
       "w2ljrVAs0rLmmyd7wjz0nh1TbO5QjWJLkio3G+4tz7KYVTnkrpjsviRTirl7uPCrwafik2bm5Zr3\n",
       "kWxBK4g6VDLm1AunVZtFHLl9k5CjK1uTCdU+GwDSfzlBvGiGp4yZ/oVnILyHmFIv+TUkbNUytX5F\n",
       "R6C0oWQYw+iOcIQQihTAE/gA7RdPysUIHn1Dh4COYr2BS2kexAB9eB1ULaRTqE2cidef5mQdQRjW\n",
       "AYxe5/jpdkuaQlGlFMpsIMuo8zV1I0qY4RDXFmhAE8by1oZ+DWfgRUsvidGfhcGmq7qo03FEw751\n",
       "SLVwY1hjF1hwG1IppfI5DLEZqwzJBlFZ05np+T12sCmASAgXm0/SjGlmuEGRJOv4sVgu5ob8hngi\n",
       "TwoTrHOQSspYz2BXX4ZkUCWUJqeDkOq3uadrcHtdzZKOT1PpTHxiZW50jQyjxNlxuaFimj7y6+GG\n",
       "RzACe3qf4Fgat0PKNNP7hC7tRzw6cDv88tA4f74xPYDI5x0wuNZqgWTx9fO6D5YeeJ2lFvF5F7WP\n",
       "MnnPtPYWZWDVkwt7ndUVaFBt6j4dMZhEnGLhe/8Ow37Grt0e7WiekIZizSofCWhj6aknGR2g/EBh\n",
       "qAmReluJH0uO1mi1WNExbVOHP9JAmzEUZlrPsjy8P7qx/7fcyHxC3lrbZ8yOafKB9pY14by0R5gr\n",
       "DDrVPIjtDoLV5eNyhGqWzcisixJrCs3MgUuw+RJFGsM9DnSe1zf/qassST1xON5h07GBzctCoWim\n",
       "Zp2KRLNOHMrS44SS0A75EUVQHblvsW9W0AAAAW5Bn9FFFSw3/wANr3cqVAOJ2SLQcAAk6JbXlcJp\n",
       "MaOXYg7Hgiu3prAw/+foknat0cN2CIDOodeMc0X1ENBgn8ipXbbcWvJJOoSIKZCEtyRZvMsOamLa\n",
       "ZNTsLo9vnPKTMO06rExE3QoYx/zoQ3GHh3eXHfh/UUogBxF9PXkZOQaRpWpgRJqMnoUi+TUc6wiy\n",
       "IvO1Ix+gbkQmfPnuZc5XbJB4WbZjcPavUN920dMaNq4mG0WQ0l8p0UYuCOm5wLAQYqAyfoO3Cqy4\n",
       "x0wp+vg6HUQyn6lc/PMoXWJCn+rmJGlvfSX7VSQWMHL3RySY0d5vA/nWhFUu9re1Sh0O0ZkGe5J9\n",
       "dmvt0Nvn0ZU0qsHy5mmr6Bhl1ZxjFyTZujpgQq+9ODmX9RLoSLkHnogA1kJT4TRolODtDjc0Yk3r\n",
       "eJTbxrANPbFN4/i2zSJtVOM7Z1sKAKx+8Iu2Yrm2UfA8MjZOP5Wur4wv2YI15eifvVSy44EAAAFS\n",
       "AZ/yakN/AA2vdypgQQAfyrbS2OQEvfy2FAHBYpHSlQfvPwkOAugooDjuGPvuLyvf8tGYtgRdtkgg\n",
       "W/l1SC7Z0Td0DGbUemmrgZWWVyWhQI64ic6MC/DOlxiJpAeTArUdHdDL414AcQdimUEyPMgvNfGO\n",
       "aMp8IetswUns0Ojqo8FkBdDwcr5l87V2ODdxCrJV3NSQpAiHQYSHsxO0j0GaabBqVyI58VMvluS5\n",
       "HKDtxrAgJiL89UVoIz5lgmyc+aPhlTRJ+SK2aHUxiqPmRvaVSvg5sOD6HUcYyaSnZ4XfNbs5EWnJ\n",
       "XMGFVmq9WiRmBO8Cy7tdaCPpMr7359fTe0I6eR79iI3b/XpWcUA0upsMNNB5gwvZLUA9o9327Nlt\n",
       "q45dks08EHuvdHItiV9j1TrxRPYmAG1HWjEXSGZZkf4QUwWPz2VfUevTvTmaG08XDQAABSQAAAMg\n",
       "QZv0SahBbJlMCCH//qpVAAJQf/UALD8+BrC60IQoYrgpk4qVZajSQTbMwt8/VU3+mcNFJCdBjJ8m\n",
       "LBlNIfwSyTLU6hBQ3tI5d8h90UYm+SCiONImubOCGAhpDPzV0vmBs+pCXIV2hmwsP3LfP6fNq0Pg\n",
       "/ueSgVLj+NQMzKPw5Ixi62WEINHjLIztAB4y0glm4MrrN6vNXiNZ7iN+Qc/oRPzusNxz5kzaiHcz\n",
       "NT7OOHBEyUEVAcf34TEpvxBEGMfvhRNVMS4ThQrsfxcCiQPv4JMvcWsu3NGRD1UsG0WVv/3AEayE\n",
       "LAfO/giZ0QS0RDKjVefWrquOphq9ELUmjUOtZjBptnzds+FUbztOsMjZ+9y2pBH8gMk/5Y7oFad0\n",
       "DnDm+AZPqFauPNl1UtShDpDqR7jyMz10fO+JoCwVgjzTpkl3LN/4soJhlrsf/AlfkuMqZuPAF78o\n",
       "4xTWcDw1Ju2bboRGaS/luGjdm2VIqR83fqKQv56QmJ1hoonyXJzLx6hfPHdi9idmBGm/vy794vW6\n",
       "xnP2KFcJmVGet3REPj1OvjJtq9rDudxma6Hgz3akTYych60TuS+8Pgddo7pPlMUiPkk9NypEqLWZ\n",
       "Ng35zNQFC28qhqpoge5+WtZNJOTU5N3qyeSg3M4hFZsQ0MWNt2jJtqojjxZZzb3x7mFz65XuyjLg\n",
       "0L8dT/FRCrEKe1wxRsIvXFolbnpuWE+gfT0/faJPkGyD5Y4NlC+9P0nfottZLqQ0+EfFOde9emvj\n",
       "GDDGjjFHa76MlvkDCJksGohXn3DxlfxWXg3zxm1T9LBEFuxvU3xvKyFAas78PAKv2wpwarl1zIzv\n",
       "5770jGkSwXONI+LfCxTDfuyE3Cs4rued5yEW5psncPfXK6sFgP0Zi6dfRA6AY8s6hBZDMNmhJJBs\n",
       "O9CKXEf5Lvx74A47L0VfgGUV8G4UjElL1XKgV05A37mJUaCax3XpGR5q8usg4BK5SbdRG1wuz2+D\n",
       "Lmzy38m9z8IzHiWZMZlCrdGbsB/MTiGgHlul3Ln1JY/igFeE8NX3MyieUrOaXWfasiiQzIzZlnbS\n",
       "2zAAAAJ/QZoVSeEKUmUwIIf//qpVAAJQf/UALD8+BrC3EOW3kVkGraVxesImgqHq8bIXcYZ7QtI1\n",
       "PUBVhUf3jUssx1pQcCtOyynfYl6WtpmU+i0ykFrx9zm+bRVM54wKPLB8Hj4MD1zk3HXUi82CGqQf\n",
       "ktMu+nttUtMTK+G0iwZIzRt/hKq4hiV/8chnTJxaJmNXJ1RZTc4YasaprFe2+O6o7xLi3GBllAbV\n",
       "RoUS+9mN0goAarSihMqhP4iAfk7tAMHRQV2QiL4GPsQ60IpQwsLx4EIXaXrvQQnrCABQv0Z8MDOA\n",
       "zj/MmcZQRpi9UgNHmz8modYCSJXXVXznSKOzCRHVR3dsfUVFRmc5UbgyyvapRDwgpXQS8YKeQWbq\n",
       "SCPkwn9PLbxuYhy1RlxLB2aLmGtAjt/dy1HqKGwvn8ka8HGPy8IkoHZI7YG1mW9aQvfdgXhfq6vl\n",
       "LUNjYlsTUSVU0T7/trVG1p3vnrz5mTOuC/1W+LSluctkup8t3YCW43U+cxLVuXjzDGXZjKcO3BbZ\n",
       "ShvxkQKJXMLVqlhZW+08Ka9FLX1OYEPM6ssQtcpu1keuq1EEsv73T0hv9krjMvoJ/KaG8+H9d5Yu\n",
       "XzZ+x2ezFg3tNR9z6NXthfBW7VPrLyo0qRLf9fgOcjdwYyOQYsRwPLOj2MiidClgWpmpkOAMoV3V\n",
       "NUMhNyuLuFESOPCf3mmAvRagL5iqdxOKuR9XN832ClVD/yjD0S27plvp1g/Xsvsq8n/C3htzweP/\n",
       "W3l/tnOrUGUVbnb8L92gFt+mMjkQKV6mPxrka9RAY2MTVagfM9W8p/6x+w4SE1Z+aQ/RoBKLB8oS\n",
       "b30l5RFgYpL1f4baQfl4AAGjAAACWkGaNknhDomUwII//rUqgAEobqWAETXpkz7Zqz3+gSF0HC2X\n",
       "Limw3Vf8LbLCVhQ0pe8bEeryp2ob7OjnzQfW7FNByezXH/k3meMfOThDQUDFq3XcphbdcW99dC//\n",
       "VV9/RqrQdRjmyVKBCSEfQusNDQ80araQTpsCO5PDxxN8wX2sfjoSMJzOyKew/0QosPFh2QjRj24W\n",
       "XcykxKnysI9zOQwkrxn95TYsASkAg+/9asr5aiwVBjHybUATss30ETtRUOBGGfGWA/oBRW5vtCsZ\n",
       "BKFLRGnzicSXNEdOfWYl4FA0jjfJ0lBcodplM8kzccmDv4+c1rPG2SP3t2ZnFbGxsaX9pABjC3be\n",
       "IsSPPQ6uyvE1/alKi8EX2pGu7CFfFEx9g5MIk3QH/3egAArYf3JK5m8vJEnUg8e3d9I1OIBZL1Em\n",
       "l8Wg07aFS444+CFzGHCUcwmwwLHWkZgWoDxqQ6tRmdr7XgdZ1EN4ky1bquHIJVHF4Cf7A00dhBAZ\n",
       "fbdqWwEckuDplDz3wYNQPAPP3ZP4eAZPYHw867M+qzpmbmouGZpE3QARPeoAqKTHDT8TL8H6ebCi\n",
       "QtthYVyCaI42EPsrtP0USIeho6EF8h/MukFiXgOVdFO/mu2uAT2R4ulUAo/Q6F0CcFbXLbHDchGP\n",
       "6TtkL0O7O3IeDkDKQ4V8nqGk1edn6mi58VcKusliPKHAabE7w1M3zdeQQWQr7Ttk1i2RcDGJnHQy\n",
       "xO0i/qy13O9ftfMLrkubl02VhS4nkxnD5642WO1ANn5qUODj6XDpfmklwUiWJv6+ZEAAANSAAAAD\n",
       "BkGaWknhDyZTAgj//rUqgAEobwbgCMrupvZPZDlW+Kx2xV7erLI6LErb+9CyUti/nBDZlEK+takV\n",
       "l1mvS2umVSbqoRV5rwAW5GR1QuLwJO9QtmUHsexqhl1xjtX2PCuNu4TZ4za+DJP+3lZou4TC4GtO\n",
       "Ur7yAHjS2SHtI5jTGAHQK0XzWlhhP7H8NSXXRnae64k7JmGo4qu2XsaIMCPB/qw5GKZYcaIzKrJr\n",
       "FJtqRkcRjQKvQdbQCdLPixOBW1sZPRAqydN8+LHeTlbNAJtV/NGiZO2jvYc0K1OhMPOf7MTDfMnP\n",
       "IQSjs5QjWW3NNPYRMfxUpZ5Ems24cYVDVfOse0/VzH/RyaMbLtJnN7Aq0QnqfVYqvqTvuIlyNcql\n",
       "wD7/ZXOtzPbAdtAPAL1PxO1k+0beeq7b+sJfOn7P0iyvR/rh/cJzLXfUGgPMJbaz5H1Xk5upkBP/\n",
       "DUbhReVjhFRLMd/M7shXXmkhzPe/e2sq36ETf+jRJkFKU5/tGiYoy8F/FMyQxLJ1amGcCsMshXf6\n",
       "Nq2J5YmDfkAoNyo1Gz7+FT2M2n0FJPjrEFPx0wanQTn5uFGpuDl1EyQS55+logm2yWtCVFhupD4X\n",
       "o5ELt4Ji3mRteoNoj4zdLx5Q/6Pla+FijIkKNu4eMzLpyvqngmQhTfPRjvRqyQBYu1vAIufzLRX/\n",
       "maN1NUBLOuwvoMbeyZergyOOCyWQt2ZYq7SyVjjITCFmKAHIjNZGHrfFyV8dL3NNhH7Ysvrj1IFu\n",
       "TOksG06q0qh04+UaJpXvFNZ5ZxfnjjXAgmu7QDJ4+DrSq7TlsO89T0OLPTkmKtOuYUdf3oYI8FUR\n",
       "RYDJYgOgtlwyll9+tYpFT4kWgaUiy1irsn4tieHmeDw9aKbTm6ldt4wFiwnMhyVg3uewLZT+ifI4\n",
       "LrbkD3a2m2W77QU8kElbZwduo5HbOq+NfD637Nmtrfj2G/FCIYjOGSElg+e7VthgIeYhzb+5vYC5\n",
       "e5hHF44uyWyldo1ov4Krkzo1z3MJFgxNRNLHRy0HAAAR8QAAAM5BnnhFETw7/wAJrABesn2AE1Mk\n",
       "bBeOQl3+ea5Virss/+J9Ldyel691dVW26tLIQESVblQiR1uc6s+rXJg1fdbgf7OH46NDLnLTSmjy\n",
       "dmgyaY3rIsONA/ONPcFIH8+1eNgo+YOEOPKA5fMzu/UKRETBd/R3CVzWUGkRmb0hXssSPf9gu2Ok\n",
       "gvVdgZ9lOnT0mWj26N0flRjoSQu7cOwOGdCYCWl5rG93ZHQKJanfflS/tzua58t0fWre4Y8l2s6L\n",
       "NkSjaO6KRDboBzdwLhJ5FwAAAIIBnpd0Q38ADa93K7UvlY7nBCaJKADSOeDLYmbVSsku+HmvVjsO\n",
       "fCao9fxN/pCrbmqToirGfNoeGPBVZLSX1TvucVdHRWuxW3nx9l0oRBrIcWwvadHnhWfPw1KXHgLn\n",
       "yTfAheJ8Xv6r5uIZrouJ9SeQFjP9bimKsM4abwr5BXOQAAasAAAAPgGemWpDfwANr3crsJJh48Y7\n",
       "hG2Fz47YvvqjfNQAhS32N8yvEBOqg6DJerbnWAQ/h4ybU6hsPDYbsTAAAAoJAAABdkGankmoQWiZ\n",
       "TAgj//61KoABKG8G4Acb6Vliyxw0nWOV8wQEJg2wHA9yBnLgCYlnN05fpx//UVT7ziX755zd7lqR\n",
       "WDam9p+MryuJFxlXROIDg+2abDhdNiwhu1qAu9cbOeJADzq+GlY39ArWx+NVcX4DyPMW4JBRiNlK\n",
       "6SmiETBpgHThnm2kjklCEJ4cy4iIcKr5w4M2xwasgQbtTgIu57erYmiUo+RDeEYsgfvhNipXNq1V\n",
       "5IJ1Xh3f1PTg5SPKaiQwb+y6cayAt4sIUfSB6ASsiU0Q4e6wuOImGqhzh5iHVA/+wvOPdHVqBmZ5\n",
       "u38Kw/Chsge3BzWE5BnDrcCWqe/medO1G/dWsoAGq2yiIxGwa/BSEJ7+GBcC6AQmWIJ6Uikh54LO\n",
       "M1hqWePgKFz+u/s7rapQ+KbvtIpXMl5SuGdIAi2HhgAgbLqKnGktVgf+CPGMr3+DK3sV+F/TCExP\n",
       "20iI8mi0fsn2egXpyuX71LGH1ekEp59IAAAAcEGevEURLDv/AAmsAF6oeo64d5AAJOtVKkPK3ZkE\n",
       "K/yP+9wCoCrk0+hq/Pe3S1bBoOiDbwzmQtPx+Ar//J8eK9wpEmoP3eZAKyo9pjvi3rvw2IOmLILk\n",
       "dcwJ8YBan3X4MdnDLrHR4OUJogp9wI1grYEAAAAsAZ7bdEN/AA2vdyu1LxhcgBCqKkUIT/zv6Ik0\n",
       "l5NxGz1xjsofAfoRV9AAAs8AAAAlAZ7dakN/AA2vdyuwkmHj2yySekVQppvjC5ttC/opPhlIYAAu\n",
       "4AAAALdBmsJJqEFsmUwIIf/+qlUAAkFBY6AALIM7cY9CzGyvaImWz/0ynqjW/WZua+12gidl4Q1A\n",
       "Q1PtseGyam9DM2G3COJmBGluE/+AJIS/tSjd5+y4ondgS0bXORgNZoPpCe6qHYtO8HU/DfCFWiib\n",
       "Zz0gIl24uKIU8Ibsa8E+nBZFtBXwlb0Bx0p+IOtB+PgwHUKI5TEiCdZgj0nT75ucNdOMwPT6uZKw\n",
       "brzDgJPGskiz0kKFDYAAAYsAAAAxQZ7gRRUsO/8ACawAW4/coZVQD4MAjIw5Up1mOCkGKzJj8i+A\n",
       "N7rkq6LeTJ9AIyA2YQAAAB0Bnx90Q38ADc9YFqywWoKvbTVbq+guaJH0AAAbMAAAAB0BnwFqQ38A\n",
       "DdF2LMK4LqjgpokQCXISxoXyYAAG1QAAAFdBmwZJqEFsmUwId//+qZYACMTS1bDW+ACZerPkAe0g\n",
       "XkrKdKy3+UjjUNw6TcAeTPHguvn+mQ3HhkLXi39kYltr4rmGn5t7dFKbIIrFguRGWu5olkAAE3AA\n",
       "AAAsQZ8kRRUsO/8ACcUqJNZV1gvJ4MM4VjYOXLQnXhsSoxG5VI6H+QiwADkgUEEAAAAdAZ9DdEN/\n",
       "AA3PWBassFqCr201W6voLmiR9AAAGzEAAAAfAZ9FakN/AA3RdizCuC6o4KbUqJRpV2BpJiWDAAA3\n",
       "oQAAABhBm0dJqEFsmUwIb//+p4QAAAMAAAMAHzEAAAS4bW9vdgAAAGxtdmhkAAAAAAAAAAAAAAAA\n",
       "AAAD6AAAD6AAAQAAAQAAAAAAAAAAAAAAAAEAAAAAAAAAAAAAAAAAAAABAAAAAAAAAAAAAAAAAABA\n",
       "AAAAAAAAAAAAAAAAAAAAAAAAAAAAAAAAAAAAAAAAAgAAA+J0cmFrAAAAXHRraGQAAAADAAAAAAAA\n",
       "AAAAAAABAAAAAAAAD6AAAAAAAAAAAAAAAAAAAAAAAAEAAAAAAAAAAAAAAAAAAAABAAAAAAAAAAAA\n",
       "AAAAAABAAAAAAfQAAAH0AAAAAAAkZWR0cwAAABxlbHN0AAAAAAAAAAEAAA+gAAAIAAABAAAAAANa\n",
       "bWRpYQAAACBtZGhkAAAAAAAAAAAAAAAAAAAoAAAAoABVxAAAAAAALWhkbHIAAAAAAAAAAHZpZGUA\n",
       "AAAAAAAAAAAAAABWaWRlb0hhbmRsZXIAAAADBW1pbmYAAAAUdm1oZAAAAAEAAAAAAAAAAAAAACRk\n",
       "aW5mAAAAHGRyZWYAAAAAAAAAAQAAAAx1cmwgAAAAAQAAAsVzdGJsAAAAtXN0c2QAAAAAAAAAAQAA\n",
       "AKVhdmMxAAAAAAAAAAEAAAAAAAAAAAAAAAAAAAAAAfQB9ABIAAAASAAAAAAAAAABAAAAAAAAAAAA\n",
       "AAAAAAAAAAAAAAAAAAAAAAAAAAAAAAAAGP//AAAAM2F2Y0MBZAAW/+EAGmdkABas2UCAEHnnhAAA\n",
       "AwAEAAADAFA8WLZYAQAGaOvjyyLAAAAAHHV1aWRraEDyXyRPxbo5pRvPAyPzAAAAAAAAABhzdHRz\n",
       "AAAAAAAAAAEAAAAoAAAEAAAAABRzdHNzAAAAAAAAAAEAAAABAAAA+GN0dHMAAAAAAAAAHQAAAAkA\n",
       "AAgAAAAAAQAAFAAAAAABAAAIAAAAAAEAAAAAAAAAAQAABAAAAAABAAAUAAAAAAEAAAgAAAAAAQAA\n",
       "AAAAAAABAAAEAAAAAAEAABAAAAAAAgAABAAAAAADAAAIAAAAAAEAABQAAAAAAQAACAAAAAABAAAA\n",
       "AAAAAAEAAAQAAAAAAQAAFAAAAAABAAAIAAAAAAEAAAAAAAAAAQAABAAAAAABAAAUAAAAAAEAAAgA\n",
       "AAAAAQAAAAAAAAABAAAEAAAAAAEAABQAAAAAAQAACAAAAAABAAAAAAAAAAEAAAQAAAAAAQAACAAA\n",
       "AAAcc3RzYwAAAAAAAAABAAAAAQAAACgAAAABAAAAtHN0c3oAAAAAAAAAAAAAACgAABU0AAACOgAA\n",
       "AyAAAAQpAAAEKAAAAm8AAAJLAAACdgAAAgkAAAS4AAAB8wAAAMIAAAFvAAAENQAAAlwAAAGdAAAB\n",
       "XgAABHIAAAFyAAABVgAAAyQAAAKDAAACXgAAAwoAAADSAAAAhgAAAEIAAAF6AAAAdAAAADAAAAAp\n",
       "AAAAuwAAADUAAAAhAAAAIQAAAFsAAAAwAAAAIQAAACMAAAAcAAAAFHN0Y28AAAAAAAAAAQAAACwA\n",
       "AABidWR0YQAAAFptZXRhAAAAAAAAACFoZGxyAAAAAAAAAABtZGlyYXBwbAAAAAAAAAAAAAAAAC1p\n",
       "bHN0AAAAJal0b28AAAAdZGF0YQAAAAEAAAAATGF2ZjU3LjgzLjEwMA==\n",
       "\">\n",
       "  Your browser does not support the video tag.\n",
       "</video>"
      ],
      "text/plain": [
       "<matplotlib.animation.FuncAnimation at 0x7fe54c01e0f0>"
      ]
     },
     "execution_count": 17,
     "metadata": {},
     "output_type": "execute_result"
    },
    {
     "data": {
      "image/png": "[encoded data removed]",
      "text/plain": [
       "<Figure size 216x216 with 1 Axes>"
      ]
     },
     "metadata": {},
     "output_type": "display_data"
    }
   ],
   "source": [
    "# Paste your code here\n",
    "#\n",
    "#\n",
    "%matplotlib inline\n",
    "import math,os,sys,numpy as np\n",
    "from numpy.random import random\n",
    "from matplotlib import pyplot as plt, rcParams, animation, rc\n",
    "from __future__ import print_function, division\n",
    "from ipywidgets import interact, interactive, fixed \n",
    "from ipywidgets.widgets import *\n",
    "rc('animation', html='html5')\n",
    "rcParams['figure.figsize'] = 3,3\n",
    "%precision 4\n",
    "np.set_printoptions(precision=4, linewidth=100)\n",
    "\n",
    "def lin(a,x,b): return a * x + b\n",
    "\n",
    "a = 3.\n",
    "b = 8.\n",
    "n = 30\n",
    "\n",
    "x = random(n)\n",
    "y = lin(a,x,b)\n",
    "\n",
    "plt.scatter(x,y)\n",
    "\n",
    "def sse(y, y_pred): return ((y-y_pred)**2).sum()\n",
    "def loss(y, a, x, b): return sse(y, lin(a, x, b))\n",
    "def avg_loss(y, a, x, b): return np.sqrt(loss(y, a, x, b)/n)\n",
    "\n",
    "a_guess = -1\n",
    "b_guess = 1\n",
    "avg_loss(y, a_guess, x, b_guess)\n",
    "\n",
    "lr = 0.01\n",
    "#d[(y-(a*x+b))**2, b] = 2 (y_pred - y)\n",
    "#d[(y -(a*x+b)) **2, a] = x * dy/db\n",
    "\n",
    "def upd():\n",
    "    global a_guess, b_guess\n",
    "    y_pred = lin(a_guess, x, b_guess)\n",
    "    dydb = 2 * (y_pred - y)\n",
    "    dyda = x * dydb\n",
    "    a_guess -= lr*dyda.mean()\n",
    "    b_guess -= lr*dydb.mean()\n",
    "\n",
    "\n",
    "fig = plt.figure(dpi=100, figsize=(5,5))\n",
    "plt.scatter(x,y)\n",
    "line, = plt.plot(x, lin(a_guess, x, b_guess))\n",
    "plt.close()\n",
    "\n",
    "def animate(i):\n",
    "    line.set_ydata(lin(a_guess, x, b_guess))\n",
    "    for i in range(10): upd()\n",
    "    return line,\n",
    "\n",
    "\n",
    "ani = animation.FuncAnimation(fig, animate, np.arange(0, 40), interval=100)\n",
    "ani"
   ]
  }
 ],
 "metadata": {
  "kernelspec": {
   "display_name": "Python 3",
   "language": "python",
   "name": "python3"
  },
  "language_info": {
   "codemirror_mode": {
    "name": "ipython",
    "version": 3
   },
   "file_extension": ".py",
   "mimetype": "text/x-python",
   "name": "python",
   "nbconvert_exporter": "python",
   "pygments_lexer": "ipython3",
   "version": "3.6.5"
  }
 },
 "nbformat": 4,
 "nbformat_minor": 2
}
