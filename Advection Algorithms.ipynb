{
 "cells": [
  {
   "cell_type": "markdown",
   "metadata": {},
   "source": [
    "# Various Types of Finite Difference Advection Algorithms"
   ]
  },
  {
   "cell_type": "markdown",
   "metadata": {},
   "source": [
    "The advection equation gives the flow of any quantity (mass, density, charge etc) on a velocity field. Advection equation in fluid dynamics can be represented by the following equation\n",
    "\n",
    "$$\\frac{d\\rho}{dt}=-\\nabla(\\rho V)$$\n",
    "\n",
    "where $\\rho$ is the density, V is the velocity field. \n",
    "In one dimension the above equation can be written as,\n",
    "$$\\frac{d\\rho}{dt}=-\\frac{d(\\rho V)}{dx}$$"
   ]
  },
  {
   "cell_type": "markdown",
   "metadata": {},
   "source": [
    "### Central finite difference form\n",
    "\n",
    "The above equation can be written in central finite difference form as\n",
    "$$\\frac{\\rho_i^{t+1}-\\rho_i^{t}}{dt}=\\frac{\\rho_{i+1}V_{i+1}-\\rho_{i-1}V_{i-1}}{dx}$$"
   ]
  },
  {
   "cell_type": "code",
   "execution_count": 12,
   "metadata": {},
   "outputs": [
    {
     "data": {
      "image/png": "[encoded data removed]",
      "text/plain": [
       "<Figure size 432x288 with 1 Axes>"
      ]
     },
     "metadata": {},
     "output_type": "display_data"
    }
   ],
   "source": [
    "## Code to generate GIF image <source = \"http://tiao.io/posts/notebooks/save-matplotlib-animations-as-gifs/\">\n",
    "%matplotlib inline\n",
    "import numpy as np\n",
    "import matplotlib.pyplot as plt\n",
    "from IPython.display import Image\n",
    "\n",
    "from matplotlib import animation, rc\n",
    "from IPython.display import HTML\n",
    "# First set up the figure, the axis, and the plot element we want to animate\n",
    "fig, ax = plt.subplots();\n",
    "\n",
    "\n",
    "ax.set_xlim(( 0, 1000));\n",
    "ax.set_ylim((-0, 10));\n",
    "line, = ax.plot([], [], lw=2);\n",
    "\n",
    "def sett(x1,x2,y1,y2):\n",
    "    ax.set_xlim(( x1,x2));\n",
    "    ax.set_ylim((y1, y2));\n",
    "    line, = ax.plot([], [], lw=2);\n",
    "\n",
    "# initialization function: plot the background of each frame\n",
    "def init():\n",
    "    line.set_data([], [])\n",
    "    return (line,)\n",
    "\n",
    "# animation function. This is called sequentially\n",
    "def animate(i,rho,xx,step):\n",
    "    x = xx\n",
    "    rr=step*i\n",
    "    y = rho[rr]\n",
    "    sett(xx.min(),xx.max(),rho[rr].min(),rho[rr].max())\n",
    "    line.set_data(x, y)\n",
    "    return (line,)"
   ]
  },
  {
   "cell_type": "code",
   "execution_count": 18,
   "metadata": {},
   "outputs": [
    {
     "data": {
      "text/html": [
       "<img src=\"explicit.gif\"/>"
      ],
      "text/plain": [
       "<IPython.core.display.Image object>"
      ]
     },
     "execution_count": 18,
     "metadata": {},
     "output_type": "execute_result"
    }
   ],
   "source": [
    "spacegrid=1000\n",
    "width=1.0\n",
    "xx=np.arange(spacegrid)\n",
    "timesteps=1000\n",
    "simulationtime=1.0\n",
    "velocity=1.0\n",
    "dt=simulationtime/timesteps\n",
    "dx=width/spacegrid\n",
    "rho=np.zeros((timesteps,spacegrid),float)\n",
    "rho[0,30:300]=10\n",
    "veolcitygrid=velocity*np.ones(spacegrid)\n",
    "\n",
    "for t in range(timesteps-1):\n",
    "    #Explicit----------------------------------------------------------------------------------------\n",
    "    rho[t+1,1:spacegrid-1]=rho[t,1:spacegrid-1]-dt*velocity*(rho[t,2:spacegrid]-rho[t,0:spacegrid-2])/(2*dx)\n",
    "    #plt.plot(rho[t])\n",
    "    #plt.show()\n",
    "    #sett(0,1000,0,20)\n",
    "\n",
    "anim = animation.FuncAnimation(fig, animate, fargs=(rho,xx,10,), init_func=init,frames=100, interval=200, blit=True)\n",
    "anim.save('explicit.gif', writer='imagemagick')\n",
    "Image(url='explicit.gif')"
   ]
  },
  {
   "cell_type": "markdown",
   "metadata": {},
   "source": [
    "## Effect of time-stepping (Increased accuracy but decreased speed)\n",
    "Let us not decrease the time step 'dt' and execute the code again. Decreasing the time stepping makes the program very slow but makes the simulation result better."
   ]
  },
  {
   "cell_type": "code",
   "execution_count": 16,
   "metadata": {},
   "outputs": [
    {
     "data": {
      "text/html": [
       "<img src=\"explicit_lessdt.gif\"/>"
      ],
      "text/plain": [
       "<IPython.core.display.Image object>"
      ]
     },
     "execution_count": 16,
     "metadata": {},
     "output_type": "execute_result"
    }
   ],
   "source": [
    "spacegrid=1000\n",
    "width=1.0\n",
    "xx=np.arange(spacegrid)\n",
    "timesteps=10000\n",
    "simulationtime=1.0\n",
    "velocity=1.0\n",
    "dt=simulationtime/timesteps\n",
    "dx=width/spacegrid\n",
    "rho=np.zeros((timesteps,spacegrid),float)\n",
    "rho[0,30:300]=10\n",
    "veolcitygrid=velocity*np.ones(spacegrid)\n",
    "\n",
    "for t in range(timesteps-1):\n",
    "    #Explicit----------------------------------------------------------------------------------------\n",
    "    rho[t+1,1:spacegrid-1]=rho[t,1:spacegrid-1]-dt*velocity*(rho[t,2:spacegrid]-rho[t,0:spacegrid-2])/(2*dx)\n",
    "    #plt.plot(rho[t])\n",
    "    #plt.show()\n",
    "    #sett(0,1000,0,20)\n",
    "\n",
    "anim = animation.FuncAnimation(fig, animate, fargs=(rho,xx,100,), init_func=init,frames=100, interval=200, blit=True)\n",
    "anim.save('explicit_lessdt.gif', writer='imagemagick', fps=10)\n",
    "Image(url='explicit_lessdt.gif')"
   ]
  },
  {
   "cell_type": "markdown",
   "metadata": {},
   "source": [
    "## Implicit Finite difference form\n",
    "The above continuity equation can be written in implicit finite difference form by taking the future time step in the following manner.\n",
    "\n",
    "$$"
   ]
  },
  {
   "cell_type": "code",
   "execution_count": null,
   "metadata": {},
   "outputs": [],
   "source": [
    "Code"
   ]
  },
  {
   "cell_type": "markdown",
   "metadata": {},
   "source": [
    "Upwind Algorithm"
   ]
  },
  {
   "cell_type": "code",
   "execution_count": null,
   "metadata": {},
   "outputs": [],
   "source": [
    "code"
   ]
  },
  {
   "cell_type": "markdown",
   "metadata": {},
   "source": [
    "area code"
   ]
  },
  {
   "cell_type": "markdown",
   "metadata": {},
   "source": [
    "result discussion"
   ]
  },
  {
   "cell_type": "code",
   "execution_count": null,
   "metadata": {},
   "outputs": [],
   "source": [
    "# Paste your code here\n",
    "#\n",
    "#\n",
    "%matplotlib inline\n",
    "import math,os,sys,numpy as np\n",
    "from numpy.random import random\n",
    "from matplotlib import pyplot as plt, rcParams, animation, rc\n",
    "from __future__ import print_function, division\n",
    "from ipywidgets import interact, interactive, fixed \n",
    "from ipywidgets.widgets import *\n",
    "rc('animation', html='html5')\n",
    "rcParams['figure.figsize'] = 3,3\n",
    "%precision 4\n",
    "np.set_printoptions(precision=4, linewidth=100)\n",
    "\n",
    "def lin(a,x,b): return a * x + b\n",
    "\n",
    "a = 3.\n",
    "b = 8.\n",
    "n = 30\n",
    "\n",
    "x = random(n)\n",
    "y = lin(a,x,b)\n",
    "\n",
    "plt.scatter(x,y)\n",
    "\n",
    "def sse(y, y_pred): return ((y-y_pred)**2).sum()\n",
    "def loss(y, a, x, b): return sse(y, lin(a, x, b))\n",
    "def avg_loss(y, a, x, b): return np.sqrt(loss(y, a, x, b)/n)\n",
    "\n",
    "a_guess = -1\n",
    "b_guess = 1\n",
    "avg_loss(y, a_guess, x, b_guess)\n",
    "\n",
    "lr = 0.01\n",
    "#d[(y-(a*x+b))**2, b] = 2 (y_pred - y)\n",
    "#d[(y -(a*x+b)) **2, a] = x * dy/db\n",
    "\n",
    "def upd():\n",
    "    global a_guess, b_guess\n",
    "    y_pred = lin(a_guess, x, b_guess)\n",
    "    dydb = 2 * (y_pred - y)\n",
    "    dyda = x * dydb\n",
    "    a_guess -= lr*dyda.mean()\n",
    "    b_guess -= lr*dydb.mean()\n",
    "\n",
    "\n",
    "fig = plt.figure(dpi=100, figsize=(5,5))\n",
    "plt.scatter(x,y)\n",
    "line, = plt.plot(x, lin(a_guess, x, b_guess))\n",
    "plt.close()\n",
    "\n",
    "def animate(i):\n",
    "    line.set_ydata(lin(a_guess, x, b_guess))\n",
    "    for i in range(10): upd()\n",
    "    return line,\n",
    "\n",
    "\n",
    "ani = animation.FuncAnimation(fig, animate, np.arange(0, 40), interval=100)\n",
    "ani"
   ]
  }
 ],
 "metadata": {
  "kernelspec": {
   "display_name": "Python 3",
   "language": "python",
   "name": "python3"
  },
  "language_info": {
   "codemirror_mode": {
    "name": "ipython",
    "version": 3
   },
   "file_extension": ".py",
   "mimetype": "text/x-python",
   "name": "python",
   "nbconvert_exporter": "python",
   "pygments_lexer": "ipython3",
   "version": "3.6.5"
  }
 },
 "nbformat": 4,
 "nbformat_minor": 2
}
