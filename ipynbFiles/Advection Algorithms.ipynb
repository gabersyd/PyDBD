{
 "cells": [
  {
   "cell_type": "markdown",
   "metadata": {},
   "source": [
    "# Various Types of Finite Difference Advection Algorithms"
   ]
  },
  {
   "cell_type": "markdown",
   "metadata": {},
   "source": [
    "The advection equation gives the flow of any quantity (mass, density, charge etc) on a velocity field. Advection equation in fluid dynamics can be represented by the following equation\n",
    "\n",
    "$$\\frac{d\\rho}{dt}=-\\nabla(\\rho V)$$\n",
    "\n",
    "where $\\rho$ is the density, V is the velocity field. \n",
    "In one dimension the above equation can be written as,\n",
    "$$\\frac{d\\rho}{dt}=-\\frac{d(\\rho V)}{dx}$$"
   ]
  },
  {
   "cell_type": "markdown",
   "metadata": {},
   "source": [
    "### Central finite difference form\n",
    "\n",
    "The above equation can be written in central finite difference form as\n",
    "$$\\frac{\\rho_i^{t+1}-\\rho_i^{t}}{dt}=\\frac{\\rho_{i+1}V_{i+1}-\\rho_{i-1}V_{i-1}}{dx}$$"
   ]
  },
  {
   "cell_type": "code",
   "execution_count": 1,
   "metadata": {},
   "outputs": [
    {
     "name": "stdout",
     "output_type": "stream",
     "text": [
      "This graph is a intentionally left blank. We will use it to make animation in the later part of the program\n"
     ]
    },
    {
     "data": {
      "image/png": "[encoded data removed]",
      "text/plain": [
       "<Figure size 432x288 with 1 Axes>"
      ]
     },
     "metadata": {
      "needs_background": "light"
     },
     "output_type": "display_data"
    }
   ],
   "source": [
    "## Code to generate GIF image <source = \"http://tiao.io/posts/notebooks/save-matplotlib-animations-as-gifs/\">\n",
    "%matplotlib inline\n",
    "import numpy as np\n",
    "import matplotlib.pyplot as plt\n",
    "from IPython.display import Image\n",
    "\n",
    "from matplotlib import animation, rc\n",
    "from IPython.display import HTML\n",
    "# First set up the figure, the axis, and the plot element we want to animate\n",
    "fig, ax = plt.subplots();\n",
    "\n",
    "\n",
    "ax.set_xlim(( 0, 1000));\n",
    "ax.set_ylim((-0, 10));\n",
    "line, = ax.plot([], [], lw=2);\n",
    "\n",
    "def sett(x1,x2,y1,y2):\n",
    "    ax.set_xlim(( x1,x2));\n",
    "    ax.set_ylim((y1, y2));\n",
    "    line, = ax.plot([], [], lw=2);\n",
    "\n",
    "# initialization function: plot the background of each frame\n",
    "def init():\n",
    "    line.set_data([], [])\n",
    "    return (line,)\n",
    "\n",
    "# animation function. This is called sequentially\n",
    "def animate(i,rho,xx,step):\n",
    "    x = xx\n",
    "    rr=step*i\n",
    "    y = rho[rr]\n",
    "    sett(xx.min(),xx.max(),rho[rr].min(),rho[rr].max())\n",
    "    line.set_data(x, y)\n",
    "    return (line,)\n",
    "print(\"This graph is a intentionally left blank. We will use it to make animation in the later part of the program\")"
   ]
  },
  {
   "cell_type": "code",
   "execution_count": 2,
   "metadata": {},
   "outputs": [
    {
     "name": "stderr",
     "output_type": "stream",
     "text": [
      "MovieWriter imagemagick unavailable; using Pillow instead.\n"
     ]
    },
    {
     "data": {
      "text/html": [
       "<img src=\"explicitt.gif\"/>"
      ],
      "text/plain": [
       "<IPython.core.display.Image object>"
      ]
     },
     "execution_count": 2,
     "metadata": {},
     "output_type": "execute_result"
    }
   ],
   "source": [
    "spacegrid=1000\n",
    "width=1.0\n",
    "xx=np.arange(spacegrid)\n",
    "timesteps=1000\n",
    "simulationtime=1.0\n",
    "velocity=1.0\n",
    "dt=simulationtime/timesteps\n",
    "dx=width/spacegrid\n",
    "rho=np.zeros((timesteps,spacegrid),float)\n",
    "rho[0,30:300]=10\n",
    "veolcitygrid=velocity*np.ones(spacegrid)\n",
    "\n",
    "for t in range(timesteps-1):\n",
    "    #Explicit----------------------------------------------------------------------------------------\n",
    "    rho[t+1,1:spacegrid-1]=rho[t,1:spacegrid-1]-dt*velocity*(rho[t,2:spacegrid]-rho[t,0:spacegrid-2])/(2*dx)\n",
    "    #plt.plot(rho[t])\n",
    "    #plt.show()\n",
    "    #sett(0,1000,0,20)\n",
    "\n",
    "anim = animation.FuncAnimation(fig, animate, fargs=(rho,xx,10,), init_func=init,frames=100, interval=200, blit=True)\n",
    "anim.save('explicitt.gif', writer='imagemagick')\n",
    "Image(url='explicitt.gif')"
   ]
  },
  {
   "cell_type": "markdown",
   "metadata": {},
   "source": [
    "The above animation is the result of direct explicit solution of the continuity equation with 1000 time steps. We can see that the solution becomes immediately unstable and the square wave is completely lost within noise."
   ]
  },
  {
   "cell_type": "markdown",
   "metadata": {},
   "source": [
    "## Effect of small time-stepping (Increased stability but decreased speed)\n",
    "Let us not decrease the time step 'dt' and execute the code again. Decreasing the time stepping makes the program very slow but makes the simulation result better."
   ]
  },
  {
   "cell_type": "code",
   "execution_count": 3,
   "metadata": {},
   "outputs": [
    {
     "name": "stderr",
     "output_type": "stream",
     "text": [
      "MovieWriter imagemagick unavailable; using Pillow instead.\n"
     ]
    },
    {
     "data": {
      "text/html": [
       "<img src=\"explicit_lessdt1.gif\"/>"
      ],
      "text/plain": [
       "<IPython.core.display.Image object>"
      ]
     },
     "execution_count": 3,
     "metadata": {},
     "output_type": "execute_result"
    }
   ],
   "source": [
    "timesteps=100000\n",
    "dt=simulationtime/timesteps\n",
    "rho=np.zeros((timesteps,spacegrid),float)\n",
    "rho[0,30:300]=10\n",
    "veolcitygrid=velocity*np.ones(spacegrid)\n",
    "for t in range(timesteps-1):\n",
    "    rho[t+1,1:spacegrid-1]=rho[t,1:spacegrid-1]-dt*velocity*(rho[t,2:spacegrid]-rho[t,0:spacegrid-2])/(2*dx)\n",
    "\n",
    "anim = animation.FuncAnimation(fig, animate, fargs=(rho,xx,1000,), init_func=init,frames=100, interval=200, blit=True)\n",
    "anim.save('explicit_lessdt1.gif', writer='imagemagick')\n",
    "Image(url='explicit_lessdt1.gif')"
   ]
  },
  {
   "cell_type": "markdown",
   "metadata": {},
   "source": [
    "Here we increased the number of time stepping from 1000 to 100000 and executed the code again. We can now see the square wave travelling from left to right. But still the wave is not free from noise. Furthermore, increasing the time stepping makes the program more slow. "
   ]
  },
  {
   "cell_type": "markdown",
   "metadata": {},
   "source": [
    "## Implicit Central Finite difference form\n",
    "The above continuity equation can be written in implicit finite difference form by taking density from the future time step as,\n",
    "\n",
    "$$\\frac{\\rho_i^{t+1}-\\rho_i^1}{dt} =\\frac{\\rho_{i+1}^{t+1}V_{i+1}-\\rho_{i-1}^{t+1}V_{i-1}}{2dx}$$\n",
    "\n",
    "which can be simplified to ,\n",
    "$$\\frac{dt}{2dx}\\rho_{i-1}^{t+1}V_{i-1}+\\rho_i^{t+1}-\\frac{dt}{2dx}\\rho_{i+1}^{t+1}V_{i+1}=\\rho_i^t$$\n",
    "\n",
    "This equation has to be solved at all grid points. The system of equations can be written in a matrix form\n",
    "\n",
    "$$A\\rho^{t+1}=\\rho_t$$\n",
    "\n",
    "Where A is a tridiagonal matrix with 1 on the main diagonal, $(dt/2dx)V_{i-1}$ on the diagonal below the main diagonal and $-(dt/2dx)V_{i+1}$ on the diagonal above the main diagonal."
   ]
  },
  {
   "cell_type": "code",
   "execution_count": 4,
   "metadata": {},
   "outputs": [
    {
     "name": "stderr",
     "output_type": "stream",
     "text": [
      "MovieWriter imagemagick unavailable; using Pillow instead.\n"
     ]
    },
    {
     "data": {
      "text/html": [
       "<img src=\"impliss.gif\"/>"
      ],
      "text/plain": [
       "<IPython.core.display.Image object>"
      ]
     },
     "execution_count": 4,
     "metadata": {},
     "output_type": "execute_result"
    }
   ],
   "source": [
    "def tridiagDense(r,nxp,k1=-1,k2=0,k3=1):\n",
    "    a=np.ones(nxp-1)*(-r)\n",
    "    b=np.ones(nxp)\n",
    "    c=-1*a\n",
    "    return np.diag(a,k1)+np.diag(b,k2)+np.diag(c,k3)\n",
    "\n",
    "timesteps=101\n",
    "simulationtime=1.0\n",
    "velocity=1.0\n",
    "dt=simulationtime/timesteps\n",
    "rho=np.zeros((timesteps,spacegrid),float)\n",
    "rho[0,30:300]=10\n",
    "veolcitygrid=velocity*np.ones(spacegrid)\n",
    "for t in range(timesteps-1):\n",
    "    ep=velocity*(dt/(2*dx))\n",
    "    IA=tridiagDense(ep,spacegrid)\n",
    "    B=np.linalg.inv(IA)\n",
    "    rho[t+1]=B.dot(rho[t])\n",
    "    rho[t+1,0]=0;rho[t+1,-1]=0\n",
    "anim = animation.FuncAnimation(fig, animate, fargs=(rho,xx,1,), init_func=init,frames=100, interval=200, blit=True)\n",
    "anim.save('impliss.gif', writer='imagemagick')\n",
    "Image(url='impliss.gif')"
   ]
  },
  {
   "cell_type": "markdown",
   "metadata": {},
   "source": [
    "The above animation is the solution of the implicit central difference from. We can see that the graph is very stable till the wave reaches the right boundary, where it becomes unstable. Despite of being stable, the shape of the graph has changed from rectrangular to bell shaped. "
   ]
  },
  {
   "cell_type": "markdown",
   "metadata": {},
   "source": [
    "## Upwind Algorithm"
   ]
  },
  {
   "cell_type": "code",
   "execution_count": 5,
   "metadata": {},
   "outputs": [
    {
     "name": "stderr",
     "output_type": "stream",
     "text": [
      "MovieWriter imagemagick unavailable; using Pillow instead.\n",
      "<ipython-input-1-e6e0a49dd32a>:19: UserWarning: Attempting to set identical bottom == top == 0.0 results in singular transformations; automatically expanding.\n",
      "  ax.set_ylim((y1, y2));\n"
     ]
    },
    {
     "data": {
      "text/html": [
       "<img src=\"upwind2.gif\"/>"
      ],
      "text/plain": [
       "<IPython.core.display.Image object>"
      ]
     },
     "execution_count": 5,
     "metadata": {},
     "output_type": "execute_result"
    }
   ],
   "source": [
    "timesteps=1000\n",
    "simulationtime=1.0\n",
    "velocity=1.0\n",
    "dt=simulationtime/timesteps\n",
    "veolcitygrid=velocity*np.ones(spacegrid)\n",
    "zeromatrix=np.zeros((spacegrid),float)\n",
    "rhoupwind=np.zeros((timesteps,spacegrid+2),float)\n",
    "rhoupwind[0,30:300]=10\n",
    "veolcitygrid=velocity*np.ones(spacegrid)\n",
    "for t in range(timesteps-1):\n",
    "    aplus=np.maximum(zeromatrix,veolcitygrid)\n",
    "    aminus=np.minimum(zeromatrix,veolcitygrid)\n",
    "    rhoplus=(rhoupwind[t,2:]-rhoupwind[t,1:-1])/dx\n",
    "    rhominus=(rhoupwind[t,1:-1]-rhoupwind[t,:-2])/dx\n",
    "    rhoupwind[t+1,1:-1]=rhoupwind[t,1:-1]-dt*(aplus*rhominus+aminus*rhoplus)\n",
    "    #plt.plot(rhoupwind[t+1])\n",
    "    #plt.show()0\n",
    "anim = animation.FuncAnimation(fig, animate, fargs=(rhoupwind[:,1:-1],xx,10,), init_func=init,frames=100, interval=1, blit=True)\n",
    "anim.save('upwind2.gif', writer='imagemagick', fps=10)\n",
    "Image(url='upwind2.gif')"
   ]
  },
  {
   "cell_type": "markdown",
   "metadata": {},
   "source": [
    "###### Area under the curve\n",
    "Here we use Trapezoidal rule to perform numerical integration such that the area under the curve can be calculated. \n",
    "The formula of numerical integration is \n",
    "$$\\int_{x_1}^{x_n} f(d)dx=\\frac{h}{2}\\{f(x_1)+2f(x_2)+2f(x_3)+...2f(x_{n-1})+f(x_n)\\}$$"
   ]
  },
  {
   "cell_type": "code",
   "execution_count": 6,
   "metadata": {},
   "outputs": [
    {
     "data": {
      "image/png": "[encoded data removed]",
      "text/plain": [
       "<Figure size 432x432 with 1 Axes>"
      ]
     },
     "metadata": {
      "needs_background": "light"
     },
     "output_type": "display_data"
    }
   ],
   "source": [
    "h=xx[2]-xx[1]\n",
    "def areacalculation(timesteps,rhokovalue):\n",
    "    area=np.zeros(timesteps,float)\n",
    "    for cc in np.arange(timesteps):\n",
    "        area[cc]=(h/2)*(rhokovalue[cc,0]+2*sum(rhokovalue[cc,1:999])+rhokovalue[cc,1000])\n",
    "    plt.figure(figsize=(6,6))\n",
    "    plt.plot(area)\n",
    "    plt.xlabel(\"Time Step\")\n",
    "    plt.ylabel(\"Area Under the Curve\")\n",
    "    plt.show()\n",
    "    \n",
    "areacalculation(timesteps,rhoupwind)"
   ]
  },
  {
   "cell_type": "markdown",
   "metadata": {},
   "source": [
    "From the above graph it can be seen that the area of the wave is conserved as it moves from left to right in the direction of velocity field."
   ]
  },
  {
   "cell_type": "markdown",
   "metadata": {},
   "source": [
    "## Validity of Upwind Scheme -- is it always conservative?"
   ]
  },
  {
   "cell_type": "markdown",
   "metadata": {},
   "source": [
    "The above example is about the motion of square wave  on a uniform velocity field. The upwind scheme seems to perfectly solve the continuity equation for that example because the wave travels with being unstable(like in explicit scheme) and without changing its shape(like in implicit scheme) and also remains stable in the boundary. \n",
    "\n",
    "Let us now change the setup of our numerical experiment. We define a sinosuidal velocity field and put the square wave on the center of the 1D domain and run the above simulation again. "
   ]
  },
  {
   "cell_type": "code",
   "execution_count": 7,
   "metadata": {},
   "outputs": [
    {
     "data": {
      "text/plain": [
       "[<matplotlib.lines.Line2D at 0x7f87291ea2e0>]"
      ]
     },
     "execution_count": 7,
     "metadata": {},
     "output_type": "execute_result"
    },
    {
     "data": {
      "image/png": "[encoded data removed]",
      "text/plain": [
       "<Figure size 432x288 with 1 Axes>"
      ]
     },
     "metadata": {
      "needs_background": "light"
     },
     "output_type": "display_data"
    }
   ],
   "source": [
    "velocitygrid=10*np.sin(xx/320)\n",
    "plt.plot(velocitygrid)"
   ]
  },
  {
   "cell_type": "code",
   "execution_count": 8,
   "metadata": {},
   "outputs": [
    {
     "data": {
      "text/plain": [
       "[<matplotlib.lines.Line2D at 0x7f87586ada90>]"
      ]
     },
     "execution_count": 8,
     "metadata": {},
     "output_type": "execute_result"
    },
    {
     "data": {
      "image/png": "[encoded data removed]",
      "text/plain": [
       "<Figure size 432x288 with 1 Axes>"
      ]
     },
     "metadata": {
      "needs_background": "light"
     },
     "output_type": "display_data"
    }
   ],
   "source": [
    "rhoupwind=np.zeros((timesteps,spacegrid+2),float)\n",
    "rhoupwind[0,400:600]=10\n",
    "plt.plot(rhoupwind[0])"
   ]
  },
  {
   "cell_type": "code",
   "execution_count": 9,
   "metadata": {},
   "outputs": [
    {
     "name": "stderr",
     "output_type": "stream",
     "text": [
      "MovieWriter imagemagick unavailable; using Pillow instead.\n"
     ]
    },
    {
     "data": {
      "text/html": [
       "<img src=\"upp4.gif\"/>"
      ],
      "text/plain": [
       "<IPython.core.display.Image object>"
      ]
     },
     "execution_count": 9,
     "metadata": {},
     "output_type": "execute_result"
    }
   ],
   "source": [
    "timesteps=1000\n",
    "simulationtime=1.0\n",
    "velocity=1.0\n",
    "dt=simulationtime/timesteps\n",
    "velocitygrid=velocity*np.sin(xx/320)\n",
    "zeromatrix=np.zeros((spacegrid),float)\n",
    "rhoupwindV=np.zeros((timesteps,spacegrid+2),float)\n",
    "rhoupwindV[0,400:600]=10\n",
    "for t in range(timesteps-1):\n",
    "    aplus=np.maximum(zeromatrix,velocitygrid)\n",
    "    aminus=np.minimum(zeromatrix,velocitygrid)\n",
    "    rhoplus=(rhoupwindV[t,2:]-rhoupwindV[t,1:-1])/dx\n",
    "    rhominus=(rhoupwindV[t,1:-1]-rhoupwindV[t,:-2])/dx\n",
    "    rhoupwindV[t+1,1:-1]=rhoupwindV[t,1:-1]-dt*(aplus*rhominus+aminus*rhoplus)\n",
    "    #plt.plot(rhoupwind[t+1])\n",
    "    #plt.show()\n",
    "anim = animation.FuncAnimation(fig, animate, fargs=(rhoupwindV[:,1:-1],xx,10,), init_func=init,frames=100, interval=1, blit=True)\n",
    "anim.save('upp4.gif', writer='imagemagick', fps=10)\n",
    "Image(url='upp4.gif')"
   ]
  },
  {
   "cell_type": "markdown",
   "metadata": {},
   "source": [
    "Through all these methods we were trying to solve the continuity equation with advection component only. Continuity equation is all about the conversation of certain quantities (mass, charge, etc.) but as we can see from the figure the area of the square wave is decreasing as it travels to the right. This is the violation of the essence of the continuity equation. "
   ]
  },
  {
   "cell_type": "code",
   "execution_count": 10,
   "metadata": {},
   "outputs": [
    {
     "data": {
      "image/png": "[encoded data removed]",
      "text/plain": [
       "<Figure size 432x432 with 1 Axes>"
      ]
     },
     "metadata": {
      "needs_background": "light"
     },
     "output_type": "display_data"
    }
   ],
   "source": [
    "areacalculation(timesteps,rhoupwindV)"
   ]
  },
  {
   "cell_type": "markdown",
   "metadata": {},
   "source": [
    "From the above graph we can see that the area of the curve is decreasing gradually. It shows that the upwind scheme is not conservative (the above solution violates the conservation of mass)"
   ]
  },
  {
   "cell_type": "markdown",
   "metadata": {},
   "source": [
    "## Explicit finite difference by the definition of flux\n",
    "\n",
    "Flux is the quanity passing through a surface per unit time. Flux at a grid point can be expressed as\n",
    "$$flux_{i+\\frac{1}{2}} = 0.5(V_{i+1}\\rho_{i+1}+V_{i}\\rho_{i})-0.5\\frac{V_{i+1}+V_{i}}{2}(\\rho_{i+1}-\\rho{i})$$\n",
    "\n",
    "So, the continuity equation reduces to the form,\n",
    "$$\\frac{d\\rho}{dt}=\\frac{d(Flux)}{dx}$$\n",
    "\n",
    "Or,\n",
    "$$\\frac{\\rho_i^{t+1}-\\rho_i^t}{dt}=\\frac{Flux_{i+1/2}-Flux_{i-1/2}}{dx}$$\n",
    "\n",
    "Thus,\n",
    "$$\\rho_i^{t+1}=\\rho_i^t-\\frac{Flux_{i+1/2}-Flux_{i-1/2}}{dx}dt$$\n",
    "\n",
    "#### a) For uniform velocity field "
   ]
  },
  {
   "cell_type": "code",
   "execution_count": 11,
   "metadata": {},
   "outputs": [
    {
     "name": "stderr",
     "output_type": "stream",
     "text": [
      "MovieWriter imagemagick unavailable; using Pillow instead.\n",
      "<ipython-input-1-e6e0a49dd32a>:19: UserWarning: Attempting to set identical bottom == top == 0.0 results in singular transformations; automatically expanding.\n",
      "  ax.set_ylim((y1, y2));\n"
     ]
    },
    {
     "data": {
      "text/html": [
       "<img src=\"explicitflux238.gif\"/>"
      ],
      "text/plain": [
       "<IPython.core.display.Image object>"
      ]
     },
     "execution_count": 11,
     "metadata": {},
     "output_type": "execute_result"
    }
   ],
   "source": [
    "timesteps=1000\n",
    "dt=simulationtime/timesteps\n",
    "rhoFx=np.zeros((timesteps,spacegrid+4),float)\n",
    "flux=np.zeros((spacegrid+2),float)\n",
    "rhoFx[0,30:300]=10\n",
    "veolcitygrid=100000*velocity*np.ones(spacegrid)\n",
    "#plt.plot(rhoFx[0])\n",
    "for t in range(timesteps-1):\n",
    "    flux=(0.5*(velocity*rhoFx[t,1:]+velocity*rhoFx[t,:-1])-0.5*abs(velocity)*(rhoFx[t,1:]-rhoFx[t,:-1]))*dt\n",
    "    rhoFx[t+1,1:-1]=rhoFx[t,1:-1]-(flux[1:]-flux[:-1])/dx\n",
    "anim = animation.FuncAnimation(fig, animate, fargs=(rhoFx[:,2:-2],xx,10,), init_func=init,frames=100, interval=20, blit=True)\n",
    "anim.save('explicitflux238.gif', writer='imagemagick')\n",
    "Image(url='explicitflux238.gif')"
   ]
  },
  {
   "cell_type": "markdown",
   "metadata": {},
   "source": [
    "From the above animation it can be seen that the explicit scheme written according to the definition of flux is very stable even when the time stepping is very high."
   ]
  },
  {
   "cell_type": "markdown",
   "metadata": {},
   "source": [
    "#### b) For Non-Uniform velocity field"
   ]
  },
  {
   "cell_type": "code",
   "execution_count": 12,
   "metadata": {},
   "outputs": [
    {
     "name": "stderr",
     "output_type": "stream",
     "text": [
      "MovieWriter imagemagick unavailable; using Pillow instead.\n"
     ]
    },
    {
     "data": {
      "text/html": [
       "<img src=\"explicitfluxVar22333.gif\"/>"
      ],
      "text/plain": [
       "<IPython.core.display.Image object>"
      ]
     },
     "execution_count": 12,
     "metadata": {},
     "output_type": "execute_result"
    }
   ],
   "source": [
    "timesteps=1000\n",
    "dx=width/spacegrid\n",
    "xx=np.arange(spacegrid+4)\n",
    "velocitygrid=np.sin(xx/320)\n",
    "dt=simulationtime/timesteps\n",
    "rhoFxVar=np.zeros((timesteps,spacegrid+4),float)\n",
    "rhoFxVar[0,300:600]=10\n",
    "veolcitygrid=10*np.ones(spacegrid)\n",
    "for t in range(timesteps-1):\n",
    "    flux=(0.5*(velocitygrid[1:]*rhoFxVar[t,1:]+velocitygrid[:-1]*rhoFxVar[t,:-1])-0.5*0.5*abs(velocitygrid[1:]+velocitygrid[:-1])*(rhoFxVar[t,1:]-rhoFxVar[t,:-1]))*dt\n",
    "    rhoFxVar[t+1,1:-1]=rhoFxVar[t,1:-1]-(flux[1:]-flux[:-1])/dx\n",
    "anim = animation.FuncAnimation(fig, animate, fargs=(rhoFxVar[:,2:-2],xx[2:-2],10,), init_func=init,frames=100, interval=20, blit=True)\n",
    "anim.save('explicitfluxVar22333.gif', writer='imagemagick')\n",
    "Image(url='explicitfluxVar22333.gif')"
   ]
  },
  {
   "cell_type": "markdown",
   "metadata": {},
   "source": [
    "#### Is the area under the curve conserved in this scheme?"
   ]
  },
  {
   "cell_type": "code",
   "execution_count": 13,
   "metadata": {},
   "outputs": [
    {
     "data": {
      "image/png": "[encoded data removed]",
      "text/plain": [
       "<Figure size 432x432 with 1 Axes>"
      ]
     },
     "metadata": {
      "needs_background": "light"
     },
     "output_type": "display_data"
    }
   ],
   "source": [
    "areacalculation(timesteps,rhoFxVar)"
   ]
  },
  {
   "cell_type": "markdown",
   "metadata": {},
   "source": [
    "From the above graph we can see that the area under density($\\rho$) vs position is always constant, unless the wave passes the right boundary of the domain. So the finite difference form of continuity equation written in flux form is conservative. "
   ]
  },
  {
   "cell_type": "markdown",
   "metadata": {},
   "source": [
    "## Implicit Finite Difference by the difinition of flux"
   ]
  },
  {
   "cell_type": "code",
   "execution_count": 14,
   "metadata": {},
   "outputs": [
    {
     "ename": "NameError",
     "evalue": "name 'v' is not defined",
     "output_type": "error",
     "traceback": [
      "\u001b[0;31m---------------------------------------------------------------------------\u001b[0m",
      "\u001b[0;31mNameError\u001b[0m                                 Traceback (most recent call last)",
      "\u001b[0;32m<ipython-input-14-3e1ed5b93f05>\u001b[0m in \u001b[0;36m<module>\u001b[0;34m\u001b[0m\n\u001b[1;32m     10\u001b[0m \u001b[0md2\u001b[0m\u001b[0;34m=\u001b[0m\u001b[0mnp\u001b[0m\u001b[0;34m.\u001b[0m\u001b[0mones\u001b[0m\u001b[0;34m(\u001b[0m\u001b[0;34m(\u001b[0m\u001b[0mnx\u001b[0m\u001b[0;34m)\u001b[0m\u001b[0;34m,\u001b[0m\u001b[0mfloat\u001b[0m\u001b[0;34m)\u001b[0m\u001b[0;34m\u001b[0m\u001b[0;34m\u001b[0m\u001b[0m\n\u001b[1;32m     11\u001b[0m \u001b[0md3\u001b[0m\u001b[0;34m=\u001b[0m\u001b[0mnp\u001b[0m\u001b[0;34m.\u001b[0m\u001b[0mzeros\u001b[0m\u001b[0;34m(\u001b[0m\u001b[0;34m(\u001b[0m\u001b[0mnx\u001b[0m\u001b[0;34m)\u001b[0m\u001b[0;34m,\u001b[0m\u001b[0mfloat\u001b[0m\u001b[0;34m)\u001b[0m\u001b[0;34m\u001b[0m\u001b[0;34m\u001b[0m\u001b[0m\n\u001b[0;32m---> 12\u001b[0;31m \u001b[0md1\u001b[0m\u001b[0;34m[\u001b[0m\u001b[0;34m:\u001b[0m\u001b[0;34m-\u001b[0m\u001b[0;36m2\u001b[0m\u001b[0;34m]\u001b[0m\u001b[0;34m=\u001b[0m\u001b[0;34m-\u001b[0m\u001b[0;34m(\u001b[0m\u001b[0mdt\u001b[0m\u001b[0;34m/\u001b[0m\u001b[0mdx\u001b[0m\u001b[0;34m)\u001b[0m\u001b[0;34m*\u001b[0m\u001b[0;34m(\u001b[0m\u001b[0;34m(\u001b[0m\u001b[0;36m1\u001b[0m\u001b[0;34m/\u001b[0m\u001b[0;36m4\u001b[0m\u001b[0;34m)\u001b[0m\u001b[0;34m*\u001b[0m\u001b[0mv\u001b[0m\u001b[0;34m[\u001b[0m\u001b[0;34m:\u001b[0m\u001b[0;34m-\u001b[0m\u001b[0;36m2\u001b[0m\u001b[0;34m]\u001b[0m\u001b[0;34m+\u001b[0m\u001b[0;34m(\u001b[0m\u001b[0;36m1\u001b[0m\u001b[0;34m/\u001b[0m\u001b[0;36m4\u001b[0m\u001b[0;34m)\u001b[0m\u001b[0;34m*\u001b[0m\u001b[0mv\u001b[0m\u001b[0;34m[\u001b[0m\u001b[0;36m1\u001b[0m\u001b[0;34m:\u001b[0m\u001b[0;34m-\u001b[0m\u001b[0;36m1\u001b[0m\u001b[0;34m]\u001b[0m\u001b[0;34m-\u001b[0m\u001b[0;34m(\u001b[0m\u001b[0;36m1\u001b[0m\u001b[0;34m/\u001b[0m\u001b[0;36m2\u001b[0m\u001b[0;34m)\u001b[0m\u001b[0;34m*\u001b[0m\u001b[0mv\u001b[0m\u001b[0;34m[\u001b[0m\u001b[0;34m:\u001b[0m\u001b[0;34m-\u001b[0m\u001b[0;36m2\u001b[0m\u001b[0;34m]\u001b[0m\u001b[0;34m)\u001b[0m\u001b[0;34m\u001b[0m\u001b[0;34m\u001b[0m\u001b[0m\n\u001b[0m\u001b[1;32m     13\u001b[0m \u001b[0md2\u001b[0m\u001b[0;34m[\u001b[0m\u001b[0;36m1\u001b[0m\u001b[0;34m:\u001b[0m\u001b[0;34m-\u001b[0m\u001b[0;36m1\u001b[0m\u001b[0;34m]\u001b[0m\u001b[0;34m=\u001b[0m\u001b[0;34m(\u001b[0m\u001b[0;36m1\u001b[0m\u001b[0;34m+\u001b[0m\u001b[0;34m(\u001b[0m\u001b[0mdt\u001b[0m\u001b[0;34m/\u001b[0m\u001b[0mdx\u001b[0m\u001b[0;34m)\u001b[0m\u001b[0;34m*\u001b[0m\u001b[0;34m(\u001b[0m\u001b[0;36m0.5\u001b[0m\u001b[0;34m*\u001b[0m\u001b[0mv\u001b[0m\u001b[0;34m[\u001b[0m\u001b[0;36m1\u001b[0m\u001b[0;34m:\u001b[0m\u001b[0;34m-\u001b[0m\u001b[0;36m1\u001b[0m\u001b[0;34m]\u001b[0m\u001b[0;34m+\u001b[0m\u001b[0;36m0.25\u001b[0m\u001b[0;34m*\u001b[0m\u001b[0mv\u001b[0m\u001b[0;34m[\u001b[0m\u001b[0;36m2\u001b[0m\u001b[0;34m:\u001b[0m\u001b[0;34m]\u001b[0m\u001b[0;34m+\u001b[0m\u001b[0;36m0.25\u001b[0m\u001b[0;34m*\u001b[0m\u001b[0mv\u001b[0m\u001b[0;34m[\u001b[0m\u001b[0;36m1\u001b[0m\u001b[0;34m:\u001b[0m\u001b[0;34m-\u001b[0m\u001b[0;36m1\u001b[0m\u001b[0;34m]\u001b[0m\u001b[0;34m-\u001b[0m\u001b[0;36m0.5\u001b[0m\u001b[0;34m*\u001b[0m\u001b[0mv\u001b[0m\u001b[0;34m[\u001b[0m\u001b[0;36m1\u001b[0m\u001b[0;34m:\u001b[0m\u001b[0;34m-\u001b[0m\u001b[0;36m1\u001b[0m\u001b[0;34m]\u001b[0m\u001b[0;34m+\u001b[0m\u001b[0;36m0.25\u001b[0m\u001b[0;34m*\u001b[0m\u001b[0mv\u001b[0m\u001b[0;34m[\u001b[0m\u001b[0;36m1\u001b[0m\u001b[0;34m:\u001b[0m\u001b[0;34m-\u001b[0m\u001b[0;36m1\u001b[0m\u001b[0;34m]\u001b[0m\u001b[0;34m+\u001b[0m\u001b[0;36m0.25\u001b[0m\u001b[0;34m*\u001b[0m\u001b[0mv\u001b[0m\u001b[0;34m[\u001b[0m\u001b[0;34m:\u001b[0m\u001b[0;34m-\u001b[0m\u001b[0;36m2\u001b[0m\u001b[0;34m]\u001b[0m\u001b[0;34m)\u001b[0m\u001b[0;34m)\u001b[0m\u001b[0;34m\u001b[0m\u001b[0;34m\u001b[0m\u001b[0m\n\u001b[1;32m     14\u001b[0m \u001b[0md3\u001b[0m\u001b[0;34m[\u001b[0m\u001b[0;36m2\u001b[0m\u001b[0;34m:\u001b[0m\u001b[0;34m]\u001b[0m\u001b[0;34m=\u001b[0m\u001b[0;36m3\u001b[0m\u001b[0;31m#-(dt*graddif/(2*dx)+dt*dif[1:-1]/(dx**2))+dt*(avP/(2*dx)-vi[2:]/(2*dx))\u001b[0m\u001b[0;34m\u001b[0m\u001b[0;34m\u001b[0m\u001b[0m\n",
      "\u001b[0;31mNameError\u001b[0m: name 'v' is not defined"
     ]
    }
   ],
   "source": [
    "#def SparseImplicitOp(dx,dt,vi,k1=-1,k2=0,k3=1):\n",
    "k1=-1;k2=0;k3=1\n",
    "import numpy as np\n",
    "import sys\n",
    "import scipy.sparse.linalg as la\n",
    "import scipy.sparse as sparse\n",
    "vx=np.ones(5)\n",
    "nx=vx.size\n",
    "d1=np.zeros((nx),float)\n",
    "d2=np.ones((nx),float)\n",
    "d3=np.zeros((nx),float)\n",
    "d1[:-2]=-(dt/dx)*((1/4)*v[:-2]+(1/4)*v[1:-1]-(1/2)*v[:-2])\n",
    "d2[1:-1]=(1+(dt/dx)*(0.5*v[1:-1]+0.25*v[2:]+0.25*v[1:-1]-0.5*v[1:-1]+0.25*v[1:-1]+0.25*v[:-2]))\n",
    "d3[2:]=3#-(dt*graddif/(2*dx)+dt*dif[1:-1]/(dx**2))+dt*(avP/(2*dx)-vi[2:]/(2*dx))\n",
    "#return (sparse.dia_matrix(([d1,d2,d3],[k1,k2,k3]),shape=(nx,nx)).tocsc() )\n",
    "sparse.dia_matrix(([d1,d2,d3],[k1,k2,k3]),shape=(nx,nx)).tocsc().todense()"
   ]
  },
  {
   "cell_type": "code",
   "execution_count": null,
   "metadata": {},
   "outputs": [],
   "source": [
    "import numpy as np\n",
    "def SparseContinuityOperator22(dt,dx,vi,k1=-1,k2=0,k3=1):\n",
    "    nx=vi.size\n",
    "    d1=np.zeros((nx),float)\n",
    "    d2=np.ones((nx),float)\n",
    "    d3=np.zeros((nx),float)\n",
    "    d1[:-2]=(dt/dx)*(0.75*vi[:-2]+0.25*vi[1:-1])\n",
    "    d2[1:-1]=(1-(dt/dx)*(0.25*vi[:-2]+0.5*vi[1:-1]+0.25*vi[2:]))\n",
    "    d3[2:]=(dt/dx)*(0.25*vi[1:-1]-0.25*vi[2:])\n",
    "    return (sparse.dia_matrix(([d1,d2,d3],[k1,k2,k3]),shape=(nx,nx)).tocsc() )\n"
   ]
  },
  {
   "cell_type": "code",
   "execution_count": null,
   "metadata": {},
   "outputs": [],
   "source": [
    "def SparseContinuityOperator(dx,dt,vi,k1=-1,k2=0,k3=1):\n",
    "    nx=vi.size\n",
    "    d1=np.zeros((nx),float)\n",
    "    d2=np.ones((nx),float)\n",
    "    d3=np.zeros((nx),float)\n",
    "    avM=0.5*(vi[:-2]+vi[1:-1])\n",
    "    avP=0.5*(vi[1:-1]+vi[2:])\n",
    "    d1[:-2]=dt*avM/(2*dx)+dt*vi[0:-2]/(2*dx)\n",
    "    d2[1:-1]=dt*(-avM/(2*dx)+vi[1:-1]/(2*dx)-avP/(2*dx)-vi[1:-1]/(2*dx))\n",
    "    d3[2:]=dt*(avP/(2*dx)-vi[2:]/(2*dx))\n",
    "    return (sparse.dia_matrix(([d1,d2,d3],[k1,k2,k3]),shape=(nx,nx)).tocsc() )\n"
   ]
  },
  {
   "cell_type": "code",
   "execution_count": null,
   "metadata": {},
   "outputs": [],
   "source": [
    "print(difOperatorElectron1.todense())"
   ]
  },
  {
   "cell_type": "code",
   "execution_count": null,
   "metadata": {},
   "outputs": [],
   "source": [
    "def SparseContinuityOperator22(dt,dx,vi,k1=-1,k2=0,k3=1):\n",
    "    nx=vi.size\n",
    "    d1=np.zeros((nx),float)\n",
    "    d2=np.ones((nx),float)\n",
    "    d3=np.zeros((nx),float)\n",
    "    d1[:-2]=(dt/dx)*(-0.75*vi[:-2]-0.25*vi[1:-1])\n",
    "    d2[1:-1]=(1+(dt/dx)*(0.25*vi[:-2]+0.5*vi[1:-1]+0.25*vi[2:]))\n",
    "    d3[2:]=(dt/dx)*(0.25*vi[1:-1]-0.25*vi[2:])\n",
    "    return (sparse.dia_matrix(([d1,d2,d3],[k1,k2,k3]),shape=(nx,nx)).tocsc() )"
   ]
  },
  {
   "cell_type": "code",
   "execution_count": null,
   "metadata": {},
   "outputs": [],
   "source": [
    "timesteps=1000\n",
    "dx=width/spacegrid\n",
    "xx=np.arange(spacegrid)\n",
    "dt=simulationtime/timesteps\n",
    "rhoFxVar=np.zeros((timesteps,spacegrid),float)\n",
    "rhoFxVar[0,300:600]=10\n",
    "velocitygrid=10+0*np.ones(spacegrid)\n",
    "difOperatorElectron1=SparseContinuityOperator22(dt,dx,veolcitygrid)\n",
    "plt.plot(velocitygrid)\n",
    "plt.show()\n",
    "print(difOperatorElectron1.todense())\n",
    "print(rhoFxVar.shape)\n",
    "plt.plot(rhoFxVar[0])\n",
    "for t in range(timesteps-1):\n",
    "    rhoFxVar[t+1,1:-1]=la.spsolve(difOperatorElectron1,rhoFxVar[t])[1:-1].copy()\n",
    "    plt.plot(rhoFxVar[t+1])\n",
    "    plt.show()\n",
    "#anim = animation.FuncAnimation(fig, animate, fargs=(rhoFxVar[:,1:-1],xx[1:-1],10,), init_func=init,frames=100, interval=20, blit=True)\n",
    "#anim.save('continuity.gif', writer='imagemagick')\n",
    "#Image(url='continuity.gif')"
   ]
  },
  {
   "cell_type": "markdown",
   "metadata": {},
   "source": [
    "## Flux Corrected Transport"
   ]
  },
  {
   "cell_type": "markdown",
   "metadata": {},
   "source": [
    "## Implicit Flux Corrected Transport"
   ]
  }
 ],
 "metadata": {
  "kernelspec": {
   "display_name": "Python 3",
   "language": "python",
   "name": "python3"
  },
  "language_info": {
   "codemirror_mode": {
    "name": "ipython",
    "version": 3
   },
   "file_extension": ".py",
   "mimetype": "text/x-python",
   "name": "python",
   "nbconvert_exporter": "python",
   "pygments_lexer": "ipython3",
   "version": "3.8.8"
  }
 },
 "nbformat": 4,
 "nbformat_minor": 4
}
