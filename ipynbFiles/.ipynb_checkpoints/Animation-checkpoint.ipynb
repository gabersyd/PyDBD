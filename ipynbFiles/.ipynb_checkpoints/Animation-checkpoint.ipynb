{
 "cells": [
  {
   "cell_type": "code",
   "execution_count": 3,
   "metadata": {},
   "outputs": [
    {
     "name": "stdout",
     "output_type": "stream",
     "text": [
      "This graph is a intentionally left blank. We will use it to make animation in the later part of the program\n"
     ]
    },
    {
     "name": "stderr",
     "output_type": "stream",
     "text": [
      "/usr/local/lib/python3.6/dist-packages/matplotlib/axes/_base.py:3443: UserWarning: Attempting to set identical bottom==top results\n",
      "in singular transformations; automatically expanding.\n",
      "bottom=0.0, top=0.0\n",
      "  'bottom=%s, top=%s') % (bottom, top))\n"
     ]
    },
    {
     "data": {
      "text/html": [
       "<img src=\"upwind44.gif\"/>"
      ],
      "text/plain": [
       "<IPython.core.display.Image object>"
      ]
     },
     "execution_count": 3,
     "metadata": {},
     "output_type": "execute_result"
    },
    {
     "data": {
      "image/png": "[encoded data removed]",
      "text/plain": [
       "<Figure size 432x288 with 1 Axes>"
      ]
     },
     "metadata": {},
     "output_type": "display_data"
    }
   ],
   "source": [
    "## Code to generate GIF image <source = \"http://tiao.io/posts/notebooks/save-matplotlib-animations-as-gifs/\">\n",
    "%matplotlib inline\n",
    "import numpy as np\n",
    "import matplotlib.pyplot as plt\n",
    "from IPython.display import Image\n",
    "\n",
    "from matplotlib import animation, rc\n",
    "from IPython.display import HTML\n",
    "# First set up the figure, the axis, and the plot element we want to animate\n",
    "fig, ax = plt.subplots();\n",
    "\n",
    "\n",
    "ax.set_xlim(( 0, 1000));\n",
    "ax.set_ylim((-0, 10));\n",
    "line, = ax.plot([], [], lw=2);\n",
    "\n",
    "def sett(x1,x2,y1,y2):\n",
    "    ax.set_xlim(( x1,x2));\n",
    "    ax.set_ylim((y1, y2));\n",
    "    line, = ax.plot([], [], lw=2);\n",
    "\n",
    "# initialization function: plot the background of each frame\n",
    "def init():\n",
    "    line.set_data([], [])\n",
    "    return (line,)\n",
    "\n",
    "# animation function. This is called sequentially\n",
    "def animate(i,rho,xx,step):\n",
    "    x = xx\n",
    "    rr=step*i\n",
    "    y = rho[rr]\n",
    "    sett(xx.min(),xx.max(),rho[rr].min(),rho[rr].max())\n",
    "    line.set_data(x, y)\n",
    "    return (line,)\n",
    "print(\"This graph is a intentionally left blank. We will use it to make animation in the later part of the program\")\n",
    "\n",
    "\n",
    "spacegrid=1000\n",
    "width=1.0\n",
    "xx=np.arange(spacegrid)\n",
    "timesteps=1000\n",
    "simulationtime=1.0\n",
    "velocity=1.0\n",
    "dt=simulationtime/timesteps\n",
    "dx=width/spacegrid\n",
    "rho=np.zeros((timesteps,spacegrid),float)\n",
    "rho[0,30:300]=10\n",
    "veolcitygrid=velocity*np.ones(spacegrid)\n",
    "\n",
    "timesteps=1000\n",
    "simulationtime=1.0\n",
    "velocity=1.0\n",
    "dt=simulationtime/timesteps\n",
    "velocitygrid=10*np.sin(xx/320)\n",
    "zeromatrix=np.zeros((spacegrid),float)\n",
    "rhoupwind=np.zeros((timesteps,spacegrid+2),float)\n",
    "rhoupwind[0,400:600]=10\n",
    "for t in range(timesteps-1):\n",
    "    aplus=np.maximum(zeromatrix,veolcitygrid)\n",
    "    aminus=np.minimum(zeromatrix,veolcitygrid)\n",
    "    rhoplus=(rhoupwind[t,2:]-rhoupwind[t,1:-1])/dx\n",
    "    rhominus=(rhoupwind[t,1:-1]-rhoupwind[t,:-2])/dx\n",
    "    rhoupwind[t+1,1:-1]=rhoupwind[t,1:-1]-dt*(aplus*rhominus+aminus*rhoplus)\n",
    "    #plt.plot(rhoupwind[t+1])\n",
    "    #plt.show()\n",
    "anim = animation.FuncAnimation(fig, animate, fargs=(rhoupwind[:,1:-1],xx,10,), init_func=init,frames=100, interval=1, blit=True)\n",
    "anim.save('upwind44.gif', writer='imagemagick', fps=10)\n",
    "Image(url='upwind44.gif')"
   ]
  }
 ],
 "metadata": {
  "kernelspec": {
   "display_name": "Python 3",
   "language": "python",
   "name": "python3"
  },
  "language_info": {
   "codemirror_mode": {
    "name": "ipython",
    "version": 3
   },
   "file_extension": ".py",
   "mimetype": "text/x-python",
   "name": "python",
   "nbconvert_exporter": "python",
   "pygments_lexer": "ipython3",
   "version": "3.6.5"
  }
 },
 "nbformat": 4,
 "nbformat_minor": 2
}
